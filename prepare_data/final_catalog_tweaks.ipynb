{
 "cells": [
  {
   "cell_type": "code",
   "execution_count": 130,
   "metadata": {},
   "outputs": [],
   "source": [
    "import os\n",
    "import pandas as pd\n",
    "\n",
    "from galaxy_datasets.shared import label_metadata"
   ]
  },
  {
   "cell_type": "markdown",
   "metadata": {},
   "source": [
    "- Path tinkering: add galahad locs, optionally use rsync to download from galahad\n",
    "- Add in the GZ DESI volunteer vote columns and ML predictions\n",
    "- Add in the GZ2 volunteer votes\n",
    "\n"
   ]
  },
  {
   "cell_type": "code",
   "execution_count": 131,
   "metadata": {},
   "outputs": [],
   "source": [
    "df = pd.read_csv('data/gz3d_and_gz_desi_matches.csv')"
   ]
  },
  {
   "cell_type": "code",
   "execution_count": 132,
   "metadata": {},
   "outputs": [
    {
     "data": {
      "text/plain": [
       "('593252/593252_2670.fits', '593252/593252_2670.jpg')"
      ]
     },
     "execution_count": 132,
     "metadata": {},
     "output_type": "execute_result"
    }
   ],
   "source": [
    "#  '/share/nas2/walml/galaxy_zoo/decals/dr8/fits/'\n",
    "df['galahad_fits_loc'] = df['brickid'].astype(str) + '/' + df['brickid'].astype(str) + '_' + df['objid'].astype(str) + '.fits'\n",
    "\n",
    "\n",
    "#  '/share/nas2/walml/galaxy_zoo/decals/dr8/jpg/'\n",
    "df['galahad_jpg_loc'] = df['brickid'].astype(str) + '/' + df['brickid'].astype(str) + '_' + df['objid'].astype(str) + '.jpg'\n",
    "\n",
    "df['galahad_fits_loc'][0], df['galahad_jpg_loc'][0]"
   ]
  },
  {
   "cell_type": "code",
   "execution_count": 133,
   "metadata": {},
   "outputs": [],
   "source": [
    "# df['dr8_id'].value_counts()\n",
    "# TODO drop duplicate matches, temporarily\n",
    "df = df.drop_duplicates(subset='dr8_id', keep=False)"
   ]
  },
  {
   "cell_type": "code",
   "execution_count": 134,
   "metadata": {},
   "outputs": [],
   "source": [
    "# with open('data/galahad_fits_to_copy.txt', 'w') as f:\n",
    "#     f.write('\\n'.join(df['galahad_fits_loc']))\n",
    "\n",
    "# with open('data/galahad_jpg_to_copy.txt', 'w') as f:\n",
    "#     f.write('\\n'.join(df['galahad_jpg_loc']))"
   ]
  },
  {
   "cell_type": "code",
   "execution_count": null,
   "metadata": {},
   "outputs": [],
   "source": []
  },
  {
   "cell_type": "code",
   "execution_count": 135,
   "metadata": {},
   "outputs": [],
   "source": [
    "# rsync --files-from data/galahad_fits_to_copy.txt -e 'ssh -A -J walml@external.jb.man.ac.uk' walml@galahad.ast.man.ac.uk:/share/nas2/walml/galaxy_zoo/decals/dr8/fits data/gz_desi/fits"
   ]
  },
  {
   "cell_type": "code",
   "execution_count": 136,
   "metadata": {},
   "outputs": [],
   "source": [
    "# rsync --files-from data/galahad_jpg_to_copy.txt -e 'ssh -A -J walml@external.jb.man.ac.uk' walml@galahad.ast.man.ac.uk:/share/nas2/walml/galaxy_zoo/decals/dr8/jpg data/gz_desi/jpg"
   ]
  },
  {
   "cell_type": "code",
   "execution_count": 137,
   "metadata": {},
   "outputs": [],
   "source": [
    "df['relative_desi_fits_loc'] = 'data/desi/fits/' + df['brickid'].astype(str) + '/' + df['brickid'].astype(str) + '_' + df['objid'].astype(str) + '.fits'\n",
    "df['relative_desi_jpg_loc'] = 'data/desi/jpg/' + df['brickid'].astype(str) + '/' + df['brickid'].astype(str) + '_' + df['objid'].astype(str) + '.jpg'"
   ]
  },
  {
   "cell_type": "code",
   "execution_count": 138,
   "metadata": {},
   "outputs": [],
   "source": [
    "df['relative_segmap_json_loc'] = df['relative_gz3d_fits_loc'].str.replace('/fits_gz/', '/segmaps/marks/', regex=False).str.replace('.fits.gz', '.json', regex=False)"
   ]
  },
  {
   "cell_type": "code",
   "execution_count": 139,
   "metadata": {},
   "outputs": [],
   "source": [
    "df['relative_spiral_mask_loc'] = df['relative_gz3d_fits_loc'].apply(lambda x: x.replace('/fits_gz/', '/segmaps/masks_constnorm/').replace('.fits.gz', '_spiral.jpg'))\n",
    "df['relative_bar_mask_loc'] = df['relative_gz3d_fits_loc'].apply(lambda x: x.replace('/fits_gz/', '/segmaps/masks_constnorm/').replace('.fits.gz', '_bar.jpg'))"
   ]
  },
  {
   "cell_type": "code",
   "execution_count": 140,
   "metadata": {},
   "outputs": [
    {
     "data": {
      "text/plain": [
       "'data/gz3d/segmaps/masks_constnorm/gz3d_1-379196_127_14728482_spiral.jpg'"
      ]
     },
     "execution_count": 140,
     "metadata": {},
     "output_type": "execute_result"
    }
   ],
   "source": [
    "df['relative_spiral_mask_loc'][0]"
   ]
  },
  {
   "cell_type": "code",
   "execution_count": 141,
   "metadata": {},
   "outputs": [
    {
     "data": {
      "text/plain": [
       "28983"
      ]
     },
     "execution_count": 141,
     "metadata": {},
     "output_type": "execute_result"
    }
   ],
   "source": [
    "len(df)"
   ]
  },
  {
   "cell_type": "code",
   "execution_count": 142,
   "metadata": {},
   "outputs": [
    {
     "data": {
      "text/plain": [
       "28983"
      ]
     },
     "execution_count": 142,
     "metadata": {},
     "output_type": "execute_result"
    }
   ],
   "source": [
    "df = df[df['relative_gz3d_fits_loc'].apply(lambda x: os.path.isfile(x))]\n",
    "len(df)"
   ]
  },
  {
   "cell_type": "code",
   "execution_count": 143,
   "metadata": {},
   "outputs": [],
   "source": [
    "# add GZ DESI votes themselves\n",
    "\n",
    "desi_vote_locs = [\n",
    "    '/Volumes/beta/galaxy_zoo/decals/dr8/catalogs/training_catalogs/dr12_ortho_v5_labelled_catalog.parquet',\n",
    "    '/Volumes/beta/galaxy_zoo/decals/dr8/catalogs/training_catalogs/dr5_ortho_v5_labelled_catalog.parquet',\n",
    "    '/Volumes/beta/galaxy_zoo/decals/dr8/catalogs/training_catalogs/dr8_ortho_v5_labelled_catalog.parquet',\n",
    "]\n",
    "\n",
    "columns = [\n",
    "    'dr8_id',\n",
    "] + label_metadata.decals_all_campaigns_ortho_label_cols\n",
    "gz_desi_votes = pd.concat([pd.read_parquet(loc, columns=columns) for loc in desi_vote_locs])\n",
    "\n",
    "df = pd.merge(df, gz_desi_votes, on='dr8_id', validate='one_to_one', how='outer')\n",
    "# left, because some have no votes (about half, 14k of 29k have votes)\n",
    "# now outer, because we want to learn to classify as usual\n",
    "df[label_metadata.decals_all_campaigns_ortho_label_cols] = df[label_metadata.decals_all_campaigns_ortho_label_cols].fillna(0)\n",
    "\n"
   ]
  },
  {
   "cell_type": "code",
   "execution_count": 144,
   "metadata": {},
   "outputs": [],
   "source": [
    "# add GZ DESI vote predictions (just for filtering)\n",
    "\n",
    "columns = [\n",
    "    'dr8_id',\n",
    "    'ra',  # from desi master catalog\n",
    "    'dec',\n",
    "    'smooth-or-featured_featured-or-disk_fraction',\n",
    "    'disk-edge-on_yes_fraction',\n",
    "    'has-spiral-arms_yes_fraction',\n",
    "    'spiral-arm-count_2_fraction'\n",
    "]\n",
    "gz_desi_preds = pd.read_parquet(\n",
    "    '/Users/user/repos/desi-predictions/results/final/gz_desi_deep_learning_catalog_advanced.parquet',\n",
    "    columns=columns\n",
    ")"
   ]
  },
  {
   "cell_type": "code",
   "execution_count": 145,
   "metadata": {},
   "outputs": [],
   "source": [
    "gz_desi_preds['brickid'] = gz_desi_preds['dr8_id'].apply(lambda x: x.split('_')[0])\n",
    "gz_desi_preds['objid'] = gz_desi_preds['dr8_id'].apply(lambda x: x.split('_')[1])\n"
   ]
  },
  {
   "cell_type": "code",
   "execution_count": 146,
   "metadata": {},
   "outputs": [
    {
     "data": {
      "text/plain": [
       "593252_2670    1\n",
       "478644_956     1\n",
       "336244_562     1\n",
       "394180_4638    1\n",
       "372574_3300    1\n",
       "              ..\n",
       "405238_4374    1\n",
       "392674_1727    1\n",
       "420077_1742    1\n",
       "402523_1172    1\n",
       "164230_2200    1\n",
       "Name: dr8_id, Length: 415591, dtype: int64"
      ]
     },
     "execution_count": 146,
     "metadata": {},
     "output_type": "execute_result"
    }
   ],
   "source": [
    "df['dr8_id'].value_counts()"
   ]
  },
  {
   "cell_type": "code",
   "execution_count": 147,
   "metadata": {},
   "outputs": [],
   "source": [
    "del df['brickid']\n",
    "del df['objid']\n",
    "df = pd.merge(df, gz_desi_preds, on='dr8_id', validate='one_to_one', how='inner')"
   ]
  },
  {
   "cell_type": "code",
   "execution_count": 148,
   "metadata": {},
   "outputs": [
    {
     "data": {
      "text/plain": [
       "(0, 0)"
      ]
     },
     "execution_count": 148,
     "metadata": {},
     "output_type": "execute_result"
    }
   ],
   "source": [
    "df['smooth-or-featured_featured-or-disk_fraction'].isna().sum(), df['brickid'].isna().sum()"
   ]
  },
  {
   "cell_type": "code",
   "execution_count": 149,
   "metadata": {},
   "outputs": [
    {
     "data": {
      "text/plain": [
       "415591"
      ]
     },
     "execution_count": 149,
     "metadata": {},
     "output_type": "execute_result"
    }
   ],
   "source": [
    "len(df)"
   ]
  },
  {
   "cell_type": "code",
   "execution_count": 150,
   "metadata": {},
   "outputs": [
    {
     "data": {
      "text/plain": [
       "'/share/nas2/walml/galaxy_zoo/decals/dr8/jpg/593252/593252_2670.jpg'"
      ]
     },
     "execution_count": 150,
     "metadata": {},
     "output_type": "execute_result"
    }
   ],
   "source": [
    "df['galahad_jpg_loc'] = '/share/nas2/walml/galaxy_zoo/decals/dr8/jpg/' + df['brickid'].astype(str) + '/' + df['brickid'].astype(str) + '_' + df['objid'].astype(str) + '.jpg'\n",
    "df['galahad_jpg_loc'].iloc[0]"
   ]
  },
  {
   "cell_type": "code",
   "execution_count": 151,
   "metadata": {},
   "outputs": [],
   "source": [
    "df['relative_spiral_mask_loc'] = df['relative_spiral_mask_loc'].fillna('')\n",
    "df['relative_bar_mask_loc'] = df['relative_bar_mask_loc'].fillna('')"
   ]
  },
  {
   "cell_type": "code",
   "execution_count": 152,
   "metadata": {},
   "outputs": [
    {
     "data": {
      "text/plain": [
       "0.930260761181065"
      ]
     },
     "execution_count": 152,
     "metadata": {},
     "output_type": "execute_result"
    }
   ],
   "source": [
    "((df['relative_spiral_mask_loc'].str.startswith('data/gz3d/segmaps/masks/')) | (df['relative_spiral_mask_loc'] == '')).mean()"
   ]
  },
  {
   "cell_type": "code",
   "execution_count": 153,
   "metadata": {},
   "outputs": [],
   "source": [
    "df['relative_spiral_mask_loc'] = df['relative_spiral_mask_loc'].astype(str)\n",
    "df['relative_bar_mask_loc'] = df['relative_bar_mask_loc'].astype(str)"
   ]
  },
  {
   "cell_type": "code",
   "execution_count": 154,
   "metadata": {},
   "outputs": [],
   "source": [
    "# df.to_parquet('data/gz3d_and_gz_desi_master_catalog.parquet', index=False)"
   ]
  },
  {
   "cell_type": "code",
   "execution_count": 155,
   "metadata": {},
   "outputs": [],
   "source": [
    "# df = pd.read_parquet('data/gz3d_and_gz_desi_master_catalog.parquet')"
   ]
  },
  {
   "cell_type": "code",
   "execution_count": 156,
   "metadata": {},
   "outputs": [
    {
     "data": {
      "text/plain": [
       "array(['dr7objid', 'ra_gz2', 'dec_gz2', 'smooth-or-featured-gz2_smooth',\n",
       "       'smooth-or-featured-gz2_featured-or-disk',\n",
       "       'smooth-or-featured-gz2_artifact', 'disk-edge-on-gz2_yes',\n",
       "       'disk-edge-on-gz2_no', 'bar-gz2_yes', 'bar-gz2_no',\n",
       "       'has-spiral-arms-gz2_yes', 'has-spiral-arms-gz2_no',\n",
       "       'bulge-size-gz2_no', 'bulge-size-gz2_just-noticeable',\n",
       "       'bulge-size-gz2_obvious', 'bulge-size-gz2_dominant',\n",
       "       'something-odd-gz2_yes', 'something-odd-gz2_no',\n",
       "       'how-rounded-gz2_round', 'how-rounded-gz2_in-between',\n",
       "       'how-rounded-gz2_cigar', 'bulge-shape-gz2_round',\n",
       "       'bulge-shape-gz2_boxy', 'bulge-shape-gz2_no-bulge',\n",
       "       'spiral-winding-gz2_tight', 'spiral-winding-gz2_medium',\n",
       "       'spiral-winding-gz2_loose', 'spiral-arm-count-gz2_1',\n",
       "       'spiral-arm-count-gz2_2', 'spiral-arm-count-gz2_3',\n",
       "       'spiral-arm-count-gz2_4', 'spiral-arm-count-gz2_more-than-4',\n",
       "       'spiral-arm-count-gz2_cant-tell',\n",
       "       'smooth-or-featured-gz2_total-votes',\n",
       "       'smooth-or-featured-gz2_smooth_fraction',\n",
       "       'smooth-or-featured-gz2_featured-or-disk_fraction',\n",
       "       'smooth-or-featured-gz2_artifact_fraction',\n",
       "       'disk-edge-on-gz2_total-votes', 'disk-edge-on-gz2_yes_fraction',\n",
       "       'disk-edge-on-gz2_no_fraction', 'has-spiral-arms-gz2_total-votes',\n",
       "       'has-spiral-arms-gz2_yes_fraction',\n",
       "       'has-spiral-arms-gz2_no_fraction', 'bar-gz2_total-votes',\n",
       "       'bar-gz2_yes_fraction', 'bar-gz2_no_fraction',\n",
       "       'bulge-size-gz2_total-votes', 'bulge-size-gz2_dominant_fraction',\n",
       "       'bulge-size-gz2_obvious_fraction',\n",
       "       'bulge-size-gz2_just-noticeable_fraction',\n",
       "       'bulge-size-gz2_no_fraction', 'something-odd-gz2_total-votes',\n",
       "       'something-odd-gz2_yes_fraction', 'something-odd-gz2_no_fraction',\n",
       "       'how-rounded-gz2_total-votes', 'how-rounded-gz2_round_fraction',\n",
       "       'how-rounded-gz2_in-between_fraction',\n",
       "       'how-rounded-gz2_cigar_fraction', 'bulge-shape-gz2_total-votes',\n",
       "       'bulge-shape-gz2_round_fraction', 'bulge-shape-gz2_boxy_fraction',\n",
       "       'bulge-shape-gz2_no-bulge_fraction',\n",
       "       'spiral-winding-gz2_total-votes',\n",
       "       'spiral-winding-gz2_tight_fraction',\n",
       "       'spiral-winding-gz2_medium_fraction',\n",
       "       'spiral-winding-gz2_loose_fraction',\n",
       "       'spiral-arm-count-gz2_total-votes',\n",
       "       'spiral-arm-count-gz2_1_fraction',\n",
       "       'spiral-arm-count-gz2_2_fraction',\n",
       "       'spiral-arm-count-gz2_3_fraction',\n",
       "       'spiral-arm-count-gz2_4_fraction',\n",
       "       'spiral-arm-count-gz2_more-than-4_fraction',\n",
       "       'spiral-arm-count-gz2_cant-tell_fraction', 'best_match',\n",
       "       'sky_separation', 'ra_desi', 'dec_desi', 'dr8_id'], dtype=object)"
      ]
     },
     "execution_count": 156,
     "metadata": {},
     "output_type": "execute_result"
    }
   ],
   "source": [
    "# merge in gz2 matches on dr8_id\n",
    "gz2_desi_matches = pd.read_csv('/Users/user/repos/zoobot-3d/data/gz2_and_gz_desi_matches.csv')\n",
    "gz2_desi_matches.columns.values\n"
   ]
  },
  {
   "cell_type": "code",
   "execution_count": null,
   "metadata": {},
   "outputs": [],
   "source": []
  },
  {
   "cell_type": "code",
   "execution_count": 157,
   "metadata": {},
   "outputs": [],
   "source": [
    "gz2_cols = [col for col in gz2_desi_matches.columns.values if 'gz2' in col] + ['dr8_id']\n",
    "df = pd.merge(df, gz2_desi_matches[gz2_cols], how='left', on='dr8_id')"
   ]
  },
  {
   "cell_type": "code",
   "execution_count": 158,
   "metadata": {},
   "outputs": [],
   "source": [
    "df[label_metadata.gz2_ortho_label_cols] = df[label_metadata.gz2_ortho_label_cols].fillna(0)\n"
   ]
  },
  {
   "cell_type": "code",
   "execution_count": 159,
   "metadata": {},
   "outputs": [
    {
     "data": {
      "text/plain": [
       "0          0.0\n",
       "1         36.0\n",
       "2         31.0\n",
       "3          0.0\n",
       "4         22.0\n",
       "          ... \n",
       "415597     0.0\n",
       "415598     0.0\n",
       "415599     0.0\n",
       "415600     0.0\n",
       "415601     0.0\n",
       "Name: smooth-or-featured-gz2_smooth, Length: 415602, dtype: float64"
      ]
     },
     "execution_count": 159,
     "metadata": {},
     "output_type": "execute_result"
    }
   ],
   "source": [
    "df['smooth-or-featured-gz2_smooth']"
   ]
  },
  {
   "cell_type": "code",
   "execution_count": 160,
   "metadata": {},
   "outputs": [],
   "source": [
    "df.to_parquet('data/gz3d_and_desi_master_catalog.parquet', index=False)  # now with gz2 also"
   ]
  },
  {
   "cell_type": "markdown",
   "metadata": {},
   "source": [
    "Sense check"
   ]
  },
  {
   "cell_type": "code",
   "execution_count": 161,
   "metadata": {},
   "outputs": [],
   "source": [
    "from astropy.io import fits\n",
    "import matplotlib.pyplot as plt\n",
    "import numpy as np\n",
    "from PIL import Image\n",
    "import json"
   ]
  },
  {
   "cell_type": "code",
   "execution_count": 162,
   "metadata": {},
   "outputs": [
    {
     "data": {
      "text/plain": [
       "array(['ra_manga', 'dec_manga', 'mangaid', 'iauname', 'ifudesignsize',\n",
       "       'manga_tileid', 'nsa_id', 'explorer_link',\n",
       "       'gz_total_classifications', 'gz_bar_votes', 'gz_spiral_votes',\n",
       "       'sample', 'relative_gz3d_fits_loc', 'best_match', 'sky_separation',\n",
       "       'ra_desi', 'dec_desi', 'dr8_id', 'mag_r', 'mag_g', 'mag_z',\n",
       "       'est_dr5_pixscale', 'galahad_fits_loc', 'galahad_jpg_loc',\n",
       "       'relative_desi_fits_loc', 'relative_desi_jpg_loc',\n",
       "       'relative_segmap_json_loc', 'relative_spiral_mask_loc',\n",
       "       'relative_bar_mask_loc', 'smooth-or-featured-dr12_smooth',\n",
       "       'smooth-or-featured-dr12_featured-or-disk',\n",
       "       'smooth-or-featured-dr12_artifact', 'disk-edge-on-dr12_yes',\n",
       "       'disk-edge-on-dr12_no', 'has-spiral-arms-dr12_yes',\n",
       "       'has-spiral-arms-dr12_no', 'bar-dr12_yes', 'bar-dr12_no',\n",
       "       'bulge-size-dr12_dominant', 'bulge-size-dr12_obvious',\n",
       "       'bulge-size-dr12_none', 'how-rounded-dr12_completely',\n",
       "       'how-rounded-dr12_in-between', 'how-rounded-dr12_cigar-shaped',\n",
       "       'edge-on-bulge-dr12_boxy', 'edge-on-bulge-dr12_none',\n",
       "       'edge-on-bulge-dr12_rounded', 'spiral-winding-dr12_tight',\n",
       "       'spiral-winding-dr12_medium', 'spiral-winding-dr12_loose',\n",
       "       'spiral-arm-count-dr12_1', 'spiral-arm-count-dr12_2',\n",
       "       'spiral-arm-count-dr12_3', 'spiral-arm-count-dr12_4',\n",
       "       'spiral-arm-count-dr12_more-than-4', 'merging-dr12_neither',\n",
       "       'merging-dr12_tidal-debris', 'merging-dr12_both',\n",
       "       'merging-dr12_merger', 'smooth-or-featured-dr5_smooth',\n",
       "       'smooth-or-featured-dr5_featured-or-disk',\n",
       "       'smooth-or-featured-dr5_artifact', 'disk-edge-on-dr5_yes',\n",
       "       'disk-edge-on-dr5_no', 'has-spiral-arms-dr5_yes',\n",
       "       'has-spiral-arms-dr5_no', 'bar-dr5_strong', 'bar-dr5_weak',\n",
       "       'bar-dr5_no', 'bulge-size-dr5_dominant', 'bulge-size-dr5_large',\n",
       "       'bulge-size-dr5_moderate', 'bulge-size-dr5_small',\n",
       "       'bulge-size-dr5_none', 'how-rounded-dr5_round',\n",
       "       'how-rounded-dr5_in-between', 'how-rounded-dr5_cigar-shaped',\n",
       "       'edge-on-bulge-dr5_boxy', 'edge-on-bulge-dr5_none',\n",
       "       'edge-on-bulge-dr5_rounded', 'spiral-winding-dr5_tight',\n",
       "       'spiral-winding-dr5_medium', 'spiral-winding-dr5_loose',\n",
       "       'spiral-arm-count-dr5_1', 'spiral-arm-count-dr5_2',\n",
       "       'spiral-arm-count-dr5_3', 'spiral-arm-count-dr5_4',\n",
       "       'spiral-arm-count-dr5_more-than-4',\n",
       "       'spiral-arm-count-dr5_cant-tell', 'merging-dr5_none',\n",
       "       'merging-dr5_minor-disturbance', 'merging-dr5_major-disturbance',\n",
       "       'merging-dr5_merger', 'smooth-or-featured-dr8_smooth',\n",
       "       'smooth-or-featured-dr8_featured-or-disk',\n",
       "       'smooth-or-featured-dr8_artifact', 'disk-edge-on-dr8_yes',\n",
       "       'disk-edge-on-dr8_no', 'has-spiral-arms-dr8_yes',\n",
       "       'has-spiral-arms-dr8_no', 'bar-dr8_strong', 'bar-dr8_weak',\n",
       "       'bar-dr8_no', 'bulge-size-dr8_dominant', 'bulge-size-dr8_large',\n",
       "       'bulge-size-dr8_moderate', 'bulge-size-dr8_small',\n",
       "       'bulge-size-dr8_none', 'how-rounded-dr8_round',\n",
       "       'how-rounded-dr8_in-between', 'how-rounded-dr8_cigar-shaped',\n",
       "       'edge-on-bulge-dr8_boxy', 'edge-on-bulge-dr8_none',\n",
       "       'edge-on-bulge-dr8_rounded', 'spiral-winding-dr8_tight',\n",
       "       'spiral-winding-dr8_medium', 'spiral-winding-dr8_loose',\n",
       "       'spiral-arm-count-dr8_1', 'spiral-arm-count-dr8_2',\n",
       "       'spiral-arm-count-dr8_3', 'spiral-arm-count-dr8_4',\n",
       "       'spiral-arm-count-dr8_more-than-4',\n",
       "       'spiral-arm-count-dr8_cant-tell', 'merging-dr8_none',\n",
       "       'merging-dr8_minor-disturbance', 'merging-dr8_major-disturbance',\n",
       "       'merging-dr8_merger', 'ra', 'dec',\n",
       "       'smooth-or-featured_featured-or-disk_fraction',\n",
       "       'disk-edge-on_yes_fraction', 'has-spiral-arms_yes_fraction',\n",
       "       'spiral-arm-count_2_fraction', 'brickid', 'objid', 'ra_gz2',\n",
       "       'dec_gz2', 'smooth-or-featured-gz2_smooth',\n",
       "       'smooth-or-featured-gz2_featured-or-disk',\n",
       "       'smooth-or-featured-gz2_artifact', 'disk-edge-on-gz2_yes',\n",
       "       'disk-edge-on-gz2_no', 'bar-gz2_yes', 'bar-gz2_no',\n",
       "       'has-spiral-arms-gz2_yes', 'has-spiral-arms-gz2_no',\n",
       "       'bulge-size-gz2_no', 'bulge-size-gz2_just-noticeable',\n",
       "       'bulge-size-gz2_obvious', 'bulge-size-gz2_dominant',\n",
       "       'something-odd-gz2_yes', 'something-odd-gz2_no',\n",
       "       'how-rounded-gz2_round', 'how-rounded-gz2_in-between',\n",
       "       'how-rounded-gz2_cigar', 'bulge-shape-gz2_round',\n",
       "       'bulge-shape-gz2_boxy', 'bulge-shape-gz2_no-bulge',\n",
       "       'spiral-winding-gz2_tight', 'spiral-winding-gz2_medium',\n",
       "       'spiral-winding-gz2_loose', 'spiral-arm-count-gz2_1',\n",
       "       'spiral-arm-count-gz2_2', 'spiral-arm-count-gz2_3',\n",
       "       'spiral-arm-count-gz2_4', 'spiral-arm-count-gz2_more-than-4',\n",
       "       'spiral-arm-count-gz2_cant-tell',\n",
       "       'smooth-or-featured-gz2_total-votes',\n",
       "       'smooth-or-featured-gz2_smooth_fraction',\n",
       "       'smooth-or-featured-gz2_featured-or-disk_fraction',\n",
       "       'smooth-or-featured-gz2_artifact_fraction',\n",
       "       'disk-edge-on-gz2_total-votes', 'disk-edge-on-gz2_yes_fraction',\n",
       "       'disk-edge-on-gz2_no_fraction', 'has-spiral-arms-gz2_total-votes',\n",
       "       'has-spiral-arms-gz2_yes_fraction',\n",
       "       'has-spiral-arms-gz2_no_fraction', 'bar-gz2_total-votes',\n",
       "       'bar-gz2_yes_fraction', 'bar-gz2_no_fraction',\n",
       "       'bulge-size-gz2_total-votes', 'bulge-size-gz2_dominant_fraction',\n",
       "       'bulge-size-gz2_obvious_fraction',\n",
       "       'bulge-size-gz2_just-noticeable_fraction',\n",
       "       'bulge-size-gz2_no_fraction', 'something-odd-gz2_total-votes',\n",
       "       'something-odd-gz2_yes_fraction', 'something-odd-gz2_no_fraction',\n",
       "       'how-rounded-gz2_total-votes', 'how-rounded-gz2_round_fraction',\n",
       "       'how-rounded-gz2_in-between_fraction',\n",
       "       'how-rounded-gz2_cigar_fraction', 'bulge-shape-gz2_total-votes',\n",
       "       'bulge-shape-gz2_round_fraction', 'bulge-shape-gz2_boxy_fraction',\n",
       "       'bulge-shape-gz2_no-bulge_fraction',\n",
       "       'spiral-winding-gz2_total-votes',\n",
       "       'spiral-winding-gz2_tight_fraction',\n",
       "       'spiral-winding-gz2_medium_fraction',\n",
       "       'spiral-winding-gz2_loose_fraction',\n",
       "       'spiral-arm-count-gz2_total-votes',\n",
       "       'spiral-arm-count-gz2_1_fraction',\n",
       "       'spiral-arm-count-gz2_2_fraction',\n",
       "       'spiral-arm-count-gz2_3_fraction',\n",
       "       'spiral-arm-count-gz2_4_fraction',\n",
       "       'spiral-arm-count-gz2_more-than-4_fraction',\n",
       "       'spiral-arm-count-gz2_cant-tell_fraction'], dtype=object)"
      ]
     },
     "execution_count": 162,
     "metadata": {},
     "output_type": "execute_result"
    }
   ],
   "source": [
    "df.columns.values"
   ]
  },
  {
   "cell_type": "code",
   "execution_count": 163,
   "metadata": {},
   "outputs": [
    {
     "data": {
      "text/plain": [
       "0         data/gz3d/segmaps/masks_constnorm/gz3d_1-37919...\n",
       "1         data/gz3d/segmaps/masks_constnorm/gz3d_1-12258...\n",
       "2         data/gz3d/segmaps/masks_constnorm/gz3d_1-41308...\n",
       "3         data/gz3d/segmaps/masks_constnorm/gz3d_1-37002...\n",
       "4         data/gz3d/segmaps/masks_constnorm/gz3d_1-47213...\n",
       "                                ...                        \n",
       "415597                                                     \n",
       "415598                                                     \n",
       "415599                                                     \n",
       "415600                                                     \n",
       "415601                                                     \n",
       "Name: relative_spiral_mask_loc, Length: 415602, dtype: object"
      ]
     },
     "execution_count": 163,
     "metadata": {},
     "output_type": "execute_result"
    }
   ],
   "source": [
    "df['relative_spiral_mask_loc']"
   ]
  },
  {
   "cell_type": "code",
   "execution_count": 164,
   "metadata": {},
   "outputs": [],
   "source": [
    "df['spiral_mask_exists'] = df['relative_spiral_mask_loc'].apply(os.path.isfile)"
   ]
  },
  {
   "cell_type": "code",
   "execution_count": 165,
   "metadata": {},
   "outputs": [
    {
     "data": {
      "text/html": [
       "<div>\n",
       "<style scoped>\n",
       "    .dataframe tbody tr th:only-of-type {\n",
       "        vertical-align: middle;\n",
       "    }\n",
       "\n",
       "    .dataframe tbody tr th {\n",
       "        vertical-align: top;\n",
       "    }\n",
       "\n",
       "    .dataframe thead th {\n",
       "        text-align: right;\n",
       "    }\n",
       "</style>\n",
       "<table border=\"1\" class=\"dataframe\">\n",
       "  <thead>\n",
       "    <tr style=\"text-align: right;\">\n",
       "      <th></th>\n",
       "      <th>gz_total_classifications</th>\n",
       "      <th>gz_spiral_votes</th>\n",
       "      <th>smooth-or-featured-dr5_featured-or-disk</th>\n",
       "      <th>smooth-or-featured_featured-or-disk_fraction</th>\n",
       "    </tr>\n",
       "  </thead>\n",
       "  <tbody>\n",
       "    <tr>\n",
       "      <th>0</th>\n",
       "      <td>0.0</td>\n",
       "      <td>0.0</td>\n",
       "      <td>0.0</td>\n",
       "      <td>0.156200</td>\n",
       "    </tr>\n",
       "    <tr>\n",
       "      <th>9</th>\n",
       "      <td>0.0</td>\n",
       "      <td>0.0</td>\n",
       "      <td>0.0</td>\n",
       "      <td>0.229812</td>\n",
       "    </tr>\n",
       "    <tr>\n",
       "      <th>12</th>\n",
       "      <td>39.0</td>\n",
       "      <td>14.0</td>\n",
       "      <td>0.0</td>\n",
       "      <td>0.740266</td>\n",
       "    </tr>\n",
       "    <tr>\n",
       "      <th>28</th>\n",
       "      <td>0.0</td>\n",
       "      <td>0.0</td>\n",
       "      <td>0.0</td>\n",
       "      <td>0.415201</td>\n",
       "    </tr>\n",
       "    <tr>\n",
       "      <th>29</th>\n",
       "      <td>0.0</td>\n",
       "      <td>0.0</td>\n",
       "      <td>0.0</td>\n",
       "      <td>0.737831</td>\n",
       "    </tr>\n",
       "    <tr>\n",
       "      <th>32</th>\n",
       "      <td>34.0</td>\n",
       "      <td>13.0</td>\n",
       "      <td>0.0</td>\n",
       "      <td>0.914805</td>\n",
       "    </tr>\n",
       "    <tr>\n",
       "      <th>43</th>\n",
       "      <td>25.0</td>\n",
       "      <td>22.0</td>\n",
       "      <td>5.0</td>\n",
       "      <td>0.931651</td>\n",
       "    </tr>\n",
       "    <tr>\n",
       "      <th>48</th>\n",
       "      <td>38.0</td>\n",
       "      <td>25.0</td>\n",
       "      <td>0.0</td>\n",
       "      <td>0.932700</td>\n",
       "    </tr>\n",
       "    <tr>\n",
       "      <th>50</th>\n",
       "      <td>44.0</td>\n",
       "      <td>12.0</td>\n",
       "      <td>0.0</td>\n",
       "      <td>0.832121</td>\n",
       "    </tr>\n",
       "    <tr>\n",
       "      <th>53</th>\n",
       "      <td>39.0</td>\n",
       "      <td>12.0</td>\n",
       "      <td>0.0</td>\n",
       "      <td>0.856912</td>\n",
       "    </tr>\n",
       "    <tr>\n",
       "      <th>62</th>\n",
       "      <td>60.0</td>\n",
       "      <td>25.0</td>\n",
       "      <td>0.0</td>\n",
       "      <td>0.878691</td>\n",
       "    </tr>\n",
       "    <tr>\n",
       "      <th>64</th>\n",
       "      <td>47.0</td>\n",
       "      <td>45.0</td>\n",
       "      <td>0.0</td>\n",
       "      <td>0.906730</td>\n",
       "    </tr>\n",
       "    <tr>\n",
       "      <th>68</th>\n",
       "      <td>77.0</td>\n",
       "      <td>46.0</td>\n",
       "      <td>2.0</td>\n",
       "      <td>0.776809</td>\n",
       "    </tr>\n",
       "    <tr>\n",
       "      <th>81</th>\n",
       "      <td>41.0</td>\n",
       "      <td>12.0</td>\n",
       "      <td>3.0</td>\n",
       "      <td>0.662228</td>\n",
       "    </tr>\n",
       "    <tr>\n",
       "      <th>85</th>\n",
       "      <td>45.0</td>\n",
       "      <td>41.0</td>\n",
       "      <td>0.0</td>\n",
       "      <td>0.933321</td>\n",
       "    </tr>\n",
       "    <tr>\n",
       "      <th>94</th>\n",
       "      <td>43.0</td>\n",
       "      <td>9.0</td>\n",
       "      <td>0.0</td>\n",
       "      <td>0.778502</td>\n",
       "    </tr>\n",
       "    <tr>\n",
       "      <th>95</th>\n",
       "      <td>74.0</td>\n",
       "      <td>66.0</td>\n",
       "      <td>0.0</td>\n",
       "      <td>0.944559</td>\n",
       "    </tr>\n",
       "    <tr>\n",
       "      <th>100</th>\n",
       "      <td>55.0</td>\n",
       "      <td>11.0</td>\n",
       "      <td>5.0</td>\n",
       "      <td>0.861097</td>\n",
       "    </tr>\n",
       "    <tr>\n",
       "      <th>101</th>\n",
       "      <td>43.0</td>\n",
       "      <td>12.0</td>\n",
       "      <td>0.0</td>\n",
       "      <td>0.819855</td>\n",
       "    </tr>\n",
       "    <tr>\n",
       "      <th>104</th>\n",
       "      <td>34.0</td>\n",
       "      <td>12.0</td>\n",
       "      <td>0.0</td>\n",
       "      <td>0.920951</td>\n",
       "    </tr>\n",
       "    <tr>\n",
       "      <th>105</th>\n",
       "      <td>46.0</td>\n",
       "      <td>12.0</td>\n",
       "      <td>78.0</td>\n",
       "      <td>0.903561</td>\n",
       "    </tr>\n",
       "    <tr>\n",
       "      <th>108</th>\n",
       "      <td>106.0</td>\n",
       "      <td>72.0</td>\n",
       "      <td>37.0</td>\n",
       "      <td>0.894650</td>\n",
       "    </tr>\n",
       "    <tr>\n",
       "      <th>111</th>\n",
       "      <td>86.0</td>\n",
       "      <td>48.0</td>\n",
       "      <td>38.0</td>\n",
       "      <td>0.909769</td>\n",
       "    </tr>\n",
       "    <tr>\n",
       "      <th>121</th>\n",
       "      <td>39.0</td>\n",
       "      <td>12.0</td>\n",
       "      <td>0.0</td>\n",
       "      <td>0.478863</td>\n",
       "    </tr>\n",
       "  </tbody>\n",
       "</table>\n",
       "</div>"
      ],
      "text/plain": [
       "     gz_total_classifications  gz_spiral_votes  \\\n",
       "0                         0.0              0.0   \n",
       "9                         0.0              0.0   \n",
       "12                       39.0             14.0   \n",
       "28                        0.0              0.0   \n",
       "29                        0.0              0.0   \n",
       "32                       34.0             13.0   \n",
       "43                       25.0             22.0   \n",
       "48                       38.0             25.0   \n",
       "50                       44.0             12.0   \n",
       "53                       39.0             12.0   \n",
       "62                       60.0             25.0   \n",
       "64                       47.0             45.0   \n",
       "68                       77.0             46.0   \n",
       "81                       41.0             12.0   \n",
       "85                       45.0             41.0   \n",
       "94                       43.0              9.0   \n",
       "95                       74.0             66.0   \n",
       "100                      55.0             11.0   \n",
       "101                      43.0             12.0   \n",
       "104                      34.0             12.0   \n",
       "105                      46.0             12.0   \n",
       "108                     106.0             72.0   \n",
       "111                      86.0             48.0   \n",
       "121                      39.0             12.0   \n",
       "\n",
       "     smooth-or-featured-dr5_featured-or-disk  \\\n",
       "0                                        0.0   \n",
       "9                                        0.0   \n",
       "12                                       0.0   \n",
       "28                                       0.0   \n",
       "29                                       0.0   \n",
       "32                                       0.0   \n",
       "43                                       5.0   \n",
       "48                                       0.0   \n",
       "50                                       0.0   \n",
       "53                                       0.0   \n",
       "62                                       0.0   \n",
       "64                                       0.0   \n",
       "68                                       2.0   \n",
       "81                                       3.0   \n",
       "85                                       0.0   \n",
       "94                                       0.0   \n",
       "95                                       0.0   \n",
       "100                                      5.0   \n",
       "101                                      0.0   \n",
       "104                                      0.0   \n",
       "105                                     78.0   \n",
       "108                                     37.0   \n",
       "111                                     38.0   \n",
       "121                                      0.0   \n",
       "\n",
       "     smooth-or-featured_featured-or-disk_fraction  \n",
       "0                                        0.156200  \n",
       "9                                        0.229812  \n",
       "12                                       0.740266  \n",
       "28                                       0.415201  \n",
       "29                                       0.737831  \n",
       "32                                       0.914805  \n",
       "43                                       0.931651  \n",
       "48                                       0.932700  \n",
       "50                                       0.832121  \n",
       "53                                       0.856912  \n",
       "62                                       0.878691  \n",
       "64                                       0.906730  \n",
       "68                                       0.776809  \n",
       "81                                       0.662228  \n",
       "85                                       0.933321  \n",
       "94                                       0.778502  \n",
       "95                                       0.944559  \n",
       "100                                      0.861097  \n",
       "101                                      0.819855  \n",
       "104                                      0.920951  \n",
       "105                                      0.903561  \n",
       "108                                      0.894650  \n",
       "111                                      0.909769  \n",
       "121                                      0.478863  "
      ]
     },
     "execution_count": 165,
     "metadata": {},
     "output_type": "execute_result"
    }
   ],
   "source": [
    "df.query('spiral_mask_exists')[['gz_total_classifications', 'gz_spiral_votes', 'smooth-or-featured-dr5_featured-or-disk', 'smooth-or-featured_featured-or-disk_fraction']]"
   ]
  },
  {
   "cell_type": "code",
   "execution_count": 166,
   "metadata": {},
   "outputs": [],
   "source": [
    "# example = df.query('spiral_mask_exists').iloc[0]\n",
    "example = df.query('spiral_mask_exists').loc[108]"
   ]
  },
  {
   "cell_type": "code",
   "execution_count": 167,
   "metadata": {},
   "outputs": [
    {
     "data": {
      "text/plain": [
       "(15, 10)"
      ]
     },
     "execution_count": 167,
     "metadata": {},
     "output_type": "execute_result"
    }
   ],
   "source": [
    "with open(example['relative_segmap_json_loc']) as f:\n",
    "    example_json = json.load(f)\n",
    "len(example_json['spiral_mask']), len([x for x in example_json['spiral_mask'] if len(x) > 0])"
   ]
  },
  {
   "cell_type": "code",
   "execution_count": 168,
   "metadata": {},
   "outputs": [],
   "source": [
    "Image.open(example['relative_desi_jpg_loc']).show()"
   ]
  },
  {
   "cell_type": "code",
   "execution_count": 169,
   "metadata": {},
   "outputs": [],
   "source": [
    "Image.open(example['relative_spiral_mask_loc']).show()"
   ]
  },
  {
   "cell_type": "code",
   "execution_count": 170,
   "metadata": {},
   "outputs": [
    {
     "data": {
      "text/plain": [
       "est_dr5_pixscale                           0.477153\n",
       "smooth-or-featured-dr5_smooth                   1.0\n",
       "smooth-or-featured-dr5_featured-or-disk        37.0\n",
       "smooth-or-featured-dr5_artifact                 2.0\n",
       "disk-edge-on-dr5_yes                            0.0\n",
       "disk-edge-on-dr5_no                            37.0\n",
       "has-spiral-arms-dr5_yes                        37.0\n",
       "has-spiral-arms-dr5_no                          0.0\n",
       "bar-dr5_strong                                  2.0\n",
       "bar-dr5_weak                                    7.0\n",
       "bar-dr5_no                                     28.0\n",
       "bulge-size-dr5_dominant                         0.0\n",
       "bulge-size-dr5_large                            0.0\n",
       "bulge-size-dr5_moderate                         5.0\n",
       "bulge-size-dr5_small                           28.0\n",
       "bulge-size-dr5_none                             4.0\n",
       "how-rounded-dr5_round                           1.0\n",
       "how-rounded-dr5_in-between                      0.0\n",
       "how-rounded-dr5_cigar-shaped                    0.0\n",
       "edge-on-bulge-dr5_boxy                          0.0\n",
       "edge-on-bulge-dr5_none                          0.0\n",
       "edge-on-bulge-dr5_rounded                       0.0\n",
       "spiral-winding-dr5_tight                       22.0\n",
       "spiral-winding-dr5_medium                      13.0\n",
       "spiral-winding-dr5_loose                        2.0\n",
       "spiral-arm-count-dr5_1                          1.0\n",
       "spiral-arm-count-dr5_2                          1.0\n",
       "spiral-arm-count-dr5_3                         17.0\n",
       "spiral-arm-count-dr5_4                          5.0\n",
       "spiral-arm-count-dr5_more-than-4                7.0\n",
       "spiral-arm-count-dr5_cant-tell                  6.0\n",
       "merging-dr5_none                               21.0\n",
       "merging-dr5_minor-disturbance                   7.0\n",
       "merging-dr5_major-disturbance                   2.0\n",
       "merging-dr5_merger                              1.0\n",
       "Name: 108, dtype: object"
      ]
     },
     "execution_count": 170,
     "metadata": {},
     "output_type": "execute_result"
    }
   ],
   "source": [
    "example[[col for col in df.columns.values if 'dr5' in col]]"
   ]
  },
  {
   "cell_type": "code",
   "execution_count": 171,
   "metadata": {},
   "outputs": [
    {
     "data": {
      "image/png": "[encoded data removed]",
      "text/plain": [
       "<Figure size 640x480 with 1 Axes>"
      ]
     },
     "metadata": {},
     "output_type": "display_data"
    }
   ],
   "source": [
    "plt.hist(np.array(Image.open(example['relative_spiral_mask_loc'])).flatten(), bins=50)\n",
    "plt.yscale('log')"
   ]
  },
  {
   "cell_type": "code",
   "execution_count": 172,
   "metadata": {},
   "outputs": [
    {
     "data": {
      "text/plain": [
       "5.529411764705882"
      ]
     },
     "execution_count": 172,
     "metadata": {},
     "output_type": "execute_result"
    }
   ],
   "source": [
    "np.array(Image.open(example['relative_spiral_mask_loc'])).max() * 15 / 255\n",
    "# .show()"
   ]
  },
  {
   "cell_type": "code",
   "execution_count": 174,
   "metadata": {},
   "outputs": [
    {
     "data": {
      "text/plain": [
       "<matplotlib.image.AxesImage at 0x112ca5670>"
      ]
     },
     "execution_count": 174,
     "metadata": {},
     "output_type": "execute_result"
    },
    {
     "data": {
      "image/png": "[encoded data removed]",
      "text/plain": [
       "<Figure size 640x480 with 1 Axes>"
      ]
     },
     "metadata": {},
     "output_type": "display_data"
    }
   ],
   "source": [
    "plt.imshow(fits.open(example['relative_gz3d_fits_loc'])[0].data)"
   ]
  },
  {
   "cell_type": "code",
   "execution_count": null,
   "metadata": {},
   "outputs": [],
   "source": []
  },
  {
   "cell_type": "code",
   "execution_count": 176,
   "metadata": {},
   "outputs": [
    {
     "data": {
      "text/plain": [
       "(array([0.03579521, 0.29033892, 0.5249964 , 0.45340589, 0.34602042,\n",
       "        0.35795202, 0.36789528, 0.395736  , 0.42954224, 0.47528093,\n",
       "        0.50511027, 0.60454143, 0.59857556, 0.72783547, 0.80340309,\n",
       "        0.96647162, 1.16334358, 1.27470638, 1.45965056, 2.00055323,\n",
       "        2.14174884, 2.40623202, 2.9312281 , 3.52384303, 2.4877655 ]),\n",
       " array([0.03532363, 0.07199131, 0.10865899, 0.14532667, 0.18199436,\n",
       "        0.21866204, 0.25532973, 0.2919974 , 0.32866508, 0.36533278,\n",
       "        0.40200046, 0.43866813, 0.47533581, 0.51200348, 0.54867119,\n",
       "        0.58533889, 0.62200654, 0.65867424, 0.69534194, 0.73200959,\n",
       "        0.76867729, 0.80534494, 0.84201264, 0.87868035, 0.91534799,\n",
       "        0.9520157 ]),\n",
       " [<matplotlib.patches.Polygon at 0x13e6d6280>])"
      ]
     },
     "execution_count": 176,
     "metadata": {},
     "output_type": "execute_result"
    },
    {
     "data": {
      "image/png": "[encoded data removed]",
      "text/plain": [
       "<Figure size 640x480 with 1 Axes>"
      ]
     },
     "metadata": {},
     "output_type": "display_data"
    }
   ],
   "source": [
    "df['smooth-or-featured-dr5_total-votes'] = df['smooth-or-featured-dr5_smooth'] + df['smooth-or-featured-dr5_featured-or-disk'] + df['smooth-or-featured-dr5_artifact']\n",
    "plt.hist(df['smooth-or-featured-dr5_featured-or-disk'] / df['smooth-or-featured-dr5_total-votes'], bins=25, density=True, histtype='step')\n",
    "plt.hist(df.query('gz_spiral_votes > 0')['smooth-or-featured-dr5_featured-or-disk'] / df.query('gz_spiral_votes > 0')['smooth-or-featured-dr5_total-votes'], bins=25, density=True, histtype='step')\n",
    "plt.hist(df.query('gz_spiral_votes > 0')['smooth-or-featured_featured-or-disk_fraction'], bins=25, density=True, histtype='step')"
   ]
  },
  {
   "cell_type": "code",
   "execution_count": 177,
   "metadata": {},
   "outputs": [
    {
     "data": {
      "text/plain": [
       "(247395, 415602)"
      ]
     },
     "execution_count": 177,
     "metadata": {},
     "output_type": "execute_result"
    }
   ],
   "source": [
    "(df['smooth-or-featured-dr5_total-votes'] > 0).sum(), len(df)"
   ]
  },
  {
   "cell_type": "code",
   "execution_count": 181,
   "metadata": {},
   "outputs": [
    {
     "data": {
      "text/html": [
       "<div>\n",
       "<style scoped>\n",
       "    .dataframe tbody tr th:only-of-type {\n",
       "        vertical-align: middle;\n",
       "    }\n",
       "\n",
       "    .dataframe tbody tr th {\n",
       "        vertical-align: top;\n",
       "    }\n",
       "\n",
       "    .dataframe thead th {\n",
       "        text-align: right;\n",
       "    }\n",
       "</style>\n",
       "<table border=\"1\" class=\"dataframe\">\n",
       "  <thead>\n",
       "    <tr style=\"text-align: right;\">\n",
       "      <th></th>\n",
       "      <th>dr8_id</th>\n",
       "      <th>ra</th>\n",
       "      <th>dec</th>\n",
       "      <th>ra_manga</th>\n",
       "      <th>dec_manga</th>\n",
       "      <th>ra_desi</th>\n",
       "      <th>dec_desi</th>\n",
       "      <th>smooth-or-featured_featured-or-disk_fraction</th>\n",
       "    </tr>\n",
       "  </thead>\n",
       "  <tbody>\n",
       "    <tr>\n",
       "      <th>282610</th>\n",
       "      <td>328951_7842</td>\n",
       "      <td>5.965594</td>\n",
       "      <td>-0.128487</td>\n",
       "      <td>NaN</td>\n",
       "      <td>NaN</td>\n",
       "      <td>NaN</td>\n",
       "      <td>NaN</td>\n",
       "      <td>0.917167</td>\n",
       "    </tr>\n",
       "  </tbody>\n",
       "</table>\n",
       "</div>"
      ],
      "text/plain": [
       "             dr8_id        ra       dec  ra_manga  dec_manga  ra_desi  \\\n",
       "282610  328951_7842  5.965594 -0.128487       NaN        NaN      NaN   \n",
       "\n",
       "        dec_desi  smooth-or-featured_featured-or-disk_fraction  \n",
       "282610       NaN                                      0.917167  "
      ]
     },
     "execution_count": 181,
     "metadata": {},
     "output_type": "execute_result"
    }
   ],
   "source": [
    "df.sample()[['dr8_id', 'ra', 'dec', 'ra_manga', 'dec_manga', 'ra_desi', 'dec_desi', 'smooth-or-featured_featured-or-disk_fraction']]  # checks out visually"
   ]
  },
  {
   "cell_type": "code",
   "execution_count": null,
   "metadata": {},
   "outputs": [
    {
     "data": {
      "text/plain": [
       "array(['ra_manga', 'dec_manga', 'mangaid', 'iauname', 'ifudesignsize',\n",
       "       'manga_tileid', 'nsa_id', 'explorer_link',\n",
       "       'gz_total_classifications', 'gz_bar_votes', 'gz_spiral_votes',\n",
       "       'sample', 'relative_gz3d_fits_loc', 'best_match', 'sky_separation',\n",
       "       'ra_desi', 'dec_desi', 'dr8_id', 'mag_r', 'mag_g', 'mag_z',\n",
       "       'est_dr5_pixscale', 'galahad_fits_loc', 'galahad_jpg_loc',\n",
       "       'relative_desi_fits_loc', 'relative_desi_jpg_loc',\n",
       "       'relative_segmap_json_loc', 'relative_spiral_mask_loc',\n",
       "       'relative_bar_mask_loc', 'smooth-or-featured-dr12_smooth',\n",
       "       'smooth-or-featured-dr12_featured-or-disk',\n",
       "       'smooth-or-featured-dr12_artifact', 'disk-edge-on-dr12_yes',\n",
       "       'disk-edge-on-dr12_no', 'has-spiral-arms-dr12_yes',\n",
       "       'has-spiral-arms-dr12_no', 'bar-dr12_yes', 'bar-dr12_no',\n",
       "       'bulge-size-dr12_dominant', 'bulge-size-dr12_obvious',\n",
       "       'bulge-size-dr12_none', 'how-rounded-dr12_completely',\n",
       "       'how-rounded-dr12_in-between', 'how-rounded-dr12_cigar-shaped',\n",
       "       'edge-on-bulge-dr12_boxy', 'edge-on-bulge-dr12_none',\n",
       "       'edge-on-bulge-dr12_rounded', 'spiral-winding-dr12_tight',\n",
       "       'spiral-winding-dr12_medium', 'spiral-winding-dr12_loose',\n",
       "       'spiral-arm-count-dr12_1', 'spiral-arm-count-dr12_2',\n",
       "       'spiral-arm-count-dr12_3', 'spiral-arm-count-dr12_4',\n",
       "       'spiral-arm-count-dr12_more-than-4', 'merging-dr12_neither',\n",
       "       'merging-dr12_tidal-debris', 'merging-dr12_both',\n",
       "       'merging-dr12_merger', 'smooth-or-featured-dr5_smooth',\n",
       "       'smooth-or-featured-dr5_featured-or-disk',\n",
       "       'smooth-or-featured-dr5_artifact', 'disk-edge-on-dr5_yes',\n",
       "       'disk-edge-on-dr5_no', 'has-spiral-arms-dr5_yes',\n",
       "       'has-spiral-arms-dr5_no', 'bar-dr5_strong', 'bar-dr5_weak',\n",
       "       'bar-dr5_no', 'bulge-size-dr5_dominant', 'bulge-size-dr5_large',\n",
       "       'bulge-size-dr5_moderate', 'bulge-size-dr5_small',\n",
       "       'bulge-size-dr5_none', 'how-rounded-dr5_round',\n",
       "       'how-rounded-dr5_in-between', 'how-rounded-dr5_cigar-shaped',\n",
       "       'edge-on-bulge-dr5_boxy', 'edge-on-bulge-dr5_none',\n",
       "       'edge-on-bulge-dr5_rounded', 'spiral-winding-dr5_tight',\n",
       "       'spiral-winding-dr5_medium', 'spiral-winding-dr5_loose',\n",
       "       'spiral-arm-count-dr5_1', 'spiral-arm-count-dr5_2',\n",
       "       'spiral-arm-count-dr5_3', 'spiral-arm-count-dr5_4',\n",
       "       'spiral-arm-count-dr5_more-than-4',\n",
       "       'spiral-arm-count-dr5_cant-tell', 'merging-dr5_none',\n",
       "       'merging-dr5_minor-disturbance', 'merging-dr5_major-disturbance',\n",
       "       'merging-dr5_merger', 'smooth-or-featured-dr8_smooth',\n",
       "       'smooth-or-featured-dr8_featured-or-disk',\n",
       "       'smooth-or-featured-dr8_artifact', 'disk-edge-on-dr8_yes',\n",
       "       'disk-edge-on-dr8_no', 'has-spiral-arms-dr8_yes',\n",
       "       'has-spiral-arms-dr8_no', 'bar-dr8_strong', 'bar-dr8_weak',\n",
       "       'bar-dr8_no', 'bulge-size-dr8_dominant', 'bulge-size-dr8_large',\n",
       "       'bulge-size-dr8_moderate', 'bulge-size-dr8_small',\n",
       "       'bulge-size-dr8_none', 'how-rounded-dr8_round',\n",
       "       'how-rounded-dr8_in-between', 'how-rounded-dr8_cigar-shaped',\n",
       "       'edge-on-bulge-dr8_boxy', 'edge-on-bulge-dr8_none',\n",
       "       'edge-on-bulge-dr8_rounded', 'spiral-winding-dr8_tight',\n",
       "       'spiral-winding-dr8_medium', 'spiral-winding-dr8_loose',\n",
       "       'spiral-arm-count-dr8_1', 'spiral-arm-count-dr8_2',\n",
       "       'spiral-arm-count-dr8_3', 'spiral-arm-count-dr8_4',\n",
       "       'spiral-arm-count-dr8_more-than-4',\n",
       "       'spiral-arm-count-dr8_cant-tell', 'merging-dr8_none',\n",
       "       'merging-dr8_minor-disturbance', 'merging-dr8_major-disturbance',\n",
       "       'merging-dr8_merger',\n",
       "       'smooth-or-featured_featured-or-disk_fraction',\n",
       "       'disk-edge-on_yes_fraction', 'has-spiral-arms_yes_fraction',\n",
       "       'spiral-arm-count_2_fraction', 'brickid', 'objid', 'ra_gz2',\n",
       "       'dec_gz2', 'smooth-or-featured-gz2_smooth',\n",
       "       'smooth-or-featured-gz2_featured-or-disk',\n",
       "       'smooth-or-featured-gz2_artifact', 'disk-edge-on-gz2_yes',\n",
       "       'disk-edge-on-gz2_no', 'bar-gz2_yes', 'bar-gz2_no',\n",
       "       'has-spiral-arms-gz2_yes', 'has-spiral-arms-gz2_no',\n",
       "       'bulge-size-gz2_no', 'bulge-size-gz2_just-noticeable',\n",
       "       'bulge-size-gz2_obvious', 'bulge-size-gz2_dominant',\n",
       "       'something-odd-gz2_yes', 'something-odd-gz2_no',\n",
       "       'how-rounded-gz2_round', 'how-rounded-gz2_in-between',\n",
       "       'how-rounded-gz2_cigar', 'bulge-shape-gz2_round',\n",
       "       'bulge-shape-gz2_boxy', 'bulge-shape-gz2_no-bulge',\n",
       "       'spiral-winding-gz2_tight', 'spiral-winding-gz2_medium',\n",
       "       'spiral-winding-gz2_loose', 'spiral-arm-count-gz2_1',\n",
       "       'spiral-arm-count-gz2_2', 'spiral-arm-count-gz2_3',\n",
       "       'spiral-arm-count-gz2_4', 'spiral-arm-count-gz2_more-than-4',\n",
       "       'spiral-arm-count-gz2_cant-tell',\n",
       "       'smooth-or-featured-gz2_total-votes',\n",
       "       'smooth-or-featured-gz2_smooth_fraction',\n",
       "       'smooth-or-featured-gz2_featured-or-disk_fraction',\n",
       "       'smooth-or-featured-gz2_artifact_fraction',\n",
       "       'disk-edge-on-gz2_total-votes', 'disk-edge-on-gz2_yes_fraction',\n",
       "       'disk-edge-on-gz2_no_fraction', 'has-spiral-arms-gz2_total-votes',\n",
       "       'has-spiral-arms-gz2_yes_fraction',\n",
       "       'has-spiral-arms-gz2_no_fraction', 'bar-gz2_total-votes',\n",
       "       'bar-gz2_yes_fraction', 'bar-gz2_no_fraction',\n",
       "       'bulge-size-gz2_total-votes', 'bulge-size-gz2_dominant_fraction',\n",
       "       'bulge-size-gz2_obvious_fraction',\n",
       "       'bulge-size-gz2_just-noticeable_fraction',\n",
       "       'bulge-size-gz2_no_fraction', 'something-odd-gz2_total-votes',\n",
       "       'something-odd-gz2_yes_fraction', 'something-odd-gz2_no_fraction',\n",
       "       'how-rounded-gz2_total-votes', 'how-rounded-gz2_round_fraction',\n",
       "       'how-rounded-gz2_in-between_fraction',\n",
       "       'how-rounded-gz2_cigar_fraction', 'bulge-shape-gz2_total-votes',\n",
       "       'bulge-shape-gz2_round_fraction', 'bulge-shape-gz2_boxy_fraction',\n",
       "       'bulge-shape-gz2_no-bulge_fraction',\n",
       "       'spiral-winding-gz2_total-votes',\n",
       "       'spiral-winding-gz2_tight_fraction',\n",
       "       'spiral-winding-gz2_medium_fraction',\n",
       "       'spiral-winding-gz2_loose_fraction',\n",
       "       'spiral-arm-count-gz2_total-votes',\n",
       "       'spiral-arm-count-gz2_1_fraction',\n",
       "       'spiral-arm-count-gz2_2_fraction',\n",
       "       'spiral-arm-count-gz2_3_fraction',\n",
       "       'spiral-arm-count-gz2_4_fraction',\n",
       "       'spiral-arm-count-gz2_more-than-4_fraction',\n",
       "       'spiral-arm-count-gz2_cant-tell_fraction', 'spiral_mask_exists',\n",
       "       'smooth-or-featured-dr5_total-votes'], dtype=object)"
      ]
     },
     "execution_count": 122,
     "metadata": {},
     "output_type": "execute_result"
    }
   ],
   "source": [
    "df.columns.values"
   ]
  },
  {
   "cell_type": "code",
   "execution_count": null,
   "metadata": {},
   "outputs": [],
   "source": []
  }
 ],
 "metadata": {
  "kernelspec": {
   "display_name": "dev",
   "language": "python",
   "name": "python3"
  },
  "language_info": {
   "codemirror_mode": {
    "name": "ipython",
    "version": 3
   },
   "file_extension": ".py",
   "mimetype": "text/x-python",
   "name": "python",
   "nbconvert_exporter": "python",
   "pygments_lexer": "ipython3",
   "version": "3.8.16"
  },
  "orig_nbformat": 4
 },
 "nbformat": 4,
 "nbformat_minor": 2
}
