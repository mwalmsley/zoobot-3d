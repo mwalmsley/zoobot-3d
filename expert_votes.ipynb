{
 "cells": [
  {
   "cell_type": "code",
   "execution_count": 76,
   "metadata": {},
   "outputs": [],
   "source": [
    "import json\n",
    "\n",
    "import pandas as pd"
   ]
  },
  {
   "cell_type": "markdown",
   "metadata": {},
   "source": [
    "ashley this is going to be very lazy code, I make no apologies"
   ]
  },
  {
   "cell_type": "code",
   "execution_count": 77,
   "metadata": {},
   "outputs": [
    {
     "data": {
      "text/plain": [
       "(32, 91)"
      ]
     },
     "execution_count": 77,
     "metadata": {},
     "output_type": "execute_result"
    }
   ],
   "source": [
    "bar = pd.read_csv('/Users/user/Downloads/bar-classifications.csv')\n",
    "spiral = pd.read_csv('/Users/user/Downloads/spiral-classifications.csv')\n",
    "len(bar), len(spiral)"
   ]
  },
  {
   "cell_type": "code",
   "execution_count": 92,
   "metadata": {},
   "outputs": [
    {
     "data": {
      "text/html": [
       "<div>\n",
       "<style scoped>\n",
       "    .dataframe tbody tr th:only-of-type {\n",
       "        vertical-align: middle;\n",
       "    }\n",
       "\n",
       "    .dataframe tbody tr th {\n",
       "        vertical-align: top;\n",
       "    }\n",
       "\n",
       "    .dataframe thead th {\n",
       "        text-align: right;\n",
       "    }\n",
       "</style>\n",
       "<table border=\"1\" class=\"dataframe\">\n",
       "  <thead>\n",
       "    <tr style=\"text-align: right;\">\n",
       "      <th></th>\n",
       "      <th>classification_id</th>\n",
       "      <th>user_name</th>\n",
       "      <th>user_id</th>\n",
       "      <th>user_ip</th>\n",
       "      <th>workflow_id</th>\n",
       "      <th>workflow_name</th>\n",
       "      <th>workflow_version</th>\n",
       "      <th>created_at</th>\n",
       "      <th>gold_standard</th>\n",
       "      <th>expert</th>\n",
       "      <th>metadata</th>\n",
       "      <th>annotations</th>\n",
       "      <th>subject_data</th>\n",
       "      <th>subject_ids</th>\n",
       "    </tr>\n",
       "  </thead>\n",
       "  <tbody>\n",
       "    <tr>\n",
       "      <th>0</th>\n",
       "      <td>513560862</td>\n",
       "      <td>not-logged-in-46da1827356d0fb76975</td>\n",
       "      <td>NaN</td>\n",
       "      <td>46da1827356d0fb76975</td>\n",
       "      <td>25255</td>\n",
       "      <td>Bar</td>\n",
       "      <td>23.31</td>\n",
       "      <td>2023-09-29 12:34:49 UTC</td>\n",
       "      <td>NaN</td>\n",
       "      <td>NaN</td>\n",
       "      <td>{\"source\":\"api\",\"session\":\"6f976fd4ea38c92ba30...</td>\n",
       "      <td>[{\"task\":\"T0\",\"task_label\":\"Which algorithm be...</td>\n",
       "      <td>{\"92122936\":{\"retired\":null,\"Filename\":\"371107...</td>\n",
       "      <td>92122936</td>\n",
       "    </tr>\n",
       "    <tr>\n",
       "      <th>1</th>\n",
       "      <td>513560933</td>\n",
       "      <td>not-logged-in-b4d28815907add4b3731</td>\n",
       "      <td>NaN</td>\n",
       "      <td>b4d28815907add4b3731</td>\n",
       "      <td>25255</td>\n",
       "      <td>Bar</td>\n",
       "      <td>23.31</td>\n",
       "      <td>2023-09-29 12:35:22 UTC</td>\n",
       "      <td>NaN</td>\n",
       "      <td>NaN</td>\n",
       "      <td>{\"source\":\"api\",\"session\":\"6f976fd4ea38c92ba30...</td>\n",
       "      <td>[{\"task\":\"T0\",\"task_label\":\"Which algorithm be...</td>\n",
       "      <td>{\"92122948\":{\"retired\":null,\"Filename\":\"441329...</td>\n",
       "      <td>92122948</td>\n",
       "    </tr>\n",
       "    <tr>\n",
       "      <th>2</th>\n",
       "      <td>513560949</td>\n",
       "      <td>not-logged-in-b4d28815907add4b3731</td>\n",
       "      <td>NaN</td>\n",
       "      <td>b4d28815907add4b3731</td>\n",
       "      <td>25255</td>\n",
       "      <td>Bar</td>\n",
       "      <td>23.31</td>\n",
       "      <td>2023-09-29 12:35:36 UTC</td>\n",
       "      <td>NaN</td>\n",
       "      <td>NaN</td>\n",
       "      <td>{\"source\":\"api\",\"session\":\"6f976fd4ea38c92ba30...</td>\n",
       "      <td>[{\"task\":\"T0\",\"task_label\":\"Which algorithm be...</td>\n",
       "      <td>{\"92122919\":{\"retired\":null,\"Filename\":\"612183...</td>\n",
       "      <td>92122919</td>\n",
       "    </tr>\n",
       "    <tr>\n",
       "      <th>3</th>\n",
       "      <td>513560980</td>\n",
       "      <td>not-logged-in-b4d28815907add4b3731</td>\n",
       "      <td>NaN</td>\n",
       "      <td>b4d28815907add4b3731</td>\n",
       "      <td>25255</td>\n",
       "      <td>Bar</td>\n",
       "      <td>23.31</td>\n",
       "      <td>2023-09-29 12:36:07 UTC</td>\n",
       "      <td>NaN</td>\n",
       "      <td>NaN</td>\n",
       "      <td>{\"source\":\"api\",\"session\":\"6f976fd4ea38c92ba30...</td>\n",
       "      <td>[{\"task\":\"T0\",\"task_label\":\"Which algorithm be...</td>\n",
       "      <td>{\"92122939\":{\"retired\":null,\"Filename\":\"322595...</td>\n",
       "      <td>92122939</td>\n",
       "    </tr>\n",
       "    <tr>\n",
       "      <th>4</th>\n",
       "      <td>513561133</td>\n",
       "      <td>not-logged-in-3a7e4858e4cab8b64e6e</td>\n",
       "      <td>NaN</td>\n",
       "      <td>3a7e4858e4cab8b64e6e</td>\n",
       "      <td>25255</td>\n",
       "      <td>Bar</td>\n",
       "      <td>23.31</td>\n",
       "      <td>2023-09-29 12:38:01 UTC</td>\n",
       "      <td>NaN</td>\n",
       "      <td>NaN</td>\n",
       "      <td>{\"source\":\"api\",\"session\":\"6f976fd4ea38c92ba30...</td>\n",
       "      <td>[{\"task\":\"T0\",\"task_label\":\"Which algorithm be...</td>\n",
       "      <td>{\"92122928\":{\"retired\":null,\"Filename\":\"395590...</td>\n",
       "      <td>92122928</td>\n",
       "    </tr>\n",
       "  </tbody>\n",
       "</table>\n",
       "</div>"
      ],
      "text/plain": [
       "   classification_id                           user_name  user_id  \\\n",
       "0          513560862  not-logged-in-46da1827356d0fb76975      NaN   \n",
       "1          513560933  not-logged-in-b4d28815907add4b3731      NaN   \n",
       "2          513560949  not-logged-in-b4d28815907add4b3731      NaN   \n",
       "3          513560980  not-logged-in-b4d28815907add4b3731      NaN   \n",
       "4          513561133  not-logged-in-3a7e4858e4cab8b64e6e      NaN   \n",
       "\n",
       "                user_ip  workflow_id workflow_name  workflow_version  \\\n",
       "0  46da1827356d0fb76975        25255           Bar             23.31   \n",
       "1  b4d28815907add4b3731        25255           Bar             23.31   \n",
       "2  b4d28815907add4b3731        25255           Bar             23.31   \n",
       "3  b4d28815907add4b3731        25255           Bar             23.31   \n",
       "4  3a7e4858e4cab8b64e6e        25255           Bar             23.31   \n",
       "\n",
       "                created_at  gold_standard  expert  \\\n",
       "0  2023-09-29 12:34:49 UTC            NaN     NaN   \n",
       "1  2023-09-29 12:35:22 UTC            NaN     NaN   \n",
       "2  2023-09-29 12:35:36 UTC            NaN     NaN   \n",
       "3  2023-09-29 12:36:07 UTC            NaN     NaN   \n",
       "4  2023-09-29 12:38:01 UTC            NaN     NaN   \n",
       "\n",
       "                                            metadata  \\\n",
       "0  {\"source\":\"api\",\"session\":\"6f976fd4ea38c92ba30...   \n",
       "1  {\"source\":\"api\",\"session\":\"6f976fd4ea38c92ba30...   \n",
       "2  {\"source\":\"api\",\"session\":\"6f976fd4ea38c92ba30...   \n",
       "3  {\"source\":\"api\",\"session\":\"6f976fd4ea38c92ba30...   \n",
       "4  {\"source\":\"api\",\"session\":\"6f976fd4ea38c92ba30...   \n",
       "\n",
       "                                         annotations  \\\n",
       "0  [{\"task\":\"T0\",\"task_label\":\"Which algorithm be...   \n",
       "1  [{\"task\":\"T0\",\"task_label\":\"Which algorithm be...   \n",
       "2  [{\"task\":\"T0\",\"task_label\":\"Which algorithm be...   \n",
       "3  [{\"task\":\"T0\",\"task_label\":\"Which algorithm be...   \n",
       "4  [{\"task\":\"T0\",\"task_label\":\"Which algorithm be...   \n",
       "\n",
       "                                        subject_data  subject_ids  \n",
       "0  {\"92122936\":{\"retired\":null,\"Filename\":\"371107...     92122936  \n",
       "1  {\"92122948\":{\"retired\":null,\"Filename\":\"441329...     92122948  \n",
       "2  {\"92122919\":{\"retired\":null,\"Filename\":\"612183...     92122919  \n",
       "3  {\"92122939\":{\"retired\":null,\"Filename\":\"322595...     92122939  \n",
       "4  {\"92122928\":{\"retired\":null,\"Filename\":\"395590...     92122928  "
      ]
     },
     "execution_count": 92,
     "metadata": {},
     "output_type": "execute_result"
    }
   ],
   "source": [
    "bar.head()"
   ]
  },
  {
   "cell_type": "code",
   "execution_count": 79,
   "metadata": {},
   "outputs": [
    {
     "data": {
      "text/plain": [
       "'[{\"task\":\"T0\",\"task_label\":\"Which algorithm best identifies the bars?\",\"value\":\"Top row\"},{\"task\":\"T1\",\"task_label\":\"How did the best algorithm do?\",\"value\":\"Perfectly\"},{\"task\":\"T2\",\"task_label\":\"How did the other algorithm do?\",\"value\":\"Mostly well (some minor errors)\"}]'"
      ]
     },
     "execution_count": 79,
     "metadata": {},
     "output_type": "execute_result"
    }
   ],
   "source": [
    "bar.iloc[0]['annotations']"
   ]
  },
  {
   "cell_type": "code",
   "execution_count": 80,
   "metadata": {},
   "outputs": [],
   "source": [
    "\n",
    "\n",
    "quality_renamer = {\n",
    "    'Perfectly': 'perfect',\n",
    "    'Mostly well (some minor errors)': 'mostly',\n",
    "    'Mostly well, some small errors': 'mostly',\n",
    "    'Mostly poorly (some major errors)': 'poorly',\n",
    "    'Mostly poorly, some major errors': 'poorly',\n",
    "    'Totally failed': 'failed'\n",
    "}\n",
    "\n",
    "bar_namer = {\n",
    "    'Top row': 'gz3d',\n",
    "    'Bottom row': 'zoobot-3d'\n",
    "}\n",
    "\n",
    "spiral_namer = {\n",
    "    'Top row': 'sparcfire',\n",
    "    'Middle row': 'gz3d',\n",
    "    'Bottom row': 'zoobot-3d'\n",
    "}\n",
    "    \n",
    "    \n",
    "\n",
    "def load_bar_annotations(annotation_str):\n",
    "    annotations = json.loads(annotation_str)\n",
    "    if len(annotations) == 1:\n",
    "        assert annotations[0]['value'] == \"I can't decide, they're so similar!\"\n",
    "        return {\n",
    "            'best_algorithm': 'tie'\n",
    "        }\n",
    "    assert len(annotations) == 3, len(annotations)\n",
    "    return {\n",
    "        'best_algorithm': bar_namer[annotations[0]['value']],\n",
    "        'best_quality': quality_renamer[annotations[1]['value']],\n",
    "        'second_quality': quality_renamer[annotations[2]['value']],\n",
    "    }\n",
    "\n",
    "def load_spiral_annotations(annotation_str):\n",
    "    annotations = json.loads(annotation_str)\n",
    "    assert len(annotations) == 4, len(annotations)\n",
    "    return {\n",
    "        'best_algorithm': spiral_namer[annotations[0]['value']],\n",
    "        'best_quality': quality_renamer[annotations[1]['value']],\n",
    "        'second_algorithm': spiral_namer[annotations[2]['value']],\n",
    "        'second_quality': quality_renamer[annotations[3]['value']],\n",
    "    }"
   ]
  },
  {
   "cell_type": "code",
   "execution_count": 81,
   "metadata": {},
   "outputs": [
    {
     "data": {
      "text/plain": [
       "{'best_algorithm': 'gz3d',\n",
       " 'best_quality': 'perfect',\n",
       " 'second_quality': 'mostly'}"
      ]
     },
     "execution_count": 81,
     "metadata": {},
     "output_type": "execute_result"
    }
   ],
   "source": [
    "load_bar_annotations(bar['annotations'].iloc[0])"
   ]
  },
  {
   "cell_type": "code",
   "execution_count": 82,
   "metadata": {},
   "outputs": [
    {
     "data": {
      "text/plain": [
       "{'best_algorithm': 'zoobot-3d',\n",
       " 'best_quality': 'mostly',\n",
       " 'second_algorithm': 'gz3d',\n",
       " 'second_quality': 'mostly'}"
      ]
     },
     "execution_count": 82,
     "metadata": {},
     "output_type": "execute_result"
    }
   ],
   "source": [
    "load_spiral_annotations(spiral['annotations'].iloc[0])"
   ]
  },
  {
   "cell_type": "code",
   "execution_count": 83,
   "metadata": {},
   "outputs": [
    {
     "data": {
      "text/html": [
       "<div>\n",
       "<style scoped>\n",
       "    .dataframe tbody tr th:only-of-type {\n",
       "        vertical-align: middle;\n",
       "    }\n",
       "\n",
       "    .dataframe tbody tr th {\n",
       "        vertical-align: top;\n",
       "    }\n",
       "\n",
       "    .dataframe thead th {\n",
       "        text-align: right;\n",
       "    }\n",
       "</style>\n",
       "<table border=\"1\" class=\"dataframe\">\n",
       "  <thead>\n",
       "    <tr style=\"text-align: right;\">\n",
       "      <th></th>\n",
       "      <th>best_algorithm</th>\n",
       "      <th>best_quality</th>\n",
       "      <th>second_quality</th>\n",
       "    </tr>\n",
       "  </thead>\n",
       "  <tbody>\n",
       "    <tr>\n",
       "      <th>0</th>\n",
       "      <td>gz3d</td>\n",
       "      <td>perfect</td>\n",
       "      <td>mostly</td>\n",
       "    </tr>\n",
       "    <tr>\n",
       "      <th>1</th>\n",
       "      <td>gz3d</td>\n",
       "      <td>poorly</td>\n",
       "      <td>poorly</td>\n",
       "    </tr>\n",
       "    <tr>\n",
       "      <th>2</th>\n",
       "      <td>gz3d</td>\n",
       "      <td>perfect</td>\n",
       "      <td>mostly</td>\n",
       "    </tr>\n",
       "    <tr>\n",
       "      <th>3</th>\n",
       "      <td>zoobot-3d</td>\n",
       "      <td>perfect</td>\n",
       "      <td>mostly</td>\n",
       "    </tr>\n",
       "    <tr>\n",
       "      <th>4</th>\n",
       "      <td>zoobot-3d</td>\n",
       "      <td>mostly</td>\n",
       "      <td>mostly</td>\n",
       "    </tr>\n",
       "    <tr>\n",
       "      <th>5</th>\n",
       "      <td>zoobot-3d</td>\n",
       "      <td>mostly</td>\n",
       "      <td>poorly</td>\n",
       "    </tr>\n",
       "    <tr>\n",
       "      <th>6</th>\n",
       "      <td>zoobot-3d</td>\n",
       "      <td>mostly</td>\n",
       "      <td>poorly</td>\n",
       "    </tr>\n",
       "    <tr>\n",
       "      <th>7</th>\n",
       "      <td>zoobot-3d</td>\n",
       "      <td>perfect</td>\n",
       "      <td>mostly</td>\n",
       "    </tr>\n",
       "    <tr>\n",
       "      <th>8</th>\n",
       "      <td>zoobot-3d</td>\n",
       "      <td>perfect</td>\n",
       "      <td>mostly</td>\n",
       "    </tr>\n",
       "    <tr>\n",
       "      <th>9</th>\n",
       "      <td>zoobot-3d</td>\n",
       "      <td>perfect</td>\n",
       "      <td>mostly</td>\n",
       "    </tr>\n",
       "    <tr>\n",
       "      <th>10</th>\n",
       "      <td>gz3d</td>\n",
       "      <td>mostly</td>\n",
       "      <td>poorly</td>\n",
       "    </tr>\n",
       "    <tr>\n",
       "      <th>11</th>\n",
       "      <td>zoobot-3d</td>\n",
       "      <td>mostly</td>\n",
       "      <td>mostly</td>\n",
       "    </tr>\n",
       "    <tr>\n",
       "      <th>12</th>\n",
       "      <td>zoobot-3d</td>\n",
       "      <td>perfect</td>\n",
       "      <td>mostly</td>\n",
       "    </tr>\n",
       "    <tr>\n",
       "      <th>13</th>\n",
       "      <td>tie</td>\n",
       "      <td>NaN</td>\n",
       "      <td>NaN</td>\n",
       "    </tr>\n",
       "    <tr>\n",
       "      <th>14</th>\n",
       "      <td>zoobot-3d</td>\n",
       "      <td>perfect</td>\n",
       "      <td>mostly</td>\n",
       "    </tr>\n",
       "    <tr>\n",
       "      <th>15</th>\n",
       "      <td>zoobot-3d</td>\n",
       "      <td>perfect</td>\n",
       "      <td>poorly</td>\n",
       "    </tr>\n",
       "    <tr>\n",
       "      <th>16</th>\n",
       "      <td>gz3d</td>\n",
       "      <td>perfect</td>\n",
       "      <td>mostly</td>\n",
       "    </tr>\n",
       "    <tr>\n",
       "      <th>17</th>\n",
       "      <td>tie</td>\n",
       "      <td>NaN</td>\n",
       "      <td>NaN</td>\n",
       "    </tr>\n",
       "    <tr>\n",
       "      <th>18</th>\n",
       "      <td>zoobot-3d</td>\n",
       "      <td>mostly</td>\n",
       "      <td>poorly</td>\n",
       "    </tr>\n",
       "    <tr>\n",
       "      <th>19</th>\n",
       "      <td>zoobot-3d</td>\n",
       "      <td>perfect</td>\n",
       "      <td>mostly</td>\n",
       "    </tr>\n",
       "    <tr>\n",
       "      <th>20</th>\n",
       "      <td>gz3d</td>\n",
       "      <td>mostly</td>\n",
       "      <td>poorly</td>\n",
       "    </tr>\n",
       "    <tr>\n",
       "      <th>21</th>\n",
       "      <td>zoobot-3d</td>\n",
       "      <td>mostly</td>\n",
       "      <td>poorly</td>\n",
       "    </tr>\n",
       "    <tr>\n",
       "      <th>22</th>\n",
       "      <td>tie</td>\n",
       "      <td>NaN</td>\n",
       "      <td>NaN</td>\n",
       "    </tr>\n",
       "    <tr>\n",
       "      <th>23</th>\n",
       "      <td>tie</td>\n",
       "      <td>NaN</td>\n",
       "      <td>NaN</td>\n",
       "    </tr>\n",
       "    <tr>\n",
       "      <th>24</th>\n",
       "      <td>zoobot-3d</td>\n",
       "      <td>mostly</td>\n",
       "      <td>poorly</td>\n",
       "    </tr>\n",
       "    <tr>\n",
       "      <th>25</th>\n",
       "      <td>tie</td>\n",
       "      <td>NaN</td>\n",
       "      <td>NaN</td>\n",
       "    </tr>\n",
       "    <tr>\n",
       "      <th>26</th>\n",
       "      <td>tie</td>\n",
       "      <td>NaN</td>\n",
       "      <td>NaN</td>\n",
       "    </tr>\n",
       "    <tr>\n",
       "      <th>27</th>\n",
       "      <td>gz3d</td>\n",
       "      <td>mostly</td>\n",
       "      <td>mostly</td>\n",
       "    </tr>\n",
       "    <tr>\n",
       "      <th>28</th>\n",
       "      <td>gz3d</td>\n",
       "      <td>mostly</td>\n",
       "      <td>mostly</td>\n",
       "    </tr>\n",
       "    <tr>\n",
       "      <th>29</th>\n",
       "      <td>zoobot-3d</td>\n",
       "      <td>poorly</td>\n",
       "      <td>poorly</td>\n",
       "    </tr>\n",
       "    <tr>\n",
       "      <th>30</th>\n",
       "      <td>zoobot-3d</td>\n",
       "      <td>mostly</td>\n",
       "      <td>mostly</td>\n",
       "    </tr>\n",
       "    <tr>\n",
       "      <th>31</th>\n",
       "      <td>gz3d</td>\n",
       "      <td>perfect</td>\n",
       "      <td>mostly</td>\n",
       "    </tr>\n",
       "  </tbody>\n",
       "</table>\n",
       "</div>"
      ],
      "text/plain": [
       "   best_algorithm best_quality second_quality\n",
       "0            gz3d      perfect         mostly\n",
       "1            gz3d       poorly         poorly\n",
       "2            gz3d      perfect         mostly\n",
       "3       zoobot-3d      perfect         mostly\n",
       "4       zoobot-3d       mostly         mostly\n",
       "5       zoobot-3d       mostly         poorly\n",
       "6       zoobot-3d       mostly         poorly\n",
       "7       zoobot-3d      perfect         mostly\n",
       "8       zoobot-3d      perfect         mostly\n",
       "9       zoobot-3d      perfect         mostly\n",
       "10           gz3d       mostly         poorly\n",
       "11      zoobot-3d       mostly         mostly\n",
       "12      zoobot-3d      perfect         mostly\n",
       "13            tie          NaN            NaN\n",
       "14      zoobot-3d      perfect         mostly\n",
       "15      zoobot-3d      perfect         poorly\n",
       "16           gz3d      perfect         mostly\n",
       "17            tie          NaN            NaN\n",
       "18      zoobot-3d       mostly         poorly\n",
       "19      zoobot-3d      perfect         mostly\n",
       "20           gz3d       mostly         poorly\n",
       "21      zoobot-3d       mostly         poorly\n",
       "22            tie          NaN            NaN\n",
       "23            tie          NaN            NaN\n",
       "24      zoobot-3d       mostly         poorly\n",
       "25            tie          NaN            NaN\n",
       "26            tie          NaN            NaN\n",
       "27           gz3d       mostly         mostly\n",
       "28           gz3d       mostly         mostly\n",
       "29      zoobot-3d       poorly         poorly\n",
       "30      zoobot-3d       mostly         mostly\n",
       "31           gz3d      perfect         mostly"
      ]
     },
     "execution_count": 83,
     "metadata": {},
     "output_type": "execute_result"
    }
   ],
   "source": [
    "bar_df = pd.DataFrame(data=bar['annotations'].apply(load_bar_annotations).tolist())\n",
    "bar_df"
   ]
  },
  {
   "cell_type": "code",
   "execution_count": 84,
   "metadata": {},
   "outputs": [
    {
     "data": {
      "text/plain": [
       "zoobot-3d    17\n",
       "gz3d          9\n",
       "tie           6\n",
       "Name: best_algorithm, dtype: int64"
      ]
     },
     "execution_count": 84,
     "metadata": {},
     "output_type": "execute_result"
    }
   ],
   "source": [
    "bar_df['best_algorithm'].value_counts()"
   ]
  },
  {
   "cell_type": "code",
   "execution_count": 85,
   "metadata": {},
   "outputs": [
    {
     "data": {
      "text/plain": [
       "mostly     14\n",
       "perfect     8\n",
       "poorly      4\n",
       "dtype: int64"
      ]
     },
     "execution_count": 85,
     "metadata": {},
     "output_type": "execute_result"
    }
   ],
   "source": [
    "zoobot_quality_when_best = bar_df.query('best_algorithm == \"zoobot-3d\"')['best_quality'].value_counts()\n",
    "zoobot_quality_when_worst = bar_df.query('best_algorithm == \"gz3d\"')['second_quality'].value_counts()\n",
    "zoobot_quality_when_worst['perfect'] = zoobot_quality_when_worst.get('perfect', 0)\n",
    "\n",
    "zoobot_quality_when_best + zoobot_quality_when_worst"
   ]
  },
  {
   "cell_type": "code",
   "execution_count": 86,
   "metadata": {},
   "outputs": [
    {
     "data": {
      "text/plain": [
       "mostly     14\n",
       "perfect     4\n",
       "poorly      8\n",
       "dtype: int64"
      ]
     },
     "execution_count": 86,
     "metadata": {},
     "output_type": "execute_result"
    }
   ],
   "source": [
    "gz3d_quality_when_best = bar_df.query('best_algorithm == \"gz3d\"')['best_quality'].value_counts()\n",
    "gz3d_quality_when_worst = bar_df.query('best_algorithm == \"zoobot-3d\"')['second_quality'].value_counts()\n",
    "gz3d_quality_when_worst['perfect'] = gz3d_quality_when_worst.get('perfect', 0)\n",
    "\n",
    "gz3d_quality_when_best + gz3d_quality_when_worst"
   ]
  },
  {
   "cell_type": "markdown",
   "metadata": {},
   "source": [
    "## repeat for spirals"
   ]
  },
  {
   "cell_type": "code",
   "execution_count": 87,
   "metadata": {},
   "outputs": [
    {
     "data": {
      "text/html": [
       "<div>\n",
       "<style scoped>\n",
       "    .dataframe tbody tr th:only-of-type {\n",
       "        vertical-align: middle;\n",
       "    }\n",
       "\n",
       "    .dataframe tbody tr th {\n",
       "        vertical-align: top;\n",
       "    }\n",
       "\n",
       "    .dataframe thead th {\n",
       "        text-align: right;\n",
       "    }\n",
       "</style>\n",
       "<table border=\"1\" class=\"dataframe\">\n",
       "  <thead>\n",
       "    <tr style=\"text-align: right;\">\n",
       "      <th></th>\n",
       "      <th>best_algorithm</th>\n",
       "      <th>best_quality</th>\n",
       "      <th>second_algorithm</th>\n",
       "      <th>second_quality</th>\n",
       "    </tr>\n",
       "  </thead>\n",
       "  <tbody>\n",
       "    <tr>\n",
       "      <th>0</th>\n",
       "      <td>zoobot-3d</td>\n",
       "      <td>mostly</td>\n",
       "      <td>gz3d</td>\n",
       "      <td>mostly</td>\n",
       "    </tr>\n",
       "    <tr>\n",
       "      <th>1</th>\n",
       "      <td>gz3d</td>\n",
       "      <td>mostly</td>\n",
       "      <td>zoobot-3d</td>\n",
       "      <td>mostly</td>\n",
       "    </tr>\n",
       "    <tr>\n",
       "      <th>2</th>\n",
       "      <td>zoobot-3d</td>\n",
       "      <td>mostly</td>\n",
       "      <td>gz3d</td>\n",
       "      <td>mostly</td>\n",
       "    </tr>\n",
       "    <tr>\n",
       "      <th>3</th>\n",
       "      <td>zoobot-3d</td>\n",
       "      <td>perfect</td>\n",
       "      <td>gz3d</td>\n",
       "      <td>mostly</td>\n",
       "    </tr>\n",
       "    <tr>\n",
       "      <th>4</th>\n",
       "      <td>zoobot-3d</td>\n",
       "      <td>perfect</td>\n",
       "      <td>gz3d</td>\n",
       "      <td>mostly</td>\n",
       "    </tr>\n",
       "    <tr>\n",
       "      <th>...</th>\n",
       "      <td>...</td>\n",
       "      <td>...</td>\n",
       "      <td>...</td>\n",
       "      <td>...</td>\n",
       "    </tr>\n",
       "    <tr>\n",
       "      <th>86</th>\n",
       "      <td>zoobot-3d</td>\n",
       "      <td>perfect</td>\n",
       "      <td>gz3d</td>\n",
       "      <td>mostly</td>\n",
       "    </tr>\n",
       "    <tr>\n",
       "      <th>87</th>\n",
       "      <td>zoobot-3d</td>\n",
       "      <td>perfect</td>\n",
       "      <td>gz3d</td>\n",
       "      <td>perfect</td>\n",
       "    </tr>\n",
       "    <tr>\n",
       "      <th>88</th>\n",
       "      <td>zoobot-3d</td>\n",
       "      <td>perfect</td>\n",
       "      <td>gz3d</td>\n",
       "      <td>mostly</td>\n",
       "    </tr>\n",
       "    <tr>\n",
       "      <th>89</th>\n",
       "      <td>zoobot-3d</td>\n",
       "      <td>perfect</td>\n",
       "      <td>gz3d</td>\n",
       "      <td>mostly</td>\n",
       "    </tr>\n",
       "    <tr>\n",
       "      <th>90</th>\n",
       "      <td>zoobot-3d</td>\n",
       "      <td>mostly</td>\n",
       "      <td>gz3d</td>\n",
       "      <td>mostly</td>\n",
       "    </tr>\n",
       "  </tbody>\n",
       "</table>\n",
       "<p>91 rows × 4 columns</p>\n",
       "</div>"
      ],
      "text/plain": [
       "   best_algorithm best_quality second_algorithm second_quality\n",
       "0       zoobot-3d       mostly             gz3d         mostly\n",
       "1            gz3d       mostly        zoobot-3d         mostly\n",
       "2       zoobot-3d       mostly             gz3d         mostly\n",
       "3       zoobot-3d      perfect             gz3d         mostly\n",
       "4       zoobot-3d      perfect             gz3d         mostly\n",
       "..            ...          ...              ...            ...\n",
       "86      zoobot-3d      perfect             gz3d         mostly\n",
       "87      zoobot-3d      perfect             gz3d        perfect\n",
       "88      zoobot-3d      perfect             gz3d         mostly\n",
       "89      zoobot-3d      perfect             gz3d         mostly\n",
       "90      zoobot-3d       mostly             gz3d         mostly\n",
       "\n",
       "[91 rows x 4 columns]"
      ]
     },
     "execution_count": 87,
     "metadata": {},
     "output_type": "execute_result"
    }
   ],
   "source": [
    "spiral_df = pd.DataFrame(data=spiral['annotations'].apply(load_spiral_annotations).tolist())\n",
    "spiral_df"
   ]
  },
  {
   "cell_type": "code",
   "execution_count": 88,
   "metadata": {},
   "outputs": [
    {
     "data": {
      "text/plain": [
       "zoobot-3d    74\n",
       "gz3d         17\n",
       "Name: best_algorithm, dtype: int64"
      ]
     },
     "execution_count": 88,
     "metadata": {},
     "output_type": "execute_result"
    }
   ],
   "source": [
    "spiral_df['best_algorithm'].value_counts()"
   ]
  },
  {
   "cell_type": "code",
   "execution_count": 89,
   "metadata": {},
   "outputs": [
    {
     "data": {
      "text/plain": [
       "gz3d         73\n",
       "zoobot-3d    17\n",
       "sparcfire     1\n",
       "Name: second_algorithm, dtype: int64"
      ]
     },
     "execution_count": 89,
     "metadata": {},
     "output_type": "execute_result"
    }
   ],
   "source": [
    "spiral_df['second_algorithm'].value_counts()"
   ]
  },
  {
   "cell_type": "code",
   "execution_count": 90,
   "metadata": {},
   "outputs": [
    {
     "data": {
      "text/plain": [
       "mostly     49\n",
       "perfect    30\n",
       "poorly      4\n",
       "dtype: int64"
      ]
     },
     "execution_count": 90,
     "metadata": {},
     "output_type": "execute_result"
    }
   ],
   "source": [
    "zoobot_quality_when_best = spiral_df.query('best_algorithm == \"zoobot-3d\"')['best_quality'].value_counts()\n",
    "zoobot_quality_when_middle = spiral_df.query('second_algorithm == \"zoobot-3d\"')['second_quality'].value_counts()\n",
    "# zoobot_quality_when_worst = spiral_df.query('best_algorithm == \"gz3d\"')['second_quality'].value_counts()  # actually didn't measure\n",
    "zoobot_quality_when_middle['perfect'] = zoobot_quality_when_middle.get('perfect', 0)\n",
    "\n",
    "zoobot_quality_when_best + zoobot_quality_when_worst"
   ]
  },
  {
   "cell_type": "code",
   "execution_count": 91,
   "metadata": {},
   "outputs": [
    {
     "data": {
      "text/plain": [
       "mostly     23\n",
       "perfect     3\n",
       "poorly      8\n",
       "dtype: int64"
      ]
     },
     "execution_count": 91,
     "metadata": {},
     "output_type": "execute_result"
    }
   ],
   "source": [
    "gz3d_quality_when_best = spiral_df.query('best_algorithm == \"gz3d\"')['best_quality'].value_counts()\n",
    "gz3d_quality_when_middle = spiral_df.query('second_algorithm == \"gz3d\"')['second_quality'].value_counts()\n",
    "# gz3d_quality_when_worst = spiral_df.query('best_algorithm == \"gz3d\"')['second_quality'].value_counts()  # actually didn't measure\n",
    "gz3d_quality_when_middle['perfect'] = gz3d_quality_when_middle.get('perfect', 0)\n",
    "\n",
    "gz3d_quality_when_best + gz3d_quality_when_worst"
   ]
  },
  {
   "cell_type": "code",
   "execution_count": null,
   "metadata": {},
   "outputs": [],
   "source": []
  }
 ],
 "metadata": {
  "kernelspec": {
   "display_name": "dev",
   "language": "python",
   "name": "python3"
  },
  "language_info": {
   "codemirror_mode": {
    "name": "ipython",
    "version": 3
   },
   "file_extension": ".py",
   "mimetype": "text/x-python",
   "name": "python",
   "nbconvert_exporter": "python",
   "pygments_lexer": "ipython3",
   "version": "3.8.16"
  },
  "orig_nbformat": 4
 },
 "nbformat": 4,
 "nbformat_minor": 2
}
