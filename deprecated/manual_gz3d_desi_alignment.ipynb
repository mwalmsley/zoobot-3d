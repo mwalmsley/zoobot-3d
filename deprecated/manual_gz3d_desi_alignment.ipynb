{
 "cells": [
  {
   "cell_type": "code",
   "execution_count": 6,
   "metadata": {},
   "outputs": [],
   "source": [
    "import glob\n",
    "import os\n",
    "import pandas as pd\n",
    "import matplotlib.pyplot as plt\n",
    "from astropy.io import fits\n",
    "import numpy as np\n",
    "from PIL import Image\n",
    "import json\n",
    "\n",
    "import segmap_utils, dataloader"
   ]
  },
  {
   "cell_type": "code",
   "execution_count": 2,
   "metadata": {},
   "outputs": [],
   "source": [
    "df = pd.read_csv('/Users/user/repos/zoobot-3d/data/gz3d_and_gz_desi_matches.csv')[:100]"
   ]
  },
  {
   "cell_type": "code",
   "execution_count": 3,
   "metadata": {},
   "outputs": [],
   "source": [
    "\n",
    "df['local_desi_jpg_loc'] = 'data/desi/jpg/' + str(df['brickid']) + '/' + str(df['brickid']) + '_' + str(df['objid']) + '.jpg'"
   ]
  },
  {
   "cell_type": "code",
   "execution_count": 7,
   "metadata": {},
   "outputs": [
    {
     "ename": "KeyError",
     "evalue": "'ra_subject'",
     "output_type": "error",
     "traceback": [
      "\u001b[0;31m---------------------------------------------------------------------------\u001b[0m",
      "\u001b[0;31mKeyError\u001b[0m                                  Traceback (most recent call last)",
      "File \u001b[0;32m~/mambaforge/envs/dev/lib/python3.8/site-packages/pandas/core/indexes/base.py:3802\u001b[0m, in \u001b[0;36mIndex.get_loc\u001b[0;34m(self, key, method, tolerance)\u001b[0m\n\u001b[1;32m   3801\u001b[0m \u001b[39mtry\u001b[39;00m:\n\u001b[0;32m-> 3802\u001b[0m     \u001b[39mreturn\u001b[39;00m \u001b[39mself\u001b[39;49m\u001b[39m.\u001b[39;49m_engine\u001b[39m.\u001b[39;49mget_loc(casted_key)\n\u001b[1;32m   3803\u001b[0m \u001b[39mexcept\u001b[39;00m \u001b[39mKeyError\u001b[39;00m \u001b[39mas\u001b[39;00m err:\n",
      "File \u001b[0;32m~/mambaforge/envs/dev/lib/python3.8/site-packages/pandas/_libs/index.pyx:138\u001b[0m, in \u001b[0;36mpandas._libs.index.IndexEngine.get_loc\u001b[0;34m()\u001b[0m\n",
      "File \u001b[0;32m~/mambaforge/envs/dev/lib/python3.8/site-packages/pandas/_libs/index.pyx:165\u001b[0m, in \u001b[0;36mpandas._libs.index.IndexEngine.get_loc\u001b[0;34m()\u001b[0m\n",
      "File \u001b[0;32mpandas/_libs/hashtable_class_helper.pxi:5745\u001b[0m, in \u001b[0;36mpandas._libs.hashtable.PyObjectHashTable.get_item\u001b[0;34m()\u001b[0m\n",
      "File \u001b[0;32mpandas/_libs/hashtable_class_helper.pxi:5753\u001b[0m, in \u001b[0;36mpandas._libs.hashtable.PyObjectHashTable.get_item\u001b[0;34m()\u001b[0m\n",
      "\u001b[0;31mKeyError\u001b[0m: 'ra_subject'",
      "\nThe above exception was the direct cause of the following exception:\n",
      "\u001b[0;31mKeyError\u001b[0m                                  Traceback (most recent call last)",
      "\u001b[1;32m/Users/user/repos/zoobot-3d/manual_gz3d_desi_alignment.ipynb Cell 4\u001b[0m line \u001b[0;36m6\n\u001b[1;32m      <a href='vscode-notebook-cell:/Users/user/repos/zoobot-3d/manual_gz3d_desi_alignment.ipynb#W3sZmlsZQ%3D%3D?line=3'>4</a>\u001b[0m     segmaps \u001b[39m=\u001b[39m json\u001b[39m.\u001b[39mload(f)\n\u001b[1;32m      <a href='vscode-notebook-cell:/Users/user/repos/zoobot-3d/manual_gz3d_desi_alignment.ipynb#W3sZmlsZQ%3D%3D?line=4'>5</a>\u001b[0m spiral_marks \u001b[39m=\u001b[39m segmaps[\u001b[39m'\u001b[39m\u001b[39mspiral\u001b[39m\u001b[39m'\u001b[39m]\n\u001b[0;32m----> <a href='vscode-notebook-cell:/Users/user/repos/zoobot-3d/manual_gz3d_desi_alignment.ipynb#W3sZmlsZQ%3D%3D?line=5'>6</a>\u001b[0m _, fig, ax \u001b[39m=\u001b[39m dataloader\u001b[39m.\u001b[39;49mconstruct_segmap_image(galaxy, spiral_marks, \u001b[39mTrue\u001b[39;49;00m)\n",
      "File \u001b[0;32m~/repos/zoobot-3d/dataloader.py:78\u001b[0m, in \u001b[0;36mconstruct_segmap_image\u001b[0;34m(galaxy, marks_by_users, debug_alignment)\u001b[0m\n\u001b[1;32m     74\u001b[0m     mask \u001b[39m+\u001b[39m\u001b[39m=\u001b[39m segmap_utils\u001b[39m.\u001b[39mdraw_components(user_components, remove_self_intersecting\u001b[39m=\u001b[39m\u001b[39mFalse\u001b[39;00m)\n\u001b[1;32m     76\u001b[0m \u001b[39m# work out the WCS of the segmap\u001b[39;00m\n\u001b[1;32m     77\u001b[0m segmap_wcs \u001b[39m=\u001b[39m wcs_utils\u001b[39m.\u001b[39mget_wcs_assuming_image_size(\n\u001b[0;32m---> 78\u001b[0m     center_ra\u001b[39m=\u001b[39mgalaxy[\u001b[39m'\u001b[39;49m\u001b[39mra_subject\u001b[39;49m\u001b[39m'\u001b[39;49m],  \u001b[39m# TODO\u001b[39;00m\n\u001b[1;32m     79\u001b[0m     center_dec\u001b[39m=\u001b[39mgalaxy[\u001b[39m'\u001b[39m\u001b[39mdec_subject\u001b[39m\u001b[39m'\u001b[39m],\n\u001b[1;32m     80\u001b[0m     \u001b[39m# GZ3D numbers\u001b[39;00m\n\u001b[1;32m     81\u001b[0m     center_pixel_index\u001b[39m=\u001b[39m\u001b[39m525\u001b[39m\u001b[39m/\u001b[39m\u001b[39m2.\u001b[39m,\n\u001b[1;32m     82\u001b[0m     arcsec_per_pixel\u001b[39m=\u001b[39m\u001b[39m0.099\u001b[39m\n\u001b[1;32m     83\u001b[0m )\n\u001b[1;32m     85\u001b[0m \u001b[39m# work out the WCS of the DESI jpg image\u001b[39;00m\n\u001b[1;32m     86\u001b[0m target_image_wcs \u001b[39m=\u001b[39m wcs_utils\u001b[39m.\u001b[39mget_wcs_assuming_image_size(\n\u001b[1;32m     87\u001b[0m     center_ra\u001b[39m=\u001b[39mgalaxy[\u001b[39m'\u001b[39m\u001b[39mra\u001b[39m\u001b[39m'\u001b[39m],\n\u001b[1;32m     88\u001b[0m     center_dec\u001b[39m=\u001b[39mgalaxy[\u001b[39m'\u001b[39m\u001b[39mdec\u001b[39m\u001b[39m'\u001b[39m],\n\u001b[1;32m     89\u001b[0m     center_pixel_index\u001b[39m=\u001b[39m\u001b[39m424\u001b[39m\u001b[39m/\u001b[39m\u001b[39m2\u001b[39m, \u001b[39m# target jpg is 424x424,  \u001b[39;00m\n\u001b[1;32m     90\u001b[0m     arcsec_per_pixel\u001b[39m=\u001b[39mgalaxy[\u001b[39m'\u001b[39m\u001b[39mest_dr5_pixscale\u001b[39m\u001b[39m'\u001b[39m]\n\u001b[1;32m     91\u001b[0m )\n",
      "File \u001b[0;32m~/mambaforge/envs/dev/lib/python3.8/site-packages/pandas/core/series.py:981\u001b[0m, in \u001b[0;36mSeries.__getitem__\u001b[0;34m(self, key)\u001b[0m\n\u001b[1;32m    978\u001b[0m     \u001b[39mreturn\u001b[39;00m \u001b[39mself\u001b[39m\u001b[39m.\u001b[39m_values[key]\n\u001b[1;32m    980\u001b[0m \u001b[39melif\u001b[39;00m key_is_scalar:\n\u001b[0;32m--> 981\u001b[0m     \u001b[39mreturn\u001b[39;00m \u001b[39mself\u001b[39;49m\u001b[39m.\u001b[39;49m_get_value(key)\n\u001b[1;32m    983\u001b[0m \u001b[39mif\u001b[39;00m is_hashable(key):\n\u001b[1;32m    984\u001b[0m     \u001b[39m# Otherwise index.get_value will raise InvalidIndexError\u001b[39;00m\n\u001b[1;32m    985\u001b[0m     \u001b[39mtry\u001b[39;00m:\n\u001b[1;32m    986\u001b[0m         \u001b[39m# For labels that don't resolve as scalars like tuples and frozensets\u001b[39;00m\n",
      "File \u001b[0;32m~/mambaforge/envs/dev/lib/python3.8/site-packages/pandas/core/series.py:1089\u001b[0m, in \u001b[0;36mSeries._get_value\u001b[0;34m(self, label, takeable)\u001b[0m\n\u001b[1;32m   1086\u001b[0m     \u001b[39mreturn\u001b[39;00m \u001b[39mself\u001b[39m\u001b[39m.\u001b[39m_values[label]\n\u001b[1;32m   1088\u001b[0m \u001b[39m# Similar to Index.get_value, but we do not fall back to positional\u001b[39;00m\n\u001b[0;32m-> 1089\u001b[0m loc \u001b[39m=\u001b[39m \u001b[39mself\u001b[39;49m\u001b[39m.\u001b[39;49mindex\u001b[39m.\u001b[39;49mget_loc(label)\n\u001b[1;32m   1090\u001b[0m \u001b[39mreturn\u001b[39;00m \u001b[39mself\u001b[39m\u001b[39m.\u001b[39mindex\u001b[39m.\u001b[39m_get_values_for_loc(\u001b[39mself\u001b[39m, loc, label)\n",
      "File \u001b[0;32m~/mambaforge/envs/dev/lib/python3.8/site-packages/pandas/core/indexes/base.py:3804\u001b[0m, in \u001b[0;36mIndex.get_loc\u001b[0;34m(self, key, method, tolerance)\u001b[0m\n\u001b[1;32m   3802\u001b[0m     \u001b[39mreturn\u001b[39;00m \u001b[39mself\u001b[39m\u001b[39m.\u001b[39m_engine\u001b[39m.\u001b[39mget_loc(casted_key)\n\u001b[1;32m   3803\u001b[0m \u001b[39mexcept\u001b[39;00m \u001b[39mKeyError\u001b[39;00m \u001b[39mas\u001b[39;00m err:\n\u001b[0;32m-> 3804\u001b[0m     \u001b[39mraise\u001b[39;00m \u001b[39mKeyError\u001b[39;00m(key) \u001b[39mfrom\u001b[39;00m \u001b[39merr\u001b[39;00m\n\u001b[1;32m   3805\u001b[0m \u001b[39mexcept\u001b[39;00m \u001b[39mTypeError\u001b[39;00m:\n\u001b[1;32m   3806\u001b[0m     \u001b[39m# If we have a listlike key, _check_indexing_error will raise\u001b[39;00m\n\u001b[1;32m   3807\u001b[0m     \u001b[39m#  InvalidIndexError. Otherwise we fall through and re-raise\u001b[39;00m\n\u001b[1;32m   3808\u001b[0m     \u001b[39m#  the TypeError.\u001b[39;00m\n\u001b[1;32m   3809\u001b[0m     \u001b[39mself\u001b[39m\u001b[39m.\u001b[39m_check_indexing_error(key)\n",
      "\u001b[0;31mKeyError\u001b[0m: 'ra_subject'"
     ]
    }
   ],
   "source": [
    "df['segmap_json_loc'] = df['local_gz3d_fits_loc'].str.replace('/fits_gz/', '/segmaps/', regex=False).str.replace('.fits.gz', '.json', regex=False)\n",
    "galaxy = df.iloc[32]\n",
    "with open(galaxy['segmap_json_loc'], 'r') as f:\n",
    "    segmaps = json.load(f)\n",
    "spiral_marks = segmaps['spiral']\n",
    "_, fig, ax = dataloader.construct_segmap_image(galaxy, spiral_marks, True)"
   ]
  },
  {
   "cell_type": "code",
   "execution_count": null,
   "metadata": {},
   "outputs": [],
   "source": [
    "im = fits.open(galaxy['local_desi_fits_loc'])[0].data\n",
    "im = im.transpose(1, 2, 0)  # channels last\n",
    "\n",
    "# def crop_in_third(img):\n",
    "#     width = img.shape[0]//3\n",
    "#     print(img.shape, width)\n",
    "#     return crop_center(img, width, width)\n",
    "\n",
    "# crop DESI to have GZ3D FoV\n",
    "# 52 arcsec at 0.262 arcsec/pixel\n",
    "# 52 / 0.262 = 198\n",
    "\n",
    "def crop_center(img,cropx=198,cropy=198):\n",
    "    y , x, _ = img.shape\n",
    "    startx = x//2-(cropx//2)\n",
    "    starty = y//2-(cropy//2)    \n",
    "    return img[starty:starty+cropy,startx:startx+cropx]\n",
    "\n",
    "im = crop_center(im)\n",
    "im = im.transpose(2, 0, 1)  # channels first\n",
    "# print(im)"
   ]
  },
  {
   "cell_type": "code",
   "execution_count": null,
   "metadata": {},
   "outputs": [],
   "source": [
    "\n",
    "desi_im = utils.fits_to_png(im).transpose(Image.FLIP_TOP_BOTTOM).resize((525, 525))\n",
    "plt.imshow(desi_im)\n",
    "# im.min(), im.max()"
   ]
  },
  {
   "cell_type": "markdown",
   "metadata": {},
   "source": [
    "\"GZ:3D images were selected to have a pixel scale of 0.099 arcsec per pixel\n",
    "and were generated to have a ﬁeld of view of 52 arcsec (525 × 525\n",
    "pixels), selected to be twice the size of the largest MaNGA bundle\n",
    "on the sky.\""
   ]
  },
  {
   "cell_type": "code",
   "execution_count": null,
   "metadata": {},
   "outputs": [],
   "source": [
    "manga_im = fits.open(galaxy['local_gz3d_fits_loc'])[0].data\n",
    "plt.imshow(manga_im)"
   ]
  },
  {
   "cell_type": "code",
   "execution_count": null,
   "metadata": {},
   "outputs": [],
   "source": [
    "seg_im = fits.open(galaxy['local_gz3d_fits_loc'])[3].data\n",
    "plt.imshow(seg_im)"
   ]
  },
  {
   "cell_type": "code",
   "execution_count": null,
   "metadata": {},
   "outputs": [],
   "source": [
    "seg_im.shape, desi_im.size"
   ]
  },
  {
   "cell_type": "code",
   "execution_count": null,
   "metadata": {},
   "outputs": [],
   "source": [
    "plt.imshow(desi_im)\n",
    "plt.imshow(seg_im, alpha=.1)\n",
    "plt.axis('off')"
   ]
  },
  {
   "cell_type": "code",
   "execution_count": null,
   "metadata": {},
   "outputs": [],
   "source": [
    "\"\"\"\n",
    "The image stacks use a simple tangent-plane (WCS TAN) projection around the brick center.\n",
    "The projections for the griz filters are identical, \n",
    "with a pixel scale of 0.262″/pix. \n",
    "\"\"\""
   ]
  },
  {
   "cell_type": "code",
   "execution_count": null,
   "metadata": {},
   "outputs": [],
   "source": [
    "# TODO need a flip"
   ]
  }
 ],
 "metadata": {
  "kernelspec": {
   "display_name": "dev",
   "language": "python",
   "name": "python3"
  },
  "language_info": {
   "codemirror_mode": {
    "name": "ipython",
    "version": 3
   },
   "file_extension": ".py",
   "mimetype": "text/x-python",
   "name": "python",
   "nbconvert_exporter": "python",
   "pygments_lexer": "ipython3",
   "version": "3.8.16"
  },
  "orig_nbformat": 4
 },
 "nbformat": 4,
 "nbformat_minor": 2
}
