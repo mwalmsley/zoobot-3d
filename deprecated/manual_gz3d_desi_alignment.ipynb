{
 "cells": [
  {
   "cell_type": "code",
   "execution_count": null,
   "metadata": {},
   "outputs": [],
   "source": [
    "import glob\n",
    "import os\n",
    "import pandas as pd\n",
    "import matplotlib.pyplot as plt\n",
    "from astropy.io import fits\n",
    "import numpy as np\n",
    "from PIL import Image\n",
    "\n",
    "\n",
    "import utils"
   ]
  },
  {
   "cell_type": "code",
   "execution_count": null,
   "metadata": {},
   "outputs": [],
   "source": [
    "galaxy = df.iloc[32]"
   ]
  },
  {
   "cell_type": "code",
   "execution_count": null,
   "metadata": {},
   "outputs": [],
   "source": [
    "im = fits.open(galaxy['local_desi_fits_loc'])[0].data\n",
    "im = im.transpose(1, 2, 0)  # channels last\n",
    "\n",
    "# def crop_in_third(img):\n",
    "#     width = img.shape[0]//3\n",
    "#     print(img.shape, width)\n",
    "#     return crop_center(img, width, width)\n",
    "\n",
    "# crop DESI to have GZ3D FoV\n",
    "# 52 arcsec at 0.262 arcsec/pixel\n",
    "# 52 / 0.262 = 198\n",
    "\n",
    "def crop_center(img,cropx=198,cropy=198):\n",
    "    y , x, _ = img.shape\n",
    "    startx = x//2-(cropx//2)\n",
    "    starty = y//2-(cropy//2)    \n",
    "    return img[starty:starty+cropy,startx:startx+cropx]\n",
    "\n",
    "im = crop_center(im)\n",
    "im = im.transpose(2, 0, 1)  # channels first\n",
    "# print(im)"
   ]
  },
  {
   "cell_type": "code",
   "execution_count": null,
   "metadata": {},
   "outputs": [],
   "source": [
    "\n",
    "desi_im = utils.fits_to_png(im).transpose(Image.FLIP_TOP_BOTTOM).resize((525, 525))\n",
    "plt.imshow(desi_im)\n",
    "# im.min(), im.max()"
   ]
  },
  {
   "cell_type": "markdown",
   "metadata": {},
   "source": [
    "\"GZ:3D images were selected to have a pixel scale of 0.099 arcsec per pixel\n",
    "and were generated to have a ﬁeld of view of 52 arcsec (525 × 525\n",
    "pixels), selected to be twice the size of the largest MaNGA bundle\n",
    "on the sky.\""
   ]
  },
  {
   "cell_type": "code",
   "execution_count": null,
   "metadata": {},
   "outputs": [],
   "source": [
    "manga_im = fits.open(galaxy['local_gz3d_fits_loc'])[0].data\n",
    "plt.imshow(manga_im)"
   ]
  },
  {
   "cell_type": "code",
   "execution_count": null,
   "metadata": {},
   "outputs": [],
   "source": [
    "seg_im = fits.open(galaxy['local_gz3d_fits_loc'])[3].data\n",
    "plt.imshow(seg_im)"
   ]
  },
  {
   "cell_type": "code",
   "execution_count": null,
   "metadata": {},
   "outputs": [],
   "source": [
    "seg_im.shape, desi_im.size"
   ]
  },
  {
   "cell_type": "code",
   "execution_count": null,
   "metadata": {},
   "outputs": [],
   "source": [
    "plt.imshow(desi_im)\n",
    "plt.imshow(seg_im, alpha=.1)\n",
    "plt.axis('off')"
   ]
  },
  {
   "cell_type": "code",
   "execution_count": null,
   "metadata": {},
   "outputs": [],
   "source": [
    "\"\"\"\n",
    "The image stacks use a simple tangent-plane (WCS TAN) projection around the brick center.\n",
    "The projections for the griz filters are identical, \n",
    "with a pixel scale of 0.262″/pix. \n",
    "\"\"\""
   ]
  },
  {
   "cell_type": "code",
   "execution_count": null,
   "metadata": {},
   "outputs": [],
   "source": [
    "# TODO need a flip"
   ]
  }
 ],
 "metadata": {
  "language_info": {
   "name": "python"
  },
  "orig_nbformat": 4
 },
 "nbformat": 4,
 "nbformat_minor": 2
}
