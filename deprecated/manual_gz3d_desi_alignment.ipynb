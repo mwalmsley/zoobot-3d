{
 "cells": [
  {
   "cell_type": "code",
   "execution_count": 6,
   "metadata": {},
   "outputs": [],
   "source": [
    "import glob\n",
    "import os\n",
    "import pandas as pd\n",
    "import matplotlib.pyplot as plt\n",
    "from astropy.io import fits\n",
    "import numpy as np\n",
    "from PIL import Image\n",
    "import json\n",
    "\n",
    "import segmap_utils, dataloader"
   ]
  },
  {
   "cell_type": "code",
   "execution_count": 2,
   "metadata": {},
   "outputs": [],
   "source": [
    "df = pd.read_csv('/Users/user/repos/zoobot-3d/data/gz3d_and_gz_desi_matches.csv')[:100]"
   ]
  },
  {
   "cell_type": "code",
   "execution_count": 3,
   "metadata": {},
   "outputs": [],
   "source": [
    "\n",
    "df['local_desi_jpg_loc'] = 'data/desi/jpg/' + str(df['brickid']) + '/' + str(df['brickid']) + '_' + str(df['objid']) + '.jpg'"
   ]
  },
  {
   "cell_type": "code",
   "execution_count": 7,
   "metadata": {},
   "outputs": [],
   "source": [
    "df['segmap_json_loc'] = df['local_gz3d_fits_loc'].str.replace('/fits_gz/', '/segmaps/', regex=False).str.replace('.fits.gz', '.json', regex=False)\n",
    "galaxy = df.iloc[32]\n",
    "with open(galaxy['segmap_json_loc'], 'r') as f:\n",
    "    segmaps = json.load(f)\n",
    "spiral_marks = segmaps['spiral']\n",
    "_, fig, ax = dataloader.construct_segmap_image(galaxy, spiral_marks, True)"
   ]
  },
  {
   "cell_type": "code",
   "execution_count": null,
   "metadata": {},
   "outputs": [],
   "source": [
    "im = fits.open(galaxy['local_desi_fits_loc'])[0].data\n",
    "im = im.transpose(1, 2, 0)  # channels last\n",
    "\n",
    "# def crop_in_third(img):\n",
    "#     width = img.shape[0]//3\n",
    "#     print(img.shape, width)\n",
    "#     return crop_center(img, width, width)\n",
    "\n",
    "# crop DESI to have GZ3D FoV\n",
    "# 52 arcsec at 0.262 arcsec/pixel\n",
    "# 52 / 0.262 = 198\n",
    "\n",
    "def crop_center(img,cropx=198,cropy=198):\n",
    "    y , x, _ = img.shape\n",
    "    startx = x//2-(cropx//2)\n",
    "    starty = y//2-(cropy//2)    \n",
    "    return img[starty:starty+cropy,startx:startx+cropx]\n",
    "\n",
    "im = crop_center(im)\n",
    "im = im.transpose(2, 0, 1)  # channels first\n",
    "# print(im)"
   ]
  },
  {
   "cell_type": "code",
   "execution_count": null,
   "metadata": {},
   "outputs": [],
   "source": [
    "\n",
    "desi_im = utils.fits_to_png(im).transpose(Image.FLIP_TOP_BOTTOM).resize((525, 525))\n",
    "plt.imshow(desi_im)\n",
    "# im.min(), im.max()"
   ]
  },
  {
   "cell_type": "markdown",
   "metadata": {},
   "source": [
    "\"GZ:3D images were selected to have a pixel scale of 0.099 arcsec per pixel\n",
    "and were generated to have a ﬁeld of view of 52 arcsec (525 × 525\n",
    "pixels), selected to be twice the size of the largest MaNGA bundle\n",
    "on the sky.\""
   ]
  },
  {
   "cell_type": "code",
   "execution_count": null,
   "metadata": {},
   "outputs": [],
   "source": [
    "manga_im = fits.open(galaxy['local_gz3d_fits_loc'])[0].data\n",
    "plt.imshow(manga_im)"
   ]
  },
  {
   "cell_type": "code",
   "execution_count": null,
   "metadata": {},
   "outputs": [],
   "source": [
    "seg_im = fits.open(galaxy['local_gz3d_fits_loc'])[3].data\n",
    "plt.imshow(seg_im)"
   ]
  },
  {
   "cell_type": "code",
   "execution_count": null,
   "metadata": {},
   "outputs": [],
   "source": [
    "seg_im.shape, desi_im.size"
   ]
  },
  {
   "cell_type": "code",
   "execution_count": null,
   "metadata": {},
   "outputs": [],
   "source": [
    "plt.imshow(desi_im)\n",
    "plt.imshow(seg_im, alpha=.1)\n",
    "plt.axis('off')"
   ]
  },
  {
   "cell_type": "code",
   "execution_count": null,
   "metadata": {},
   "outputs": [],
   "source": [
    "\"\"\"\n",
    "The image stacks use a simple tangent-plane (WCS TAN) projection around the brick center.\n",
    "The projections for the griz filters are identical, \n",
    "with a pixel scale of 0.262″/pix. \n",
    "\"\"\""
   ]
  },
  {
   "cell_type": "code",
   "execution_count": null,
   "metadata": {},
   "outputs": [],
   "source": [
    "# TODO need a flip"
   ]
  }
 ],
 "metadata": {
  "kernelspec": {
   "display_name": "dev",
   "language": "python",
   "name": "python3"
  },
  "language_info": {
   "codemirror_mode": {
    "name": "ipython",
    "version": 3
   },
   "file_extension": ".py",
   "mimetype": "text/x-python",
   "name": "python",
   "nbconvert_exporter": "python",
   "pygments_lexer": "ipython3",
   "version": "3.8.16"
  },
  "orig_nbformat": 4
 },
 "nbformat": 4,
 "nbformat_minor": 2
}
