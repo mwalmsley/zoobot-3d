{
 "cells": [
  {
   "cell_type": "code",
   "execution_count": 1,
   "metadata": {},
   "outputs": [],
   "source": [
    "import json\n",
    "\n",
    "import matplotlib.pyplot as plt\n",
    "import pandas as pd\n",
    "\n",
    "from matplotlib.ticker import PercentFormatter\n",
    "\n",
    "\n",
    "from matplotlib.lines import Line2D"
   ]
  },
  {
   "cell_type": "markdown",
   "metadata": {},
   "source": [
    "ashley this is going to be very lazy code, I make no apologies"
   ]
  },
  {
   "cell_type": "code",
   "execution_count": 2,
   "metadata": {},
   "outputs": [],
   "source": [
    "# bar = pd.read_csv('/Users/user/Downloads/bar-classifications.csv')\n",
    "# spiral = pd.read_csv('/Users/user/Downloads/spiral-classifications.csv')\n",
    "# len(bar), len(spiral)\n",
    "\n",
    "df = pd.read_csv('/Users/user/Downloads/galaxy-judges-classifications.csv')[:500]\n",
    "spiral = df.query('workflow_name == \"Spiral\"')\n",
    "bar = df.query('workflow_name == \"Bar\"')"
   ]
  },
  {
   "cell_type": "code",
   "execution_count": 32,
   "metadata": {},
   "outputs": [
    {
     "data": {
      "text/plain": [
       "(367, 133)"
      ]
     },
     "execution_count": 32,
     "metadata": {},
     "output_type": "execute_result"
    }
   ],
   "source": [
    "len(spiral), len(bar)"
   ]
  },
  {
   "cell_type": "code",
   "execution_count": 3,
   "metadata": {},
   "outputs": [
    {
     "data": {
      "text/html": [
       "<div>\n",
       "<style scoped>\n",
       "    .dataframe tbody tr th:only-of-type {\n",
       "        vertical-align: middle;\n",
       "    }\n",
       "\n",
       "    .dataframe tbody tr th {\n",
       "        vertical-align: top;\n",
       "    }\n",
       "\n",
       "    .dataframe thead th {\n",
       "        text-align: right;\n",
       "    }\n",
       "</style>\n",
       "<table border=\"1\" class=\"dataframe\">\n",
       "  <thead>\n",
       "    <tr style=\"text-align: right;\">\n",
       "      <th></th>\n",
       "      <th>classification_id</th>\n",
       "      <th>user_name</th>\n",
       "      <th>user_id</th>\n",
       "      <th>user_ip</th>\n",
       "      <th>workflow_id</th>\n",
       "      <th>workflow_name</th>\n",
       "      <th>workflow_version</th>\n",
       "      <th>created_at</th>\n",
       "      <th>gold_standard</th>\n",
       "      <th>expert</th>\n",
       "      <th>metadata</th>\n",
       "      <th>annotations</th>\n",
       "      <th>subject_data</th>\n",
       "      <th>subject_ids</th>\n",
       "    </tr>\n",
       "  </thead>\n",
       "  <tbody>\n",
       "    <tr>\n",
       "      <th>9</th>\n",
       "      <td>513560862</td>\n",
       "      <td>not-logged-in-b5382d1a8bc756974c12</td>\n",
       "      <td>NaN</td>\n",
       "      <td>b5382d1a8bc756974c12</td>\n",
       "      <td>25255</td>\n",
       "      <td>Bar</td>\n",
       "      <td>23.31</td>\n",
       "      <td>2023-09-29 12:34:49 UTC</td>\n",
       "      <td>NaN</td>\n",
       "      <td>NaN</td>\n",
       "      <td>{\"source\":\"api\",\"session\":\"6f976fd4ea38c92ba30...</td>\n",
       "      <td>[{\"task\":\"T0\",\"task_label\":\"Which algorithm be...</td>\n",
       "      <td>{\"92122936\":{\"retired\":null,\"Filename\":\"371107...</td>\n",
       "      <td>92122936</td>\n",
       "    </tr>\n",
       "    <tr>\n",
       "      <th>10</th>\n",
       "      <td>513560933</td>\n",
       "      <td>not-logged-in-081aee4e90b77b6d9419</td>\n",
       "      <td>NaN</td>\n",
       "      <td>081aee4e90b77b6d9419</td>\n",
       "      <td>25255</td>\n",
       "      <td>Bar</td>\n",
       "      <td>23.31</td>\n",
       "      <td>2023-09-29 12:35:22 UTC</td>\n",
       "      <td>NaN</td>\n",
       "      <td>NaN</td>\n",
       "      <td>{\"source\":\"api\",\"session\":\"6f976fd4ea38c92ba30...</td>\n",
       "      <td>[{\"task\":\"T0\",\"task_label\":\"Which algorithm be...</td>\n",
       "      <td>{\"92122948\":{\"retired\":null,\"Filename\":\"441329...</td>\n",
       "      <td>92122948</td>\n",
       "    </tr>\n",
       "    <tr>\n",
       "      <th>11</th>\n",
       "      <td>513560949</td>\n",
       "      <td>not-logged-in-081aee4e90b77b6d9419</td>\n",
       "      <td>NaN</td>\n",
       "      <td>081aee4e90b77b6d9419</td>\n",
       "      <td>25255</td>\n",
       "      <td>Bar</td>\n",
       "      <td>23.31</td>\n",
       "      <td>2023-09-29 12:35:36 UTC</td>\n",
       "      <td>NaN</td>\n",
       "      <td>NaN</td>\n",
       "      <td>{\"source\":\"api\",\"session\":\"6f976fd4ea38c92ba30...</td>\n",
       "      <td>[{\"task\":\"T0\",\"task_label\":\"Which algorithm be...</td>\n",
       "      <td>{\"92122919\":{\"retired\":null,\"Filename\":\"612183...</td>\n",
       "      <td>92122919</td>\n",
       "    </tr>\n",
       "    <tr>\n",
       "      <th>12</th>\n",
       "      <td>513560980</td>\n",
       "      <td>not-logged-in-081aee4e90b77b6d9419</td>\n",
       "      <td>NaN</td>\n",
       "      <td>081aee4e90b77b6d9419</td>\n",
       "      <td>25255</td>\n",
       "      <td>Bar</td>\n",
       "      <td>23.31</td>\n",
       "      <td>2023-09-29 12:36:07 UTC</td>\n",
       "      <td>NaN</td>\n",
       "      <td>NaN</td>\n",
       "      <td>{\"source\":\"api\",\"session\":\"6f976fd4ea38c92ba30...</td>\n",
       "      <td>[{\"task\":\"T0\",\"task_label\":\"Which algorithm be...</td>\n",
       "      <td>{\"92122939\":{\"retired\":null,\"Filename\":\"322595...</td>\n",
       "      <td>92122939</td>\n",
       "    </tr>\n",
       "    <tr>\n",
       "      <th>13</th>\n",
       "      <td>513561133</td>\n",
       "      <td>not-logged-in-5b7167164481acec4bb7</td>\n",
       "      <td>NaN</td>\n",
       "      <td>5b7167164481acec4bb7</td>\n",
       "      <td>25255</td>\n",
       "      <td>Bar</td>\n",
       "      <td>23.31</td>\n",
       "      <td>2023-09-29 12:38:01 UTC</td>\n",
       "      <td>NaN</td>\n",
       "      <td>NaN</td>\n",
       "      <td>{\"source\":\"api\",\"session\":\"6f976fd4ea38c92ba30...</td>\n",
       "      <td>[{\"task\":\"T0\",\"task_label\":\"Which algorithm be...</td>\n",
       "      <td>{\"92122928\":{\"retired\":null,\"Filename\":\"395590...</td>\n",
       "      <td>92122928</td>\n",
       "    </tr>\n",
       "  </tbody>\n",
       "</table>\n",
       "</div>"
      ],
      "text/plain": [
       "    classification_id                           user_name  user_id  \\\n",
       "9           513560862  not-logged-in-b5382d1a8bc756974c12      NaN   \n",
       "10          513560933  not-logged-in-081aee4e90b77b6d9419      NaN   \n",
       "11          513560949  not-logged-in-081aee4e90b77b6d9419      NaN   \n",
       "12          513560980  not-logged-in-081aee4e90b77b6d9419      NaN   \n",
       "13          513561133  not-logged-in-5b7167164481acec4bb7      NaN   \n",
       "\n",
       "                 user_ip  workflow_id workflow_name  workflow_version  \\\n",
       "9   b5382d1a8bc756974c12        25255           Bar             23.31   \n",
       "10  081aee4e90b77b6d9419        25255           Bar             23.31   \n",
       "11  081aee4e90b77b6d9419        25255           Bar             23.31   \n",
       "12  081aee4e90b77b6d9419        25255           Bar             23.31   \n",
       "13  5b7167164481acec4bb7        25255           Bar             23.31   \n",
       "\n",
       "                 created_at  gold_standard  expert  \\\n",
       "9   2023-09-29 12:34:49 UTC            NaN     NaN   \n",
       "10  2023-09-29 12:35:22 UTC            NaN     NaN   \n",
       "11  2023-09-29 12:35:36 UTC            NaN     NaN   \n",
       "12  2023-09-29 12:36:07 UTC            NaN     NaN   \n",
       "13  2023-09-29 12:38:01 UTC            NaN     NaN   \n",
       "\n",
       "                                             metadata  \\\n",
       "9   {\"source\":\"api\",\"session\":\"6f976fd4ea38c92ba30...   \n",
       "10  {\"source\":\"api\",\"session\":\"6f976fd4ea38c92ba30...   \n",
       "11  {\"source\":\"api\",\"session\":\"6f976fd4ea38c92ba30...   \n",
       "12  {\"source\":\"api\",\"session\":\"6f976fd4ea38c92ba30...   \n",
       "13  {\"source\":\"api\",\"session\":\"6f976fd4ea38c92ba30...   \n",
       "\n",
       "                                          annotations  \\\n",
       "9   [{\"task\":\"T0\",\"task_label\":\"Which algorithm be...   \n",
       "10  [{\"task\":\"T0\",\"task_label\":\"Which algorithm be...   \n",
       "11  [{\"task\":\"T0\",\"task_label\":\"Which algorithm be...   \n",
       "12  [{\"task\":\"T0\",\"task_label\":\"Which algorithm be...   \n",
       "13  [{\"task\":\"T0\",\"task_label\":\"Which algorithm be...   \n",
       "\n",
       "                                         subject_data  subject_ids  \n",
       "9   {\"92122936\":{\"retired\":null,\"Filename\":\"371107...     92122936  \n",
       "10  {\"92122948\":{\"retired\":null,\"Filename\":\"441329...     92122948  \n",
       "11  {\"92122919\":{\"retired\":null,\"Filename\":\"612183...     92122919  \n",
       "12  {\"92122939\":{\"retired\":null,\"Filename\":\"322595...     92122939  \n",
       "13  {\"92122928\":{\"retired\":null,\"Filename\":\"395590...     92122928  "
      ]
     },
     "execution_count": 3,
     "metadata": {},
     "output_type": "execute_result"
    }
   ],
   "source": [
    "bar.head()"
   ]
  },
  {
   "cell_type": "code",
   "execution_count": 4,
   "metadata": {},
   "outputs": [
    {
     "data": {
      "text/plain": [
       "'[{\"task\":\"T0\",\"task_label\":\"Which algorithm best identifies the bars?\",\"value\":\"Top row\"},{\"task\":\"T1\",\"task_label\":\"How did the best algorithm do?\",\"value\":\"Perfectly\"},{\"task\":\"T2\",\"task_label\":\"How did the other algorithm do?\",\"value\":\"Mostly well (some minor errors)\"}]'"
      ]
     },
     "execution_count": 4,
     "metadata": {},
     "output_type": "execute_result"
    }
   ],
   "source": [
    "bar.iloc[0]['annotations']"
   ]
  },
  {
   "cell_type": "code",
   "execution_count": 5,
   "metadata": {},
   "outputs": [],
   "source": [
    "\n",
    "\n",
    "quality_renamer = {\n",
    "    'Perfectly': 'perfect',\n",
    "    'Mostly well (some minor errors)': 'mostly',\n",
    "    'Mostly well, some small errors': 'mostly',\n",
    "    'Mostly poorly (some major errors)': 'poorly',\n",
    "    'Mostly poorly, some major errors': 'poorly',\n",
    "    'Totally failed': 'failed'\n",
    "}\n",
    "\n",
    "bar_namer = {\n",
    "    'Top row': 'gz3d',\n",
    "    'Bottom row': 'zoobot-3d'\n",
    "}\n",
    "\n",
    "spiral_namer = {\n",
    "    'Top row': 'sparcfire',\n",
    "    'Middle row': 'gz3d',\n",
    "    'Bottom row': 'zoobot-3d'\n",
    "}\n",
    "    \n",
    "    \n",
    "\n",
    "def load_bar_annotations(annotation_str):\n",
    "    annotations = json.loads(annotation_str)\n",
    "    if len(annotations) == 1:\n",
    "        assert annotations[0]['value'] == \"I can't decide, they're so similar!\"\n",
    "        return {\n",
    "            'best_algorithm': 'tie'\n",
    "        }\n",
    "    assert len(annotations) == 3, len(annotations)\n",
    "    return {\n",
    "        'best_algorithm': bar_namer[annotations[0]['value']],\n",
    "        'best_quality': quality_renamer[annotations[1]['value']],\n",
    "        'second_quality': quality_renamer[annotations[2]['value']],\n",
    "    }\n",
    "\n",
    "def load_spiral_annotations(annotation_str):\n",
    "    annotations = json.loads(annotation_str)\n",
    "    assert len(annotations) == 4, len(annotations)\n",
    "    return {\n",
    "        'best_algorithm': spiral_namer[annotations[0]['value']],\n",
    "        'best_quality': quality_renamer[annotations[1]['value']],\n",
    "        'second_algorithm': spiral_namer[annotations[2]['value']],\n",
    "        'second_quality': quality_renamer[annotations[3]['value']],\n",
    "    }"
   ]
  },
  {
   "cell_type": "code",
   "execution_count": 6,
   "metadata": {},
   "outputs": [
    {
     "data": {
      "text/plain": [
       "{'best_algorithm': 'gz3d',\n",
       " 'best_quality': 'perfect',\n",
       " 'second_quality': 'mostly'}"
      ]
     },
     "execution_count": 6,
     "metadata": {},
     "output_type": "execute_result"
    }
   ],
   "source": [
    "load_bar_annotations(bar['annotations'].iloc[0])"
   ]
  },
  {
   "cell_type": "code",
   "execution_count": 7,
   "metadata": {},
   "outputs": [
    {
     "data": {
      "text/plain": [
       "{'best_algorithm': 'zoobot-3d',\n",
       " 'best_quality': 'mostly',\n",
       " 'second_algorithm': 'gz3d',\n",
       " 'second_quality': 'mostly'}"
      ]
     },
     "execution_count": 7,
     "metadata": {},
     "output_type": "execute_result"
    }
   ],
   "source": [
    "load_spiral_annotations(spiral['annotations'].iloc[0])"
   ]
  },
  {
   "cell_type": "code",
   "execution_count": 8,
   "metadata": {},
   "outputs": [
    {
     "data": {
      "text/html": [
       "<div>\n",
       "<style scoped>\n",
       "    .dataframe tbody tr th:only-of-type {\n",
       "        vertical-align: middle;\n",
       "    }\n",
       "\n",
       "    .dataframe tbody tr th {\n",
       "        vertical-align: top;\n",
       "    }\n",
       "\n",
       "    .dataframe thead th {\n",
       "        text-align: right;\n",
       "    }\n",
       "</style>\n",
       "<table border=\"1\" class=\"dataframe\">\n",
       "  <thead>\n",
       "    <tr style=\"text-align: right;\">\n",
       "      <th></th>\n",
       "      <th>best_algorithm</th>\n",
       "      <th>best_quality</th>\n",
       "      <th>second_quality</th>\n",
       "    </tr>\n",
       "  </thead>\n",
       "  <tbody>\n",
       "    <tr>\n",
       "      <th>0</th>\n",
       "      <td>gz3d</td>\n",
       "      <td>perfect</td>\n",
       "      <td>mostly</td>\n",
       "    </tr>\n",
       "    <tr>\n",
       "      <th>1</th>\n",
       "      <td>gz3d</td>\n",
       "      <td>poorly</td>\n",
       "      <td>poorly</td>\n",
       "    </tr>\n",
       "    <tr>\n",
       "      <th>2</th>\n",
       "      <td>gz3d</td>\n",
       "      <td>perfect</td>\n",
       "      <td>mostly</td>\n",
       "    </tr>\n",
       "    <tr>\n",
       "      <th>3</th>\n",
       "      <td>zoobot-3d</td>\n",
       "      <td>perfect</td>\n",
       "      <td>mostly</td>\n",
       "    </tr>\n",
       "    <tr>\n",
       "      <th>4</th>\n",
       "      <td>zoobot-3d</td>\n",
       "      <td>mostly</td>\n",
       "      <td>mostly</td>\n",
       "    </tr>\n",
       "    <tr>\n",
       "      <th>...</th>\n",
       "      <td>...</td>\n",
       "      <td>...</td>\n",
       "      <td>...</td>\n",
       "    </tr>\n",
       "    <tr>\n",
       "      <th>128</th>\n",
       "      <td>zoobot-3d</td>\n",
       "      <td>mostly</td>\n",
       "      <td>poorly</td>\n",
       "    </tr>\n",
       "    <tr>\n",
       "      <th>129</th>\n",
       "      <td>tie</td>\n",
       "      <td>NaN</td>\n",
       "      <td>NaN</td>\n",
       "    </tr>\n",
       "    <tr>\n",
       "      <th>130</th>\n",
       "      <td>tie</td>\n",
       "      <td>NaN</td>\n",
       "      <td>NaN</td>\n",
       "    </tr>\n",
       "    <tr>\n",
       "      <th>131</th>\n",
       "      <td>gz3d</td>\n",
       "      <td>perfect</td>\n",
       "      <td>mostly</td>\n",
       "    </tr>\n",
       "    <tr>\n",
       "      <th>132</th>\n",
       "      <td>tie</td>\n",
       "      <td>NaN</td>\n",
       "      <td>NaN</td>\n",
       "    </tr>\n",
       "  </tbody>\n",
       "</table>\n",
       "<p>133 rows × 3 columns</p>\n",
       "</div>"
      ],
      "text/plain": [
       "    best_algorithm best_quality second_quality\n",
       "0             gz3d      perfect         mostly\n",
       "1             gz3d       poorly         poorly\n",
       "2             gz3d      perfect         mostly\n",
       "3        zoobot-3d      perfect         mostly\n",
       "4        zoobot-3d       mostly         mostly\n",
       "..             ...          ...            ...\n",
       "128      zoobot-3d       mostly         poorly\n",
       "129            tie          NaN            NaN\n",
       "130            tie          NaN            NaN\n",
       "131           gz3d      perfect         mostly\n",
       "132            tie          NaN            NaN\n",
       "\n",
       "[133 rows x 3 columns]"
      ]
     },
     "execution_count": 8,
     "metadata": {},
     "output_type": "execute_result"
    }
   ],
   "source": [
    "bar_df = pd.DataFrame(data=bar['annotations'].apply(load_bar_annotations).tolist())\n",
    "bar_df"
   ]
  },
  {
   "cell_type": "code",
   "execution_count": 29,
   "metadata": {},
   "outputs": [
    {
     "data": {
      "text/plain": [
       "zoobot-3d    0.676692\n",
       "tie          0.210526\n",
       "gz3d         0.112782\n",
       "Name: best_algorithm, dtype: float64"
      ]
     },
     "execution_count": 29,
     "metadata": {},
     "output_type": "execute_result"
    }
   ],
   "source": [
    "bar_df['best_algorithm'].value_counts(normalize=True)  # gz3d won 15 times"
   ]
  },
  {
   "cell_type": "code",
   "execution_count": 10,
   "metadata": {},
   "outputs": [
    {
     "data": {
      "text/plain": [
       "failed      0\n",
       "mostly     63\n",
       "perfect    22\n",
       "poorly     20\n",
       "dtype: int64"
      ]
     },
     "execution_count": 10,
     "metadata": {},
     "output_type": "execute_result"
    }
   ],
   "source": [
    "zoobot_quality_when_best = bar_df.query('best_algorithm == \"zoobot-3d\"')['best_quality'].value_counts()\n",
    "zoobot_quality_when_best['failed'] = zoobot_quality_when_best.get('failed', 0)\n",
    "zoobot_quality_when_worst = bar_df.query('best_algorithm == \"gz3d\"')['second_quality'].value_counts()\n",
    "zoobot_quality_when_worst['perfect'] = zoobot_quality_when_worst.get('perfect', 0)\n",
    "zoobot_quality_when_worst['failed'] = zoobot_quality_when_worst.get('failed', 0)\n",
    "\n",
    "zoobot_quality_when_best + zoobot_quality_when_worst"
   ]
  },
  {
   "cell_type": "code",
   "execution_count": 11,
   "metadata": {},
   "outputs": [
    {
     "data": {
      "text/plain": [
       "failed     16\n",
       "mostly     44\n",
       "perfect     7\n",
       "poorly     38\n",
       "dtype: int64"
      ]
     },
     "execution_count": 11,
     "metadata": {},
     "output_type": "execute_result"
    }
   ],
   "source": [
    "gz3d_quality_when_best = bar_df.query('best_algorithm == \"gz3d\"')['best_quality'].value_counts()\n",
    "gz3d_quality_when_best['failed'] = gz3d_quality_when_best.get('failed', 0)\n",
    "gz3d_quality_when_worst = bar_df.query('best_algorithm == \"zoobot-3d\"')['second_quality'].value_counts()\n",
    "gz3d_quality_when_worst['perfect'] = gz3d_quality_when_worst.get('perfect', 0)\n",
    "gz3d_quality_when_worst['failed'] = gz3d_quality_when_worst.get('failed', 0)\n",
    "\n",
    "gz3d_quality_when_best + gz3d_quality_when_worst"
   ]
  },
  {
   "cell_type": "code",
   "execution_count": 12,
   "metadata": {},
   "outputs": [
    {
     "data": {
      "text/plain": [
       "43"
      ]
     },
     "execution_count": 12,
     "metadata": {},
     "output_type": "execute_result"
    }
   ],
   "source": [
    "((bar_df['best_algorithm'] != \"zoobot-3d\")).sum()  # only 2 was zoobot rated worst, negligible - but include as 'failed' in the below manually"
   ]
  },
  {
   "cell_type": "markdown",
   "metadata": {},
   "source": [
    "## repeat for spirals"
   ]
  },
  {
   "cell_type": "code",
   "execution_count": 13,
   "metadata": {},
   "outputs": [
    {
     "data": {
      "text/html": [
       "<div>\n",
       "<style scoped>\n",
       "    .dataframe tbody tr th:only-of-type {\n",
       "        vertical-align: middle;\n",
       "    }\n",
       "\n",
       "    .dataframe tbody tr th {\n",
       "        vertical-align: top;\n",
       "    }\n",
       "\n",
       "    .dataframe thead th {\n",
       "        text-align: right;\n",
       "    }\n",
       "</style>\n",
       "<table border=\"1\" class=\"dataframe\">\n",
       "  <thead>\n",
       "    <tr style=\"text-align: right;\">\n",
       "      <th></th>\n",
       "      <th>best_algorithm</th>\n",
       "      <th>best_quality</th>\n",
       "      <th>second_algorithm</th>\n",
       "      <th>second_quality</th>\n",
       "    </tr>\n",
       "  </thead>\n",
       "  <tbody>\n",
       "    <tr>\n",
       "      <th>0</th>\n",
       "      <td>zoobot-3d</td>\n",
       "      <td>mostly</td>\n",
       "      <td>gz3d</td>\n",
       "      <td>mostly</td>\n",
       "    </tr>\n",
       "    <tr>\n",
       "      <th>1</th>\n",
       "      <td>gz3d</td>\n",
       "      <td>mostly</td>\n",
       "      <td>zoobot-3d</td>\n",
       "      <td>mostly</td>\n",
       "    </tr>\n",
       "    <tr>\n",
       "      <th>2</th>\n",
       "      <td>zoobot-3d</td>\n",
       "      <td>mostly</td>\n",
       "      <td>gz3d</td>\n",
       "      <td>mostly</td>\n",
       "    </tr>\n",
       "    <tr>\n",
       "      <th>3</th>\n",
       "      <td>zoobot-3d</td>\n",
       "      <td>perfect</td>\n",
       "      <td>gz3d</td>\n",
       "      <td>mostly</td>\n",
       "    </tr>\n",
       "    <tr>\n",
       "      <th>4</th>\n",
       "      <td>zoobot-3d</td>\n",
       "      <td>perfect</td>\n",
       "      <td>gz3d</td>\n",
       "      <td>mostly</td>\n",
       "    </tr>\n",
       "    <tr>\n",
       "      <th>...</th>\n",
       "      <td>...</td>\n",
       "      <td>...</td>\n",
       "      <td>...</td>\n",
       "      <td>...</td>\n",
       "    </tr>\n",
       "    <tr>\n",
       "      <th>362</th>\n",
       "      <td>gz3d</td>\n",
       "      <td>mostly</td>\n",
       "      <td>zoobot-3d</td>\n",
       "      <td>mostly</td>\n",
       "    </tr>\n",
       "    <tr>\n",
       "      <th>363</th>\n",
       "      <td>gz3d</td>\n",
       "      <td>perfect</td>\n",
       "      <td>zoobot-3d</td>\n",
       "      <td>mostly</td>\n",
       "    </tr>\n",
       "    <tr>\n",
       "      <th>364</th>\n",
       "      <td>zoobot-3d</td>\n",
       "      <td>mostly</td>\n",
       "      <td>gz3d</td>\n",
       "      <td>mostly</td>\n",
       "    </tr>\n",
       "    <tr>\n",
       "      <th>365</th>\n",
       "      <td>gz3d</td>\n",
       "      <td>perfect</td>\n",
       "      <td>gz3d</td>\n",
       "      <td>mostly</td>\n",
       "    </tr>\n",
       "    <tr>\n",
       "      <th>366</th>\n",
       "      <td>gz3d</td>\n",
       "      <td>perfect</td>\n",
       "      <td>zoobot-3d</td>\n",
       "      <td>mostly</td>\n",
       "    </tr>\n",
       "  </tbody>\n",
       "</table>\n",
       "<p>367 rows × 4 columns</p>\n",
       "</div>"
      ],
      "text/plain": [
       "    best_algorithm best_quality second_algorithm second_quality\n",
       "0        zoobot-3d       mostly             gz3d         mostly\n",
       "1             gz3d       mostly        zoobot-3d         mostly\n",
       "2        zoobot-3d       mostly             gz3d         mostly\n",
       "3        zoobot-3d      perfect             gz3d         mostly\n",
       "4        zoobot-3d      perfect             gz3d         mostly\n",
       "..             ...          ...              ...            ...\n",
       "362           gz3d       mostly        zoobot-3d         mostly\n",
       "363           gz3d      perfect        zoobot-3d         mostly\n",
       "364      zoobot-3d       mostly             gz3d         mostly\n",
       "365           gz3d      perfect             gz3d         mostly\n",
       "366           gz3d      perfect        zoobot-3d         mostly\n",
       "\n",
       "[367 rows x 4 columns]"
      ]
     },
     "execution_count": 13,
     "metadata": {},
     "output_type": "execute_result"
    }
   ],
   "source": [
    "spiral_df = pd.DataFrame(data=spiral['annotations'].apply(load_spiral_annotations).tolist())\n",
    "spiral_df"
   ]
  },
  {
   "cell_type": "code",
   "execution_count": 14,
   "metadata": {},
   "outputs": [
    {
     "data": {
      "text/plain": [
       "zoobot-3d    0.782016\n",
       "gz3d         0.204360\n",
       "sparcfire    0.013624\n",
       "Name: best_algorithm, dtype: float64"
      ]
     },
     "execution_count": 14,
     "metadata": {},
     "output_type": "execute_result"
    }
   ],
   "source": [
    "spiral_df['best_algorithm'].value_counts(normalize=True)"
   ]
  },
  {
   "cell_type": "code",
   "execution_count": 15,
   "metadata": {},
   "outputs": [
    {
     "data": {
      "text/plain": [
       "(0.013623978201634877, 0.0)"
      ]
     },
     "execution_count": 15,
     "metadata": {},
     "output_type": "execute_result"
    }
   ],
   "source": [
    "# sparcfire beats zoobot if sparcfire is either best, or, gz3d is best and sparcfire is second \n",
    "sparcfire_best = spiral_df['best_algorithm'].isin(['sparcfire'])\n",
    "sparcfire_second = (spiral_df['best_algorithm'].isin(['gz3d'])) & (spiral_df['second_algorithm'].isin(['sparcfire']))\n",
    "sparcfire_best.mean(), sparcfire_second.mean()"
   ]
  },
  {
   "cell_type": "code",
   "execution_count": 16,
   "metadata": {},
   "outputs": [
    {
     "data": {
      "text/plain": [
       "(0.20435967302452315, 0.0)"
      ]
     },
     "execution_count": 16,
     "metadata": {},
     "output_type": "execute_result"
    }
   ],
   "source": [
    "# gz3d beats zoobot if gz3d is best, or, sparcfire is best and gz3d is second \n",
    "gz3d_best = spiral_df['best_algorithm'].isin(['gz3d'])\n",
    "gz3d_second = (spiral_df['best_algorithm'].isin(['sparcfire'])) & (spiral_df['second_algorithm'].isin(['gz3d']))\n",
    "gz3d_best.mean(), gz3d_second.mean()"
   ]
  },
  {
   "cell_type": "code",
   "execution_count": 17,
   "metadata": {},
   "outputs": [
    {
     "data": {
      "text/plain": [
       "0           gz3d\n",
       "1      zoobot-3d\n",
       "2           gz3d\n",
       "3           gz3d\n",
       "4           gz3d\n",
       "         ...    \n",
       "362    zoobot-3d\n",
       "363    zoobot-3d\n",
       "364         gz3d\n",
       "365         gz3d\n",
       "366    zoobot-3d\n",
       "Name: second_algorithm, Length: 367, dtype: object"
      ]
     },
     "execution_count": 17,
     "metadata": {},
     "output_type": "execute_result"
    }
   ],
   "source": [
    "spiral_df['second_algorithm']"
   ]
  },
  {
   "cell_type": "code",
   "execution_count": 18,
   "metadata": {},
   "outputs": [
    {
     "data": {
      "text/plain": [
       "0.782016348773842"
      ]
     },
     "execution_count": 18,
     "metadata": {},
     "output_type": "execute_result"
    }
   ],
   "source": [
    "287/(287+75+5)"
   ]
  },
  {
   "cell_type": "code",
   "execution_count": 19,
   "metadata": {},
   "outputs": [
    {
     "data": {
      "text/plain": [
       "gz3d         281\n",
       "zoobot-3d     78\n",
       "sparcfire      8\n",
       "Name: second_algorithm, dtype: int64"
      ]
     },
     "execution_count": 19,
     "metadata": {},
     "output_type": "execute_result"
    }
   ],
   "source": [
    "spiral_df['second_algorithm'].value_counts()"
   ]
  },
  {
   "cell_type": "code",
   "execution_count": 20,
   "metadata": {},
   "outputs": [
    {
     "data": {
      "text/plain": [
       "2"
      ]
     },
     "execution_count": 20,
     "metadata": {},
     "output_type": "execute_result"
    }
   ],
   "source": [
    "((spiral_df['best_algorithm'] != \"zoobot-3d\") & (spiral_df['second_algorithm'] != \"zoobot-3d\")).sum()  # only 2 was zoobot rated worst, negligible - but include as 'failed' in the below manually"
   ]
  },
  {
   "cell_type": "code",
   "execution_count": 21,
   "metadata": {},
   "outputs": [
    {
     "data": {
      "text/plain": [
       "failed       0\n",
       "mostly     223\n",
       "perfect    105\n",
       "poorly      37\n",
       "dtype: int64"
      ]
     },
     "execution_count": 21,
     "metadata": {},
     "output_type": "execute_result"
    }
   ],
   "source": [
    "zoobot_quality_when_best = spiral_df.query('best_algorithm == \"zoobot-3d\"')['best_quality'].value_counts()\n",
    "zoobot_quality_when_middle = spiral_df.query('second_algorithm == \"zoobot-3d\"')['second_quality'].value_counts()\n",
    "# zoobot_quality_when_worst = spiral_df.query('best_algorithm == \"gz3d\"')['second_quality'].value_counts()  # actually didn't measure\n",
    "zoobot_quality_when_middle['perfect'] = zoobot_quality_when_middle.get('perfect', 0)\n",
    "zoobot_quality_when_middle['failed'] = zoobot_quality_when_middle.get('failed', 0)\n",
    "zoobot_quality_when_best['failed'] = zoobot_quality_when_middle.get('failed', 0)\n",
    "\n",
    "zoobot_quality_when_best + zoobot_quality_when_middle"
   ]
  },
  {
   "cell_type": "code",
   "execution_count": 22,
   "metadata": {},
   "outputs": [
    {
     "data": {
      "text/plain": [
       "failed       4\n",
       "mostly     244\n",
       "perfect     27\n",
       "poorly      83\n",
       "dtype: int64"
      ]
     },
     "execution_count": 22,
     "metadata": {},
     "output_type": "execute_result"
    }
   ],
   "source": [
    "gz3d_quality_when_best = spiral_df.query('best_algorithm == \"gz3d\"')['best_quality'].value_counts()\n",
    "gz3d_quality_when_middle = spiral_df.query('second_algorithm == \"gz3d\"')['second_quality'].value_counts()\n",
    "# gz3d_quality_when_worst = spiral_df.query('best_algorithm == \"gz3d\"')['second_quality'].value_counts()  # actually didn't measure\n",
    "gz3d_quality_when_middle['perfect'] = gz3d_quality_when_middle.get('perfect', 0)\n",
    "gz3d_quality_when_middle['failed'] = gz3d_quality_when_middle.get('failed', 0)\n",
    "gz3d_quality_when_best['failed'] = gz3d_quality_when_middle.get('failed', 0)\n",
    "\n",
    "gz3d_quality_when_best + gz3d_quality_when_middle"
   ]
  },
  {
   "cell_type": "code",
   "execution_count": 31,
   "metadata": {},
   "outputs": [
    {
     "data": {
      "text/plain": [
       "0.7569832402234636"
      ]
     },
     "execution_count": 31,
     "metadata": {},
     "output_type": "execute_result"
    }
   ],
   "source": [
    "(244 + 27) / (244 + 27 + 4 + 83)"
   ]
  },
  {
   "cell_type": "code",
   "execution_count": 23,
   "metadata": {},
   "outputs": [
    {
     "data": {
      "text/plain": [
       "2"
      ]
     },
     "execution_count": 23,
     "metadata": {},
     "output_type": "execute_result"
    }
   ],
   "source": [
    "zoobot_worst = spiral_df['best_algorithm'].isin(['gz3d', 'sparcfire']) & spiral_df['second_algorithm'].isin(['gz3d', 'sparcfire'])\n",
    "zoobot_worst.sum()"
   ]
  },
  {
   "cell_type": "code",
   "execution_count": 24,
   "metadata": {},
   "outputs": [
    {
     "data": {
      "text/plain": [
       "13"
      ]
     },
     "execution_count": 24,
     "metadata": {},
     "output_type": "execute_result"
    }
   ],
   "source": [
    "gz3d_worst = spiral_df['best_algorithm'].isin(['zoobot-3d', 'sparcfire']) & spiral_df['second_algorithm'].isin(['zoobot-3d', 'sparcfire'])\n",
    "gz3d_worst.sum()"
   ]
  },
  {
   "cell_type": "code",
   "execution_count": 25,
   "metadata": {},
   "outputs": [
    {
     "data": {
      "text/plain": [
       "354"
      ]
     },
     "execution_count": 25,
     "metadata": {},
     "output_type": "execute_result"
    }
   ],
   "source": [
    "sparcfire_worst = spiral_df['best_algorithm'].isin(['gz3d', 'zoobot-3d']) & spiral_df['second_algorithm'].isin(['zoobot-3d', 'gz3d'])\n",
    "sparcfire_worst.sum()"
   ]
  },
  {
   "cell_type": "code",
   "execution_count": 26,
   "metadata": {},
   "outputs": [
    {
     "data": {
      "text/plain": [
       "13"
      ]
     },
     "execution_count": 26,
     "metadata": {},
     "output_type": "execute_result"
    }
   ],
   "source": [
    "len(spiral_df) - 354"
   ]
  },
  {
   "cell_type": "code",
   "execution_count": 27,
   "metadata": {},
   "outputs": [
    {
     "data": {
      "text/plain": [
       "{'zoobot-3d': 0.6766917293233082,\n",
       " 'tie': 0.21052631578947367,\n",
       " 'gz3d': 0.11278195488721804}"
      ]
     },
     "execution_count": 27,
     "metadata": {},
     "output_type": "execute_result"
    }
   ],
   "source": [
    "\n",
    "spiral_counts = {\n",
    "    'zoobot-3d': (spiral_df['best_algorithm'] == 'zoobot-3d').mean(),\n",
    "    'gz3d': (spiral_df['best_algorithm'] == 'gz3d').mean(),\n",
    "    'sparcfire': (spiral_df['best_algorithm'] == 'sparcfire').mean(),\n",
    "}\n",
    "bar_counts = {\n",
    "    'zoobot-3d': (bar_df['best_algorithm'] == 'zoobot-3d').mean(),\n",
    "    'tie': (bar_df['best_algorithm'] == 'tie').mean(),\n",
    "    'gz3d': (bar_df['best_algorithm'] == 'gz3d').mean()\n",
    "}\n",
    "bar_counts"
   ]
  },
  {
   "cell_type": "code",
   "execution_count": 28,
   "metadata": {},
   "outputs": [
    {
     "data": {
      "image/png": "[encoded data removed]",
      "text/plain": [
       "<Figure size 400x300 with 4 Axes>"
      ]
     },
     "metadata": {},
     "output_type": "display_data"
    }
   ],
   "source": [
    "\n",
    "zoobot_color = 'teal'\n",
    "sparcfire_color = 'orange'\n",
    "gz3d_color = 'purple'\n",
    "tie_color = 'gray'\n",
    "\n",
    "fig, (ax0, ax1, ax2, ax3) = plt.subplots(figsize=(4, 3), ncols=4, sharey=True)\n",
    "\n",
    "width = .1\n",
    "bottom = 0\n",
    "color_index = 0\n",
    "for algorithm, weight_count in spiral_counts.items():\n",
    "    colors = [zoobot_color, gz3d_color, sparcfire_color]\n",
    "    p = ax0.bar(['Spiral'], weight_count, width, label=algorithm, bottom=bottom, color=colors[color_index])\n",
    "    bottom += weight_count\n",
    "    color_index += 1\n",
    "bottom = 0\n",
    "color_index = 0\n",
    "for algorithm, weight_count in bar_counts.items():\n",
    "    colors = [zoobot_color, tie_color, gz3d_color]\n",
    "    p = ax1.bar(['Bar'], weight_count, width, label=algorithm, bottom=bottom, color=colors[color_index])\n",
    "    bottom += weight_count\n",
    "    color_index += 1\n",
    "\n",
    "ax0.yaxis.set_major_formatter(PercentFormatter(1))\n",
    "\n",
    "\n",
    "custom_lines = [\n",
    "    Line2D([0], [0], color=zoobot_color, lw=4),\n",
    "    Line2D([0], [0], color=gz3d_color, lw=4),\n",
    "    Line2D([0], [0], color=sparcfire_color, lw=4),\n",
    "    Line2D([0], [0], color=tie_color, lw=4)\n",
    "]\n",
    "ax0.legend(custom_lines, ['This work', 'GZ3D', 'Sparcfire', 'Tie'], loc=(2.5, .62))\n",
    "\n",
    "ax2.axis('off')\n",
    "ax3.axis('off')\n",
    "\n",
    "ax0.set_ylim([0., 1.])\n",
    "\n",
    "ax0.set_ylabel('Expert-preferred algorithm')\n",
    "\n",
    "fig.savefig('expertpreferences.pdf', bbox_inches='tight')"
   ]
  },
  {
   "cell_type": "code",
   "execution_count": null,
   "metadata": {},
   "outputs": [],
   "source": []
  },
  {
   "cell_type": "code",
   "execution_count": null,
   "metadata": {},
   "outputs": [],
   "source": []
  }
 ],
 "metadata": {
  "kernelspec": {
   "display_name": "dev",
   "language": "python",
   "name": "python3"
  },
  "language_info": {
   "codemirror_mode": {
    "name": "ipython",
    "version": 3
   },
   "file_extension": ".py",
   "mimetype": "text/x-python",
   "name": "python",
   "nbconvert_exporter": "python",
   "pygments_lexer": "ipython3",
   "version": "3.8.16"
  },
  "orig_nbformat": 4
 },
 "nbformat": 4,
 "nbformat_minor": 2
}
