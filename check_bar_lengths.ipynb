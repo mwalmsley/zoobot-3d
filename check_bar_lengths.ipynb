{
 "cells": [
  {
   "cell_type": "code",
   "execution_count": 1,
   "metadata": {},
   "outputs": [],
   "source": [
    "import os\n",
    "import seaborn as sns\n",
    "from scipy.spatial import distance as dist\n",
    "import pandas as pd\n",
    "import cv2\n",
    "import matplotlib.pyplot as plt\n",
    "import imutils\n",
    "import numpy as np\n",
    "from PIL import Image\n",
    "from shared_astro_utils.matching_utils import match_galaxies_to_catalog_pandas  # or, if you're not me, grab code from crossmatch_catalogs.ipynb\n",
    "from imutils import contours\n",
    "\n",
    "from astropy.cosmology import FlatLambdaCDM\n",
    "import numpy as np\n",
    "from astropy import units as u\n",
    "cosmo = FlatLambdaCDM(H0=67.8, Om0=0.308)\n"
   ]
  },
  {
   "cell_type": "code",
   "execution_count": 2,
   "metadata": {},
   "outputs": [],
   "source": [
    "bar_df = pd.read_csv('/home/walml/repos/zoobot-3d/data/hoyle_barlengths.csv')"
   ]
  },
  {
   "cell_type": "code",
   "execution_count": 3,
   "metadata": {},
   "outputs": [
    {
     "data": {
      "text/html": [
       "<div>\n",
       "<style scoped>\n",
       "    .dataframe tbody tr th:only-of-type {\n",
       "        vertical-align: middle;\n",
       "    }\n",
       "\n",
       "    .dataframe tbody tr th {\n",
       "        vertical-align: top;\n",
       "    }\n",
       "\n",
       "    .dataframe thead th {\n",
       "        text-align: right;\n",
       "    }\n",
       "</style>\n",
       "<table border=\"1\" class=\"dataframe\">\n",
       "  <thead>\n",
       "    <tr style=\"text-align: right;\">\n",
       "      <th></th>\n",
       "      <th>objid</th>\n",
       "      <th>ra</th>\n",
       "      <th>dec</th>\n",
       "      <th>length_avg</th>\n",
       "      <th>length_stdev</th>\n",
       "      <th>width_avg</th>\n",
       "      <th>width_stdev</th>\n",
       "      <th>length_scaled</th>\n",
       "      <th>bar_meas</th>\n",
       "    </tr>\n",
       "  </thead>\n",
       "  <tbody>\n",
       "    <tr>\n",
       "      <th>0</th>\n",
       "      <td>587722981747982465</td>\n",
       "      <td>198.05199</td>\n",
       "      <td>-1.095136</td>\n",
       "      <td>5.841887</td>\n",
       "      <td>0.320314</td>\n",
       "      <td>2.328472</td>\n",
       "      <td>0.951038</td>\n",
       "      <td>0.461109</td>\n",
       "      <td>3</td>\n",
       "    </tr>\n",
       "    <tr>\n",
       "      <th>1</th>\n",
       "      <td>587722981752438860</td>\n",
       "      <td>208.22692</td>\n",
       "      <td>-1.114616</td>\n",
       "      <td>3.240697</td>\n",
       "      <td>0.741893</td>\n",
       "      <td>0.603216</td>\n",
       "      <td>0.197862</td>\n",
       "      <td>0.339584</td>\n",
       "      <td>4</td>\n",
       "    </tr>\n",
       "    <tr>\n",
       "      <th>2</th>\n",
       "      <td>587722982286426253</td>\n",
       "      <td>201.59344</td>\n",
       "      <td>-0.816576</td>\n",
       "      <td>5.171054</td>\n",
       "      <td>0.606520</td>\n",
       "      <td>1.434728</td>\n",
       "      <td>0.117809</td>\n",
       "      <td>0.406783</td>\n",
       "      <td>3</td>\n",
       "    </tr>\n",
       "    <tr>\n",
       "      <th>3</th>\n",
       "      <td>587722982290686153</td>\n",
       "      <td>211.35525</td>\n",
       "      <td>-0.811344</td>\n",
       "      <td>10.311853</td>\n",
       "      <td>2.352807</td>\n",
       "      <td>3.483071</td>\n",
       "      <td>1.954910</td>\n",
       "      <td>0.428145</td>\n",
       "      <td>4</td>\n",
       "    </tr>\n",
       "    <tr>\n",
       "      <th>4</th>\n",
       "      <td>587722982292521047</td>\n",
       "      <td>215.52468</td>\n",
       "      <td>-0.669283</td>\n",
       "      <td>11.513937</td>\n",
       "      <td>3.133255</td>\n",
       "      <td>2.497071</td>\n",
       "      <td>1.021334</td>\n",
       "      <td>0.439008</td>\n",
       "      <td>4</td>\n",
       "    </tr>\n",
       "    <tr>\n",
       "      <th>...</th>\n",
       "      <td>...</td>\n",
       "      <td>...</td>\n",
       "      <td>...</td>\n",
       "      <td>...</td>\n",
       "      <td>...</td>\n",
       "      <td>...</td>\n",
       "      <td>...</td>\n",
       "      <td>...</td>\n",
       "      <td>...</td>\n",
       "    </tr>\n",
       "    <tr>\n",
       "      <th>3145</th>\n",
       "      <td>588848901005246604</td>\n",
       "      <td>223.04204</td>\n",
       "      <td>0.783986</td>\n",
       "      <td>6.470187</td>\n",
       "      <td>1.389767</td>\n",
       "      <td>1.569311</td>\n",
       "      <td>1.105357</td>\n",
       "      <td>0.493286</td>\n",
       "      <td>4</td>\n",
       "    </tr>\n",
       "    <tr>\n",
       "      <th>3146</th>\n",
       "      <td>588848901007933476</td>\n",
       "      <td>229.10432</td>\n",
       "      <td>0.708052</td>\n",
       "      <td>6.125565</td>\n",
       "      <td>1.280630</td>\n",
       "      <td>1.590883</td>\n",
       "      <td>1.110799</td>\n",
       "      <td>0.316473</td>\n",
       "      <td>4</td>\n",
       "    </tr>\n",
       "    <tr>\n",
       "      <th>3147</th>\n",
       "      <td>588848901523636294</td>\n",
       "      <td>180.87304</td>\n",
       "      <td>1.229350</td>\n",
       "      <td>4.699296</td>\n",
       "      <td>0.352203</td>\n",
       "      <td>1.425113</td>\n",
       "      <td>0.689318</td>\n",
       "      <td>0.341577</td>\n",
       "      <td>5</td>\n",
       "    </tr>\n",
       "    <tr>\n",
       "      <th>3148</th>\n",
       "      <td>588848901525930026</td>\n",
       "      <td>186.02036</td>\n",
       "      <td>1.189801</td>\n",
       "      <td>5.349061</td>\n",
       "      <td>1.345254</td>\n",
       "      <td>1.002916</td>\n",
       "      <td>0.550130</td>\n",
       "      <td>0.366885</td>\n",
       "      <td>4</td>\n",
       "    </tr>\n",
       "    <tr>\n",
       "      <th>3149</th>\n",
       "      <td>588848901531303950</td>\n",
       "      <td>198.28587</td>\n",
       "      <td>1.153530</td>\n",
       "      <td>11.222525</td>\n",
       "      <td>3.243919</td>\n",
       "      <td>7.445018</td>\n",
       "      <td>2.320542</td>\n",
       "      <td>0.398031</td>\n",
       "      <td>4</td>\n",
       "    </tr>\n",
       "  </tbody>\n",
       "</table>\n",
       "<p>3150 rows × 9 columns</p>\n",
       "</div>"
      ],
      "text/plain": [
       "                   objid         ra       dec  length_avg  length_stdev  \\\n",
       "0     587722981747982465  198.05199 -1.095136    5.841887      0.320314   \n",
       "1     587722981752438860  208.22692 -1.114616    3.240697      0.741893   \n",
       "2     587722982286426253  201.59344 -0.816576    5.171054      0.606520   \n",
       "3     587722982290686153  211.35525 -0.811344   10.311853      2.352807   \n",
       "4     587722982292521047  215.52468 -0.669283   11.513937      3.133255   \n",
       "...                  ...        ...       ...         ...           ...   \n",
       "3145  588848901005246604  223.04204  0.783986    6.470187      1.389767   \n",
       "3146  588848901007933476  229.10432  0.708052    6.125565      1.280630   \n",
       "3147  588848901523636294  180.87304  1.229350    4.699296      0.352203   \n",
       "3148  588848901525930026  186.02036  1.189801    5.349061      1.345254   \n",
       "3149  588848901531303950  198.28587  1.153530   11.222525      3.243919   \n",
       "\n",
       "      width_avg  width_stdev  length_scaled  bar_meas  \n",
       "0      2.328472     0.951038       0.461109         3  \n",
       "1      0.603216     0.197862       0.339584         4  \n",
       "2      1.434728     0.117809       0.406783         3  \n",
       "3      3.483071     1.954910       0.428145         4  \n",
       "4      2.497071     1.021334       0.439008         4  \n",
       "...         ...          ...            ...       ...  \n",
       "3145   1.569311     1.105357       0.493286         4  \n",
       "3146   1.590883     1.110799       0.316473         4  \n",
       "3147   1.425113     0.689318       0.341577         5  \n",
       "3148   1.002916     0.550130       0.366885         4  \n",
       "3149   7.445018     2.320542       0.398031         4  \n",
       "\n",
       "[3150 rows x 9 columns]"
      ]
     },
     "execution_count": 3,
     "metadata": {},
     "output_type": "execute_result"
    }
   ],
   "source": [
    "bar_df"
   ]
  },
  {
   "cell_type": "code",
   "execution_count": 4,
   "metadata": {},
   "outputs": [
    {
     "name": "stdout",
     "output_type": "stream",
     "text": [
      "/home/walml/repos/zoobot-3d/data/gz3d/segmaps/masks_constnorm/gz3d_1-364977_127_14727898_spiral.jpg\n"
     ]
    }
   ],
   "source": [
    "on_local = os.path.isdir('/home/walml/repos/zoobot-3d/')\n",
    "if on_local:\n",
    "    base_dir = '/home/walml/repos/zoobot-3d/'\n",
    "else:\n",
    "    base_dir = '/share/nas2/walml/galaxy_zoo/segmentation/'\n",
    "\n",
    "df = pd.read_parquet(base_dir + 'data/test_catalog.parquet')\n",
    "df['spiral_mask_loc'] = df['spiral_mask_loc'].str.replace('/Users/user', '/home/walml')\n",
    "print(df['spiral_mask_loc'].iloc[0])\n",
    "df['spiral_mask_exists'] = df['spiral_mask_loc'].apply(os.path.isfile)\n",
    "assert any(df['spiral_mask_exists'])\n",
    "df = df.query('spiral_mask_exists').reset_index(drop=True)\n",
    "df['spiral_mask_loc'] = ''\n",
    "\n",
    "checkpoint_path = base_dir + 'outputs/run_1695899881.3925836/epoch=93-step=1880.ckpt'\n",
    "# checkpoint_path = base_dir + 'outputs/run_1695938854.2480044/epoch=91-step=1840.ckpt'\n",
    "save_dir = os.path.dirname(checkpoint_path) + '/predictions/'\n",
    "df['zoobot_bar_mask_loc'] = df['dr8_id'].apply(lambda x: save_dir + f'/{x}_bar_pred_viz.png')"
   ]
  },
  {
   "cell_type": "code",
   "execution_count": 5,
   "metadata": {},
   "outputs": [
    {
     "data": {
      "text/plain": [
       "'/home/walml/repos/zoobot-3d/outputs/run_1695899881.3925836/predictions//374395_3484_bar_pred_viz.png'"
      ]
     },
     "execution_count": 5,
     "metadata": {},
     "output_type": "execute_result"
    }
   ],
   "source": [
    "df['zoobot_bar_mask_loc'].iloc[0]"
   ]
  },
  {
   "cell_type": "code",
   "execution_count": 6,
   "metadata": {},
   "outputs": [
    {
     "data": {
      "text/plain": [
       "140"
      ]
     },
     "execution_count": 6,
     "metadata": {},
     "output_type": "execute_result"
    }
   ],
   "source": [
    "matched, _ = match_galaxies_to_catalog_pandas(bar_df, df)\n",
    "len(matched)"
   ]
  },
  {
   "cell_type": "code",
   "execution_count": 7,
   "metadata": {},
   "outputs": [],
   "source": [
    "matched['has_bar_prediction'] = matched['zoobot_bar_mask_loc'].apply(os.path.isfile)"
   ]
  },
  {
   "cell_type": "code",
   "execution_count": 8,
   "metadata": {},
   "outputs": [
    {
     "data": {
      "text/plain": [
       "140"
      ]
     },
     "execution_count": 8,
     "metadata": {},
     "output_type": "execute_result"
    }
   ],
   "source": [
    "matched = matched.query('has_bar_prediction')\n",
    "len(matched)"
   ]
  },
  {
   "cell_type": "code",
   "execution_count": 9,
   "metadata": {},
   "outputs": [
    {
     "data": {
      "text/plain": [
       "140"
      ]
     },
     "execution_count": 9,
     "metadata": {},
     "output_type": "execute_result"
    }
   ],
   "source": [
    "len(matched['zoobot_bar_mask_loc'])"
   ]
  },
  {
   "cell_type": "code",
   "execution_count": 10,
   "metadata": {},
   "outputs": [
    {
     "data": {
      "text/plain": [
       "<matplotlib.lines.Line2D at 0x7f09dc11a190>"
      ]
     },
     "execution_count": 10,
     "metadata": {},
     "output_type": "execute_result"
    },
    {
     "data": {
      "image/png": "[encoded data removed]",
      "text/plain": [
       "<Figure size 640x480 with 1 Axes>"
      ]
     },
     "metadata": {},
     "output_type": "display_data"
    }
   ],
   "source": [
    "im = cv2.imread(matched['zoobot_bar_mask_loc'].iloc[0],  cv2.IMREAD_GRAYSCALE)\n",
    "plt.imshow(im) \n",
    "plt.axhline(87)\n",
    "plt.axhline(132)\n",
    "# 45 pixels!"
   ]
  },
  {
   "cell_type": "code",
   "execution_count": 11,
   "metadata": {},
   "outputs": [],
   "source": [
    "def midpoint(ptA, ptB):\n",
    "\treturn ((ptA[0] + ptB[0]) * 0.5, (ptA[1] + ptB[1]) * 0.5)\n"
   ]
  },
  {
   "cell_type": "code",
   "execution_count": 12,
   "metadata": {},
   "outputs": [],
   "source": [
    "def measure_bar_width_pixels(mask_loc, debug=False):\n",
    "    # simplified version of\n",
    "    # https://pyimagesearch.com/2016/03/28/measuring-size-of-objects-in-an-image-with-opencv/\n",
    "    im = cv2.imread(mask_loc,  cv2.IMREAD_GRAYSCALE)\n",
    "\n",
    "    im_nonzero = im[im > 0]\n",
    "    thresh = np.percentile(im_nonzero.flatten(), 80)\n",
    "    im_bw = cv2.threshold(im, thresh, 255, cv2.THRESH_BINARY)[1]\n",
    "\n",
    "    # (thresh, im_bw) = cv2.threshold(im, 128, 255, cv2.THRESH_BINARY | cv2.THRESH_OTSU)\n",
    "\n",
    "    cnts = cv2.findContours(im_bw, cv2.RETR_EXTERNAL, cv2.CHAIN_APPROX_SIMPLE)\n",
    "    cnts = imutils.grab_contours(cnts)\n",
    "    (cnts, _) = contours.sort_contours(cnts)\n",
    "    if len(cnts) > 1:\n",
    "        return np.nan\n",
    "    c = cnts[0]\n",
    "    box = cv2.minAreaRect(c)\n",
    "    box = cv2.cv.BoxPoints(box) if imutils.is_cv2() else cv2.boxPoints(box)\n",
    "    box = np.array(box, dtype=\"int\")\n",
    "    # https://stackoverflow.com/questions/29739411/what-does-cv2-cv-boxpointsrect-return\n",
    "    # corners of rotated box (pixel coordinates) enclosing contour\n",
    "    # x_width = box[:, 0].max() - box[:, 0].min()\n",
    "    # y_width = box[:, 1].max() - box[:, 1].min()\n",
    "    # box_width = np.sqrt(x_width ** 2 + y_width ** 2)\n",
    "\n",
    "    # unpack the ordered bounding box, then compute the midpoint\n",
    "\t# between the top-left and top-right coordinates, followed by\n",
    "\t# the midpoint between bottom-left and bottom-right coordinates\n",
    "    (tl, tr, br, bl) = box\n",
    "    (tltrX, tltrY) = midpoint(tl, tr)\n",
    "    (blbrX, blbrY) = midpoint(bl, br)\n",
    "    # compute the midpoint between the top-left and top-right points,\n",
    "    # followed by the midpoint between the top-righ and bottom-right\n",
    "    (tlblX, tlblY) = midpoint(tl, bl)\n",
    "    (trbrX, trbrY) = midpoint(tr, br)\n",
    "    # draw the midpoints on the image\n",
    "    cv2.circle(im, (int(tltrX), int(tltrY)), 5, (255, 0, 0), -1)\n",
    "    cv2.circle(im, (int(blbrX), int(blbrY)), 5, (255, 0, 0), -1)\n",
    "    cv2.circle(im, (int(tlblX), int(tlblY)), 5, (255, 0, 0), -1)\n",
    "    cv2.circle(im, (int(trbrX), int(trbrY)), 5, (255, 0, 0), -1)\n",
    "\n",
    "    dA = dist.euclidean((tltrX, tltrY), (blbrX, blbrY))\n",
    "    dB = dist.euclidean((tlblX, tlblY), (trbrX, trbrY))\n",
    "    box_width = max(dA, dB)\n",
    "\n",
    "    if debug:\n",
    "        fig, (ax1, ax0) = plt.subplots(ncols=2)\n",
    "        ax0.imshow(im)\n",
    "        ax1.imshow(im_bw)\n",
    "        ax0.axis('off')\n",
    "        ax1.axis('off')\n",
    "        return box_width, fig\n",
    "    else:\n",
    "        return box_width"
   ]
  },
  {
   "cell_type": "code",
   "execution_count": null,
   "metadata": {},
   "outputs": [],
   "source": []
  },
  {
   "cell_type": "code",
   "execution_count": 13,
   "metadata": {},
   "outputs": [
    {
     "data": {
      "text/plain": [
       "(54.51834553615874, <Figure size 640x480 with 2 Axes>)"
      ]
     },
     "execution_count": 13,
     "metadata": {},
     "output_type": "execute_result"
    },
    {
     "data": {
      "image/png": "[encoded data removed]",
      "text/plain": [
       "<Figure size 640x480 with 2 Axes>"
      ]
     },
     "metadata": {},
     "output_type": "display_data"
    }
   ],
   "source": [
    "measure_bar_width_pixels(matched['zoobot_bar_mask_loc'].iloc[114], debug=True)"
   ]
  },
  {
   "cell_type": "code",
   "execution_count": 14,
   "metadata": {},
   "outputs": [],
   "source": [
    "matched['bar_width_pixels'] = matched['zoobot_bar_mask_loc'].apply(measure_bar_width_pixels)"
   ]
  },
  {
   "cell_type": "code",
   "execution_count": 15,
   "metadata": {},
   "outputs": [
    {
     "data": {
      "text/plain": [
       "0      32.190837\n",
       "1      38.013156\n",
       "2      20.000000\n",
       "3      49.244289\n",
       "4      49.368512\n",
       "         ...    \n",
       "135    38.000000\n",
       "136    23.259407\n",
       "137    39.458839\n",
       "138    23.436083\n",
       "139    22.141590\n",
       "Name: bar_width_pixels, Length: 140, dtype: float64"
      ]
     },
     "execution_count": 15,
     "metadata": {},
     "output_type": "execute_result"
    }
   ],
   "source": [
    "matched['bar_width_pixels']"
   ]
  },
  {
   "cell_type": "code",
   "execution_count": 16,
   "metadata": {},
   "outputs": [],
   "source": [
    "# matched['est_dr5_pixscale']  # arcsec/pixel\n",
    "matched['bar_width_arcsec'] = matched['bar_width_pixels'] * matched['est_dr5_pixscale']"
   ]
  },
  {
   "cell_type": "code",
   "execution_count": null,
   "metadata": {},
   "outputs": [],
   "source": []
  },
  {
   "cell_type": "code",
   "execution_count": null,
   "metadata": {},
   "outputs": [],
   "source": []
  },
  {
   "cell_type": "code",
   "execution_count": 17,
   "metadata": {},
   "outputs": [],
   "source": [
    "nsa = pd.read_parquet('/media/walml/beta/galaxy_zoo/decals/catalogs/nsa_v1_0_1_key_cols.parquet', columns=['iauname', 'redshift'])\n",
    "matched = pd.merge(nsa, matched, on='iauname')"
   ]
  },
  {
   "cell_type": "code",
   "execution_count": 18,
   "metadata": {},
   "outputs": [],
   "source": [
    "matched['angular_diameter_distance'] = cosmo.angular_diameter_distance(z=matched['redshift'])\n",
    "# matched['angular_diameter_distance']\n",
    "\n",
    "# d_A = \n",
    "# print(d_A) # 946.9318492873492 Mpc\n",
    "\n",
    "# theta = 737.28*u.arcsec\n",
    "# distance_Mpc = (theta * d_A).to(u.Mpc, u.dimensionless_angles()) # unit is Mpc only now\n",
    "\n",
    "# print(distance_Mpc)"
   ]
  },
  {
   "cell_type": "code",
   "execution_count": 19,
   "metadata": {},
   "outputs": [],
   "source": [
    "matched['bar_width_kpc'] = matched['bar_width_arcsec'] * matched['angular_diameter_distance'] / 117\n",
    "# matched['bar_width_kpc'] = matched['bar_width_arcsec'] * matched['angular_diameter_distance'] / 100"
   ]
  },
  {
   "cell_type": "code",
   "execution_count": 20,
   "metadata": {},
   "outputs": [],
   "source": [
    "matched['bar_width_kpc'] = np.array(matched['bar_width_kpc']).astype(float)"
   ]
  },
  {
   "cell_type": "code",
   "execution_count": 21,
   "metadata": {},
   "outputs": [],
   "source": [
    "from matplotlib.ticker import MaxNLocator"
   ]
  },
  {
   "cell_type": "code",
   "execution_count": 33,
   "metadata": {},
   "outputs": [],
   "source": [
    "# new for review - add a stats test\n",
    "r_corr = pd.Series(matched['bar_width_kpc']).corr(matched['length_avg'])\n",
    "mean_abs_error = np.abs(matched['bar_width_kpc'] - matched['length_avg']).mean()"
   ]
  },
  {
   "cell_type": "code",
   "execution_count": 37,
   "metadata": {},
   "outputs": [
    {
     "data": {
      "image/png": "[encoded data removed]",
      "text/plain": [
       "<Figure size 300x300 with 1 Axes>"
      ]
     },
     "metadata": {},
     "output_type": "display_data"
    }
   ],
   "source": [
    "sns.set_context('paper')\n",
    "fig, ax = plt.subplots(figsize=(3, 3))\n",
    "# plt.scatter(matched['bar_width_kpc'] , matched['length_avg'], marker='+')\n",
    "sns.regplot(x=matched['bar_width_kpc'].astype(float), y=matched['length_avg'].astype(float), marker='+', robust=True, ax=ax)\n",
    "ax.set_xlabel('Predicted bar length [h$^{-1}$ kpc]')\n",
    "ax.set_ylabel('Hoyle (2011) bar length [h$^{-1}$ kpc]')\n",
    "ax.set_xlim([0., 22.])\n",
    "ax.set_ylim([0., 22.])\n",
    "ax.plot([0, 22], [0, 22], color='k', alpha=0.5, linestyle='--')\n",
    "ax.yaxis.set_major_locator(MaxNLocator(nbins=5, integer=True))\n",
    "\n",
    "ax.text(1.1, 20, \"$r={:1.2f}$\".format(r_corr))\n",
    "ax.text(1.1, 18, \"L1={:1.1f} kpc\".format(mean_abs_error))\n",
    "\n",
    "plt.tight_layout()\n",
    "plt.savefig('hoylebarcomparisonwithstats.pdf')\n",
    "\n"
   ]
  },
  {
   "cell_type": "code",
   "execution_count": 24,
   "metadata": {},
   "outputs": [
    {
     "data": {
      "text/plain": [
       "0.9118723027786848"
      ]
     },
     "execution_count": 24,
     "metadata": {},
     "output_type": "execute_result"
    }
   ],
   "source": []
  },
  {
   "cell_type": "code",
   "execution_count": 25,
   "metadata": {},
   "outputs": [
    {
     "data": {
      "text/plain": [
       "1.2016560266461482"
      ]
     },
     "execution_count": 25,
     "metadata": {},
     "output_type": "execute_result"
    }
   ],
   "source": []
  },
  {
   "cell_type": "code",
   "execution_count": 23,
   "metadata": {},
   "outputs": [
    {
     "data": {
      "text/plain": [
       "91     0.005988\n",
       "103    0.010084\n",
       "139    0.015564\n",
       "83     0.029666\n",
       "4      0.034206\n",
       "         ...   \n",
       "116    4.321746\n",
       "8      5.909656\n",
       "30          NaN\n",
       "75          NaN\n",
       "114         NaN\n",
       "Name: error, Length: 140, dtype: float64"
      ]
     },
     "execution_count": 23,
     "metadata": {},
     "output_type": "execute_result"
    }
   ],
   "source": [
    "matched['error'] = np.abs(np.array(matched['bar_width_kpc']).astype(float) - np.array(matched['length_avg']).astype(float))\n",
    "matched.sort_values('error')['error']"
   ]
  }
 ],
 "metadata": {
  "kernelspec": {
   "display_name": "dev",
   "language": "python",
   "name": "python3"
  },
  "language_info": {
   "codemirror_mode": {
    "name": "ipython",
    "version": 3
   },
   "file_extension": ".py",
   "mimetype": "text/x-python",
   "name": "python",
   "nbconvert_exporter": "python",
   "pygments_lexer": "ipython3",
   "version": "3.9.0"
  },
  "orig_nbformat": 4
 },
 "nbformat": 4,
 "nbformat_minor": 2
}
