{
 "cells": [
  {
   "cell_type": "code",
   "execution_count": 1,
   "metadata": {},
   "outputs": [],
   "source": [
    "import os\n",
    "\n",
    "# os.environ['SAS_BASE_DIR'] = '/Users/user/repos/zoobot-3d/marvin'"
   ]
  },
  {
   "cell_type": "code",
   "execution_count": 2,
   "metadata": {},
   "outputs": [
    {
     "name": "stderr",
     "output_type": "stream",
     "text": [
      "\u001b[0;34m[INFO]: \u001b[0mNo release version set. Setting default to DR17\n",
      "\u001b[1;33m[WARNING]: \u001b[0m\u001b[0;39mpath /Users/user/sas/mangawork/manga/spectro/redux/v3_1_1/drpall-v3_1_1.fits cannot be found. Setting drpall to None.\u001b[0m \u001b[0;36m(MarvinUserWarning)\u001b[0m\n",
      "\u001b[1;33m[WARNING]: \u001b[0m\u001b[0;39mpath /Users/user/sas/mangawork/manga/spectro/analysis/v3_1_1/3.1.0/dapall-v3_1_1-3.1.0.fits cannot be found. Setting dapall to None.\u001b[0m \u001b[0;36m(MarvinUserWarning)\u001b[0m\n",
      "\u001b[1;33m[WARNING]: \u001b[0m\u001b[0;39mpath /Users/user/sas/mangawork/manga/spectro/redux/v3_1_1/drpall-v3_1_1.fits cannot be found. Setting drpall to None.\u001b[0m \u001b[0;36m(MarvinUserWarning)\u001b[0m\n",
      "\u001b[1;33m[WARNING]: \u001b[0m\u001b[0;39mpath /Users/user/sas/mangawork/manga/spectro/analysis/v3_1_1/3.1.0/dapall-v3_1_1-3.1.0.fits cannot be found. Setting dapall to None.\u001b[0m \u001b[0;36m(MarvinUserWarning)\u001b[0m\n"
     ]
    }
   ],
   "source": [
    "import marvin\n",
    "marvin.config.download = True\n",
    "marvin.config.release = 'DR17'\n",
    "\n",
    "%matplotlib inline\n",
    "import matplotlib.pyplot as plt\n",
    "import matplotlib.gridspec as gridspec\n"
   ]
  },
  {
   "cell_type": "code",
   "execution_count": 4,
   "metadata": {},
   "outputs": [],
   "source": [
    "# os.makedirs('/Users/user/sas/dr17/manga/spectro/analysis/v3_1_1/3.1.0/')\n",
    "# os.makedirs('/Users/user/sas/dr17/manga/spectro/analysis/v3_1_1/3.1.0/')\n",
    "# os.makedirs('/Users/user/sas/dr17/manga/spectro/redux/v3_1_1/3.1.0/')\n",
    "# os.makedirs('/Users/user/sas/dr17/manga/spectro/analysis/v3_1_1/3.1.1/')\n",
    "# os.makedirs('/Users/user/sas/dr17/manga/spectro/redux/v3_1_1/3.1.1/')\n",
    "# os.makedirs('/Users/user/repos/zoobot-3d/marvin/dr17/manga/spectro/redux/v3_1_1')\n",
    "# os.makedirs('/Users/user/repos/zoobot-3d/marvin/dr17/manga/spectro/analysis/v3_1_1/3.1.0')"
   ]
  },
  {
   "cell_type": "code",
   "execution_count": 5,
   "metadata": {},
   "outputs": [
    {
     "name": "stderr",
     "output_type": "stream",
     "text": [
      "\u001b[1;33m[WARNING]: \u001b[0m\u001b[0;39mdrpall file not found. Downloading it.\u001b[0m \u001b[0;36m(MarvinUserWarning)\u001b[0m\n",
      "Progress: 100%|██████████| 1/1 [00:05<00:00,  5.01s/files, n_files=1, n_streams=1]\n",
      "\u001b[1;33m[WARNING]: \u001b[0m\u001b[0;39mv3_1_1 is an invalid version and will not be supported in a future release\u001b[0m \u001b[0;36m(PkgResourcesDeprecationWarning)\u001b[0m\n",
      "\u001b[1;33m[WARNING]: \u001b[0m\u001b[0;39mv2_5_3 is an invalid version and will not be supported in a future release\u001b[0m \u001b[0;36m(PkgResourcesDeprecationWarning)\u001b[0m\n"
     ]
    },
    {
     "name": "stdout",
     "output_type": "stream",
     "text": [
      "SDSS_ACCESS> Done!\n"
     ]
    },
    {
     "ename": "MarvinError",
     "evalue": "mangaid2plateifu was not able to find a plate-ifu for mangaid=1-604761 either local or remotely.\nYou can submit this error to Marvin GitHub Issues (https://github.com/sdss/marvin/issues/new).\nFill out a subject and some text describing the error that just occurred.\nIf able, copy and paste the full traceback information into the issue as well.",
     "output_type": "error",
     "traceback": [
      "\u001b[0;31m---------------------------------------------------------------------------\u001b[0m",
      "\u001b[0;31mMarvinError\u001b[0m                               Traceback (most recent call last)",
      "\u001b[1;32m/Users/user/repos/zoobot-3d/view_masks.ipynb Cell 4\u001b[0m in \u001b[0;36m<cell line: 4>\u001b[0;34m()\u001b[0m\n\u001b[1;32m      <a href='vscode-notebook-cell:/Users/user/repos/zoobot-3d/view_masks.ipynb#W2sZmlsZQ%3D%3D?line=0'>1</a>\u001b[0m manga_id \u001b[39m=\u001b[39m \u001b[39m'\u001b[39m\u001b[39m1-604761\u001b[39m\u001b[39m'\u001b[39m\n\u001b[1;32m      <a href='vscode-notebook-cell:/Users/user/repos/zoobot-3d/view_masks.ipynb#W2sZmlsZQ%3D%3D?line=1'>2</a>\u001b[0m \u001b[39m# manga_id = '1-100300'\u001b[39;00m\n\u001b[0;32m----> <a href='vscode-notebook-cell:/Users/user/repos/zoobot-3d/view_masks.ipynb#W2sZmlsZQ%3D%3D?line=3'>4</a>\u001b[0m cube \u001b[39m=\u001b[39m marvin\u001b[39m.\u001b[39;49mtools\u001b[39m.\u001b[39;49mCube(manga_id)\n\u001b[1;32m      <a href='vscode-notebook-cell:/Users/user/repos/zoobot-3d/view_masks.ipynb#W2sZmlsZQ%3D%3D?line=4'>5</a>\u001b[0m data \u001b[39m=\u001b[39m cube\u001b[39m.\u001b[39mvacs\u001b[39m.\u001b[39mgz3d\n",
      "File \u001b[0;32m~/mambaforge/envs/marvin/lib/python3.9/site-packages/marvin/tools/cube.py:67\u001b[0m, in \u001b[0;36mCube.__init__\u001b[0;34m(self, input, filename, mangaid, plateifu, mode, data, release, drpall, download, nsa_source)\u001b[0m\n\u001b[1;32m     63\u001b[0m \u001b[39mself\u001b[39m\u001b[39m.\u001b[39m_dispersion_prepixel \u001b[39m=\u001b[39m \u001b[39mNone\u001b[39;00m\n\u001b[1;32m     65\u001b[0m \u001b[39mself\u001b[39m\u001b[39m.\u001b[39m_bitmasks \u001b[39m=\u001b[39m \u001b[39mNone\u001b[39;00m\n\u001b[0;32m---> 67\u001b[0m MarvinToolsClass\u001b[39m.\u001b[39;49m\u001b[39m__init__\u001b[39;49m(\u001b[39mself\u001b[39;49m, \u001b[39minput\u001b[39;49m\u001b[39m=\u001b[39;49m\u001b[39minput\u001b[39;49m, filename\u001b[39m=\u001b[39;49mfilename, mangaid\u001b[39m=\u001b[39;49mmangaid,\n\u001b[1;32m     68\u001b[0m                           plateifu\u001b[39m=\u001b[39;49mplateifu, mode\u001b[39m=\u001b[39;49mmode, data\u001b[39m=\u001b[39;49mdata, release\u001b[39m=\u001b[39;49mrelease,\n\u001b[1;32m     69\u001b[0m                           drpall\u001b[39m=\u001b[39;49mdrpall, download\u001b[39m=\u001b[39;49mdownload)\n\u001b[1;32m     71\u001b[0m NSAMixIn\u001b[39m.\u001b[39m\u001b[39m__init__\u001b[39m(\u001b[39mself\u001b[39m, nsa_source\u001b[39m=\u001b[39mnsa_source)\n\u001b[1;32m     73\u001b[0m \u001b[39mif\u001b[39;00m \u001b[39mself\u001b[39m\u001b[39m.\u001b[39mdata_origin \u001b[39m==\u001b[39m \u001b[39m'\u001b[39m\u001b[39mfile\u001b[39m\u001b[39m'\u001b[39m:\n",
      "File \u001b[0;32m~/mambaforge/envs/marvin/lib/python3.9/site-packages/marvin/tools/core.py:116\u001b[0m, in \u001b[0;36mMarvinToolsClass.__init__\u001b[0;34m(self, input, filename, mangaid, plateifu, mode, data, release, drpall, download)\u001b[0m\n\u001b[1;32m    113\u001b[0m \u001b[39mdef\u001b[39;00m \u001b[39m__init__\u001b[39m(\u001b[39mself\u001b[39m, \u001b[39minput\u001b[39m\u001b[39m=\u001b[39m\u001b[39mNone\u001b[39;00m, filename\u001b[39m=\u001b[39m\u001b[39mNone\u001b[39;00m, mangaid\u001b[39m=\u001b[39m\u001b[39mNone\u001b[39;00m, plateifu\u001b[39m=\u001b[39m\u001b[39mNone\u001b[39;00m,\n\u001b[1;32m    114\u001b[0m              mode\u001b[39m=\u001b[39m\u001b[39mNone\u001b[39;00m, data\u001b[39m=\u001b[39m\u001b[39mNone\u001b[39;00m, release\u001b[39m=\u001b[39m\u001b[39mNone\u001b[39;00m, drpall\u001b[39m=\u001b[39m\u001b[39mNone\u001b[39;00m, download\u001b[39m=\u001b[39m\u001b[39mNone\u001b[39;00m):\n\u001b[0;32m--> 116\u001b[0m     MMAMixIn\u001b[39m.\u001b[39;49m\u001b[39m__init__\u001b[39;49m(\u001b[39mself\u001b[39;49m, \u001b[39minput\u001b[39;49m\u001b[39m=\u001b[39;49m\u001b[39minput\u001b[39;49m, filename\u001b[39m=\u001b[39;49mfilename, mangaid\u001b[39m=\u001b[39;49mmangaid,\n\u001b[1;32m    117\u001b[0m                       plateifu\u001b[39m=\u001b[39;49mplateifu, mode\u001b[39m=\u001b[39;49mmode, data\u001b[39m=\u001b[39;49mdata, release\u001b[39m=\u001b[39;49mrelease,\n\u001b[1;32m    118\u001b[0m                       download\u001b[39m=\u001b[39;49mdownload)\n\u001b[1;32m    120\u001b[0m     CacheMixIn\u001b[39m.\u001b[39m\u001b[39m__init__\u001b[39m(\u001b[39mself\u001b[39m)\n\u001b[1;32m    122\u001b[0m     \u001b[39m# drop breadcrumb\u001b[39;00m\n",
      "File \u001b[0;32m~/mambaforge/envs/marvin/lib/python3.9/site-packages/marvin/tools/mixins/mma.py:118\u001b[0m, in \u001b[0;36mMMAMixIn.__init__\u001b[0;34m(self, input, filename, mangaid, plateifu, mode, data, release, drpall, download, ignore_db)\u001b[0m\n\u001b[1;32m    114\u001b[0m \u001b[39mself\u001b[39m\u001b[39m.\u001b[39m_drpall \u001b[39m=\u001b[39m config\u001b[39m.\u001b[39m_getDrpAllPath(\u001b[39mself\u001b[39m\u001b[39m.\u001b[39m_drpver) \u001b[39mif\u001b[39;00m drpall \u001b[39mis\u001b[39;00m \u001b[39mNone\u001b[39;00m \u001b[39melse\u001b[39;00m drpall\n\u001b[1;32m    116\u001b[0m \u001b[39mself\u001b[39m\u001b[39m.\u001b[39m_forcedownload \u001b[39m=\u001b[39m download \u001b[39mif\u001b[39;00m download \u001b[39mis\u001b[39;00m \u001b[39mnot\u001b[39;00m \u001b[39mNone\u001b[39;00m \u001b[39melse\u001b[39;00m config\u001b[39m.\u001b[39mdownload\n\u001b[0;32m--> 118\u001b[0m \u001b[39mself\u001b[39;49m\u001b[39m.\u001b[39;49m_determine_inputs(\u001b[39minput\u001b[39;49m)\n\u001b[1;32m    120\u001b[0m \u001b[39massert\u001b[39;00m \u001b[39mself\u001b[39m\u001b[39m.\u001b[39mmode \u001b[39min\u001b[39;00m [\u001b[39m'\u001b[39m\u001b[39mauto\u001b[39m\u001b[39m'\u001b[39m, \u001b[39m'\u001b[39m\u001b[39mlocal\u001b[39m\u001b[39m'\u001b[39m, \u001b[39m'\u001b[39m\u001b[39mremote\u001b[39m\u001b[39m'\u001b[39m]\n\u001b[1;32m    121\u001b[0m \u001b[39massert\u001b[39;00m \u001b[39mself\u001b[39m\u001b[39m.\u001b[39mfilename \u001b[39mis\u001b[39;00m \u001b[39mnot\u001b[39;00m \u001b[39mNone\u001b[39;00m \u001b[39mor\u001b[39;00m \u001b[39mself\u001b[39m\u001b[39m.\u001b[39mplateifu \u001b[39mis\u001b[39;00m \u001b[39mnot\u001b[39;00m \u001b[39mNone\u001b[39;00m, \u001b[39m'\u001b[39m\u001b[39mno inputs set.\u001b[39m\u001b[39m'\u001b[39m\n",
      "File \u001b[0;32m~/mambaforge/envs/marvin/lib/python3.9/site-packages/marvin/tools/mixins/mma.py:185\u001b[0m, in \u001b[0;36mMMAMixIn._determine_inputs\u001b[0;34m(self, input)\u001b[0m\n\u001b[1;32m    183\u001b[0m \u001b[39melif\u001b[39;00m \u001b[39mself\u001b[39m\u001b[39m.\u001b[39mmangaid:\n\u001b[1;32m    184\u001b[0m     \u001b[39massert\u001b[39;00m \u001b[39mnot\u001b[39;00m \u001b[39mself\u001b[39m\u001b[39m.\u001b[39mfilename, \u001b[39m'\u001b[39m\u001b[39minvalid set of inputs.\u001b[39m\u001b[39m'\u001b[39m\n\u001b[0;32m--> 185\u001b[0m     \u001b[39mself\u001b[39m\u001b[39m.\u001b[39mplateifu \u001b[39m=\u001b[39m mangaid2plateifu(\u001b[39mself\u001b[39;49m\u001b[39m.\u001b[39;49mmangaid,\n\u001b[1;32m    186\u001b[0m                                      drpall\u001b[39m=\u001b[39;49m\u001b[39mself\u001b[39;49m\u001b[39m.\u001b[39;49m_drpall,\n\u001b[1;32m    187\u001b[0m                                      drpver\u001b[39m=\u001b[39;49m\u001b[39mself\u001b[39;49m\u001b[39m.\u001b[39;49m_drpver)\n\u001b[1;32m    189\u001b[0m \u001b[39melif\u001b[39;00m \u001b[39mself\u001b[39m\u001b[39m.\u001b[39m_plate:\n\u001b[1;32m    190\u001b[0m     \u001b[39massert\u001b[39;00m \u001b[39mnot\u001b[39;00m \u001b[39mself\u001b[39m\u001b[39m.\u001b[39mfilename, \u001b[39m'\u001b[39m\u001b[39minvalid set of inputs.\u001b[39m\u001b[39m'\u001b[39m\n",
      "File \u001b[0;32m~/mambaforge/envs/marvin/lib/python3.9/site-packages/marvin/utils/general/general.py:420\u001b[0m, in \u001b[0;36mmangaid2plateifu\u001b[0;34m(mangaid, mode, drpall, drpver)\u001b[0m\n\u001b[1;32m    417\u001b[0m     \u001b[39mexcept\u001b[39;00m:\n\u001b[1;32m    418\u001b[0m         \u001b[39mcontinue\u001b[39;00m\n\u001b[0;32m--> 420\u001b[0m \u001b[39mraise\u001b[39;00m MarvinError(\n\u001b[1;32m    421\u001b[0m     \u001b[39m'\u001b[39m\u001b[39mmangaid2plateifu was not able to find a plate-ifu for \u001b[39m\u001b[39m'\u001b[39m\n\u001b[1;32m    422\u001b[0m     \u001b[39m'\u001b[39m\u001b[39mmangaid=\u001b[39m\u001b[39m{0}\u001b[39;00m\u001b[39m either local or remotely.\u001b[39m\u001b[39m'\u001b[39m\u001b[39m.\u001b[39mformat(mangaid))\n",
      "\u001b[0;31mMarvinError\u001b[0m: mangaid2plateifu was not able to find a plate-ifu for mangaid=1-604761 either local or remotely.\nYou can submit this error to Marvin GitHub Issues (https://github.com/sdss/marvin/issues/new).\nFill out a subject and some text describing the error that just occurred.\nIf able, copy and paste the full traceback information into the issue as well."
     ]
    }
   ],
   "source": [
    "manga_id = '1-604761'\n",
    "# manga_id = '1-100300'\n",
    "\n",
    "cube = marvin.tools.Cube(manga_id)\n",
    "data = cube.vacs.gz3d"
   ]
  },
  {
   "cell_type": "code",
   "execution_count": null,
   "metadata": {},
   "outputs": [],
   "source": [
    "\n",
    "plt.figure(figsize=(23, 5))\n",
    "gs = gridspec.GridSpec(1, 3, wspace=0.5)\n",
    "ax0 = plt.subplot(gs[0], projection=data.wcs)\n",
    "\n",
    "#Plot the orignal image shown to GZ3D volunteers\n",
    "data.plot_image(color_grid='grey', ax=ax0)\n",
    "\n",
    "#Plot a heat map showing vote counts for the four different tasks in GZ3D. We call these feature masks.\n",
    "data.plot_masks(color_grid='grey', subplot_spec=gs[1]);\n",
    "\n",
    "#As above, but overlay on the image\n",
    "data.plot_masks(show_image=True, color_grid='grey', subplot_spec=gs[2]);"
   ]
  }
 ],
 "metadata": {
  "kernelspec": {
   "display_name": "dev",
   "language": "python",
   "name": "python3"
  },
  "language_info": {
   "codemirror_mode": {
    "name": "ipython",
    "version": 3
   },
   "file_extension": ".py",
   "mimetype": "text/x-python",
   "name": "python",
   "nbconvert_exporter": "python",
   "pygments_lexer": "ipython3",
   "version": "3.9.7"
  },
  "orig_nbformat": 4
 },
 "nbformat": 4,
 "nbformat_minor": 2
}
