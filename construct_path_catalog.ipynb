{
 "cells": [
  {
   "cell_type": "code",
   "execution_count": 18,
   "metadata": {},
   "outputs": [],
   "source": [
    "import os\n",
    "import pandas as pd\n",
    "\n",
    "from galaxy_datasets.shared import label_metadata"
   ]
  },
  {
   "cell_type": "code",
   "execution_count": 19,
   "metadata": {},
   "outputs": [],
   "source": [
    "df = pd.read_csv('data/gz3d_and_gz_desi_matches.csv')"
   ]
  },
  {
   "cell_type": "code",
   "execution_count": 20,
   "metadata": {},
   "outputs": [
    {
     "data": {
      "text/plain": [
       "('593252/593252_2670.fits', '593252/593252_2670.jpg')"
      ]
     },
     "execution_count": 20,
     "metadata": {},
     "output_type": "execute_result"
    }
   ],
   "source": [
    "#  '/share/nas2/walml/galaxy_zoo/decals/dr8/fits/'\n",
    "df['galahad_fits_loc'] = df['brickid'].astype(str) + '/' + df['brickid'].astype(str) + '_' + df['objid'].astype(str) + '.fits'\n",
    "\n",
    "\n",
    "#  '/share/nas2/walml/galaxy_zoo/decals/dr8/jpg/'\n",
    "df['galahad_jpg_loc'] = df['brickid'].astype(str) + '/' + df['brickid'].astype(str) + '_' + df['objid'].astype(str) + '.jpg'\n",
    "\n",
    "df['galahad_fits_loc'][0], df['galahad_jpg_loc'][0]"
   ]
  },
  {
   "cell_type": "code",
   "execution_count": 21,
   "metadata": {},
   "outputs": [],
   "source": [
    "# df['dr8_id'].value_counts()\n",
    "# TODO drop duplicate matches, temporarily\n",
    "df = df.drop_duplicates(subset='dr8_id', keep=False)"
   ]
  },
  {
   "cell_type": "code",
   "execution_count": 22,
   "metadata": {},
   "outputs": [],
   "source": [
    "# with open('data/galahad_fits_to_copy.txt', 'w') as f:\n",
    "#     f.write('\\n'.join(df['galahad_fits_loc']))\n",
    "\n",
    "# with open('data/galahad_jpg_to_copy.txt', 'w') as f:\n",
    "#     f.write('\\n'.join(df['galahad_jpg_loc']))"
   ]
  },
  {
   "cell_type": "code",
   "execution_count": null,
   "metadata": {},
   "outputs": [],
   "source": []
  },
  {
   "cell_type": "code",
   "execution_count": 23,
   "metadata": {},
   "outputs": [],
   "source": [
    "# rsync --files-from data/galahad_fits_to_copy.txt -e 'ssh -A -J walml@external.jb.man.ac.uk' walml@galahad.ast.man.ac.uk:/share/nas2/walml/galaxy_zoo/decals/dr8/fits data/gz_desi/fits"
   ]
  },
  {
   "cell_type": "code",
   "execution_count": 24,
   "metadata": {},
   "outputs": [],
   "source": [
    "# rsync --files-from data/galahad_jpg_to_copy.txt -e 'ssh -A -J walml@external.jb.man.ac.uk' walml@galahad.ast.man.ac.uk:/share/nas2/walml/galaxy_zoo/decals/dr8/jpg data/gz_desi/jpg"
   ]
  },
  {
   "cell_type": "code",
   "execution_count": 25,
   "metadata": {},
   "outputs": [],
   "source": [
    "df['relative_desi_fits_loc'] = 'data/desi/fits/' + df['brickid'].astype(str) + '/' + df['brickid'].astype(str) + '_' + df['objid'].astype(str) + '.fits'\n",
    "df['relative_desi_jpg_loc'] = 'data/desi/jpg/' + df['brickid'].astype(str) + '/' + df['brickid'].astype(str) + '_' + df['objid'].astype(str) + '.jpg'"
   ]
  },
  {
   "cell_type": "code",
   "execution_count": 26,
   "metadata": {},
   "outputs": [],
   "source": [
    "df['relative_segmap_json_loc'] = df['relative_gz3d_fits_loc'].str.replace('/fits_gz/', '/segmaps/marks/', regex=False).str.replace('.fits.gz', '.json', regex=False)"
   ]
  },
  {
   "cell_type": "code",
   "execution_count": 27,
   "metadata": {},
   "outputs": [],
   "source": [
    "df['relative_spiral_mask_loc'] = df['relative_gz3d_fits_loc'].apply(lambda x: x.replace('/fits_gz/', '/segmaps/masks/').replace('.fits.gz', '_spiral.jpg'))\n",
    "df['relative_bar_mask_loc'] = df['relative_gz3d_fits_loc'].apply(lambda x: x.replace('/fits_gz/', '/segmaps/masks/').replace('.fits.gz', '_bar.jpg'))"
   ]
  },
  {
   "cell_type": "code",
   "execution_count": 28,
   "metadata": {},
   "outputs": [
    {
     "data": {
      "text/plain": [
       "'data/gz3d/segmaps/masks/gz3d_1-379196_127_14728482_spiral.jpg'"
      ]
     },
     "execution_count": 28,
     "metadata": {},
     "output_type": "execute_result"
    }
   ],
   "source": [
    "df['relative_spiral_mask_loc'][0]"
   ]
  },
  {
   "cell_type": "code",
   "execution_count": 29,
   "metadata": {},
   "outputs": [
    {
     "data": {
      "text/plain": [
       "28983"
      ]
     },
     "execution_count": 29,
     "metadata": {},
     "output_type": "execute_result"
    }
   ],
   "source": [
    "len(df)"
   ]
  },
  {
   "cell_type": "code",
   "execution_count": 30,
   "metadata": {},
   "outputs": [
    {
     "data": {
      "text/plain": [
       "28983"
      ]
     },
     "execution_count": 30,
     "metadata": {},
     "output_type": "execute_result"
    }
   ],
   "source": [
    "df = df[df['relative_gz3d_fits_loc'].apply(lambda x: os.path.isfile(x))]\n",
    "len(df)"
   ]
  },
  {
   "cell_type": "code",
   "execution_count": 31,
   "metadata": {},
   "outputs": [
    {
     "ename": "FileNotFoundError",
     "evalue": "[Errno 2] No such file or directory: '/Volumes/beta/galaxy_zoo/decals/dr8/catalogs/training_catalogs/dr12_ortho_v5_labelled_catalog.parquet'",
     "output_type": "error",
     "traceback": [
      "\u001b[0;31m---------------------------------------------------------------------------\u001b[0m",
      "\u001b[0;31mFileNotFoundError\u001b[0m                         Traceback (most recent call last)",
      "\u001b[1;32m/Users/user/repos/zoobot-3d/construct_path_catalog.ipynb Cell 15\u001b[0m line \u001b[0;36m1\n\u001b[1;32m      <a href='vscode-notebook-cell:/Users/user/repos/zoobot-3d/construct_path_catalog.ipynb#X20sZmlsZQ%3D%3D?line=5'>6</a>\u001b[0m desi_vote_locs \u001b[39m=\u001b[39m [\n\u001b[1;32m      <a href='vscode-notebook-cell:/Users/user/repos/zoobot-3d/construct_path_catalog.ipynb#X20sZmlsZQ%3D%3D?line=6'>7</a>\u001b[0m     \u001b[39m'\u001b[39m\u001b[39m/Volumes/beta/galaxy_zoo/decals/dr8/catalogs/training_catalogs/dr12_ortho_v5_labelled_catalog.parquet\u001b[39m\u001b[39m'\u001b[39m,\n\u001b[1;32m      <a href='vscode-notebook-cell:/Users/user/repos/zoobot-3d/construct_path_catalog.ipynb#X20sZmlsZQ%3D%3D?line=7'>8</a>\u001b[0m     \u001b[39m'\u001b[39m\u001b[39m/Volumes/beta/galaxy_zoo/decals/dr8/catalogs/training_catalogs/dr5_ortho_v5_labelled_catalog.parquet\u001b[39m\u001b[39m'\u001b[39m,\n\u001b[1;32m      <a href='vscode-notebook-cell:/Users/user/repos/zoobot-3d/construct_path_catalog.ipynb#X20sZmlsZQ%3D%3D?line=8'>9</a>\u001b[0m     \u001b[39m'\u001b[39m\u001b[39m/Volumes/beta/galaxy_zoo/decals/dr8/catalogs/training_catalogs/dr8_ortho_v5_labelled_catalog.parquet\u001b[39m\u001b[39m'\u001b[39m,\n\u001b[1;32m     <a href='vscode-notebook-cell:/Users/user/repos/zoobot-3d/construct_path_catalog.ipynb#X20sZmlsZQ%3D%3D?line=9'>10</a>\u001b[0m ]\n\u001b[1;32m     <a href='vscode-notebook-cell:/Users/user/repos/zoobot-3d/construct_path_catalog.ipynb#X20sZmlsZQ%3D%3D?line=11'>12</a>\u001b[0m columns \u001b[39m=\u001b[39m [\n\u001b[1;32m     <a href='vscode-notebook-cell:/Users/user/repos/zoobot-3d/construct_path_catalog.ipynb#X20sZmlsZQ%3D%3D?line=12'>13</a>\u001b[0m     \u001b[39m'\u001b[39m\u001b[39mdr8_id\u001b[39m\u001b[39m'\u001b[39m,\n\u001b[1;32m     <a href='vscode-notebook-cell:/Users/user/repos/zoobot-3d/construct_path_catalog.ipynb#X20sZmlsZQ%3D%3D?line=13'>14</a>\u001b[0m ] \u001b[39m+\u001b[39m label_metadata\u001b[39m.\u001b[39mdecals_all_campaigns_ortho_label_cols\n\u001b[0;32m---> <a href='vscode-notebook-cell:/Users/user/repos/zoobot-3d/construct_path_catalog.ipynb#X20sZmlsZQ%3D%3D?line=14'>15</a>\u001b[0m gz_desi_votes \u001b[39m=\u001b[39m pd\u001b[39m.\u001b[39mconcat([pd\u001b[39m.\u001b[39mread_parquet(loc, columns\u001b[39m=\u001b[39mcolumns) \u001b[39mfor\u001b[39;00m loc \u001b[39min\u001b[39;00m desi_vote_locs])\n\u001b[1;32m     <a href='vscode-notebook-cell:/Users/user/repos/zoobot-3d/construct_path_catalog.ipynb#X20sZmlsZQ%3D%3D?line=16'>17</a>\u001b[0m df \u001b[39m=\u001b[39m pd\u001b[39m.\u001b[39mmerge(df, gz_desi_votes, on\u001b[39m=\u001b[39m\u001b[39m'\u001b[39m\u001b[39mdr8_id\u001b[39m\u001b[39m'\u001b[39m, validate\u001b[39m=\u001b[39m\u001b[39m'\u001b[39m\u001b[39mone_to_one\u001b[39m\u001b[39m'\u001b[39m, how\u001b[39m=\u001b[39m\u001b[39m'\u001b[39m\u001b[39mouter\u001b[39m\u001b[39m'\u001b[39m)\n\u001b[1;32m     <a href='vscode-notebook-cell:/Users/user/repos/zoobot-3d/construct_path_catalog.ipynb#X20sZmlsZQ%3D%3D?line=17'>18</a>\u001b[0m \u001b[39m# left, because some have no votes (about half, 14k of 29k have votes)\u001b[39;00m\n\u001b[1;32m     <a href='vscode-notebook-cell:/Users/user/repos/zoobot-3d/construct_path_catalog.ipynb#X20sZmlsZQ%3D%3D?line=18'>19</a>\u001b[0m \u001b[39m# now outer, because we want to learn to classify as usual\u001b[39;00m\n",
      "\u001b[1;32m/Users/user/repos/zoobot-3d/construct_path_catalog.ipynb Cell 15\u001b[0m line \u001b[0;36m1\n\u001b[1;32m      <a href='vscode-notebook-cell:/Users/user/repos/zoobot-3d/construct_path_catalog.ipynb#X20sZmlsZQ%3D%3D?line=5'>6</a>\u001b[0m desi_vote_locs \u001b[39m=\u001b[39m [\n\u001b[1;32m      <a href='vscode-notebook-cell:/Users/user/repos/zoobot-3d/construct_path_catalog.ipynb#X20sZmlsZQ%3D%3D?line=6'>7</a>\u001b[0m     \u001b[39m'\u001b[39m\u001b[39m/Volumes/beta/galaxy_zoo/decals/dr8/catalogs/training_catalogs/dr12_ortho_v5_labelled_catalog.parquet\u001b[39m\u001b[39m'\u001b[39m,\n\u001b[1;32m      <a href='vscode-notebook-cell:/Users/user/repos/zoobot-3d/construct_path_catalog.ipynb#X20sZmlsZQ%3D%3D?line=7'>8</a>\u001b[0m     \u001b[39m'\u001b[39m\u001b[39m/Volumes/beta/galaxy_zoo/decals/dr8/catalogs/training_catalogs/dr5_ortho_v5_labelled_catalog.parquet\u001b[39m\u001b[39m'\u001b[39m,\n\u001b[1;32m      <a href='vscode-notebook-cell:/Users/user/repos/zoobot-3d/construct_path_catalog.ipynb#X20sZmlsZQ%3D%3D?line=8'>9</a>\u001b[0m     \u001b[39m'\u001b[39m\u001b[39m/Volumes/beta/galaxy_zoo/decals/dr8/catalogs/training_catalogs/dr8_ortho_v5_labelled_catalog.parquet\u001b[39m\u001b[39m'\u001b[39m,\n\u001b[1;32m     <a href='vscode-notebook-cell:/Users/user/repos/zoobot-3d/construct_path_catalog.ipynb#X20sZmlsZQ%3D%3D?line=9'>10</a>\u001b[0m ]\n\u001b[1;32m     <a href='vscode-notebook-cell:/Users/user/repos/zoobot-3d/construct_path_catalog.ipynb#X20sZmlsZQ%3D%3D?line=11'>12</a>\u001b[0m columns \u001b[39m=\u001b[39m [\n\u001b[1;32m     <a href='vscode-notebook-cell:/Users/user/repos/zoobot-3d/construct_path_catalog.ipynb#X20sZmlsZQ%3D%3D?line=12'>13</a>\u001b[0m     \u001b[39m'\u001b[39m\u001b[39mdr8_id\u001b[39m\u001b[39m'\u001b[39m,\n\u001b[1;32m     <a href='vscode-notebook-cell:/Users/user/repos/zoobot-3d/construct_path_catalog.ipynb#X20sZmlsZQ%3D%3D?line=13'>14</a>\u001b[0m ] \u001b[39m+\u001b[39m label_metadata\u001b[39m.\u001b[39mdecals_all_campaigns_ortho_label_cols\n\u001b[0;32m---> <a href='vscode-notebook-cell:/Users/user/repos/zoobot-3d/construct_path_catalog.ipynb#X20sZmlsZQ%3D%3D?line=14'>15</a>\u001b[0m gz_desi_votes \u001b[39m=\u001b[39m pd\u001b[39m.\u001b[39mconcat([pd\u001b[39m.\u001b[39;49mread_parquet(loc, columns\u001b[39m=\u001b[39;49mcolumns) \u001b[39mfor\u001b[39;00m loc \u001b[39min\u001b[39;00m desi_vote_locs])\n\u001b[1;32m     <a href='vscode-notebook-cell:/Users/user/repos/zoobot-3d/construct_path_catalog.ipynb#X20sZmlsZQ%3D%3D?line=16'>17</a>\u001b[0m df \u001b[39m=\u001b[39m pd\u001b[39m.\u001b[39mmerge(df, gz_desi_votes, on\u001b[39m=\u001b[39m\u001b[39m'\u001b[39m\u001b[39mdr8_id\u001b[39m\u001b[39m'\u001b[39m, validate\u001b[39m=\u001b[39m\u001b[39m'\u001b[39m\u001b[39mone_to_one\u001b[39m\u001b[39m'\u001b[39m, how\u001b[39m=\u001b[39m\u001b[39m'\u001b[39m\u001b[39mouter\u001b[39m\u001b[39m'\u001b[39m)\n\u001b[1;32m     <a href='vscode-notebook-cell:/Users/user/repos/zoobot-3d/construct_path_catalog.ipynb#X20sZmlsZQ%3D%3D?line=17'>18</a>\u001b[0m \u001b[39m# left, because some have no votes (about half, 14k of 29k have votes)\u001b[39;00m\n\u001b[1;32m     <a href='vscode-notebook-cell:/Users/user/repos/zoobot-3d/construct_path_catalog.ipynb#X20sZmlsZQ%3D%3D?line=18'>19</a>\u001b[0m \u001b[39m# now outer, because we want to learn to classify as usual\u001b[39;00m\n",
      "File \u001b[0;32m~/mambaforge/envs/dev/lib/python3.8/site-packages/pandas/io/parquet.py:503\u001b[0m, in \u001b[0;36mread_parquet\u001b[0;34m(path, engine, columns, storage_options, use_nullable_dtypes, **kwargs)\u001b[0m\n\u001b[1;32m    456\u001b[0m \u001b[39m\u001b[39m\u001b[39m\"\"\"\u001b[39;00m\n\u001b[1;32m    457\u001b[0m \u001b[39mLoad a parquet object from the file path, returning a DataFrame.\u001b[39;00m\n\u001b[1;32m    458\u001b[0m \n\u001b[0;32m   (...)\u001b[0m\n\u001b[1;32m    499\u001b[0m \u001b[39mDataFrame\u001b[39;00m\n\u001b[1;32m    500\u001b[0m \u001b[39m\"\"\"\u001b[39;00m\n\u001b[1;32m    501\u001b[0m impl \u001b[39m=\u001b[39m get_engine(engine)\n\u001b[0;32m--> 503\u001b[0m \u001b[39mreturn\u001b[39;00m impl\u001b[39m.\u001b[39;49mread(\n\u001b[1;32m    504\u001b[0m     path,\n\u001b[1;32m    505\u001b[0m     columns\u001b[39m=\u001b[39;49mcolumns,\n\u001b[1;32m    506\u001b[0m     storage_options\u001b[39m=\u001b[39;49mstorage_options,\n\u001b[1;32m    507\u001b[0m     use_nullable_dtypes\u001b[39m=\u001b[39;49muse_nullable_dtypes,\n\u001b[1;32m    508\u001b[0m     \u001b[39m*\u001b[39;49m\u001b[39m*\u001b[39;49mkwargs,\n\u001b[1;32m    509\u001b[0m )\n",
      "File \u001b[0;32m~/mambaforge/envs/dev/lib/python3.8/site-packages/pandas/io/parquet.py:244\u001b[0m, in \u001b[0;36mPyArrowImpl.read\u001b[0;34m(self, path, columns, use_nullable_dtypes, storage_options, **kwargs)\u001b[0m\n\u001b[1;32m    241\u001b[0m \u001b[39mif\u001b[39;00m manager \u001b[39m==\u001b[39m \u001b[39m\"\u001b[39m\u001b[39marray\u001b[39m\u001b[39m\"\u001b[39m:\n\u001b[1;32m    242\u001b[0m     to_pandas_kwargs[\u001b[39m\"\u001b[39m\u001b[39msplit_blocks\u001b[39m\u001b[39m\"\u001b[39m] \u001b[39m=\u001b[39m \u001b[39mTrue\u001b[39;00m  \u001b[39m# type: ignore[assignment]\u001b[39;00m\n\u001b[0;32m--> 244\u001b[0m path_or_handle, handles, kwargs[\u001b[39m\"\u001b[39m\u001b[39mfilesystem\u001b[39m\u001b[39m\"\u001b[39m] \u001b[39m=\u001b[39m _get_path_or_handle(\n\u001b[1;32m    245\u001b[0m     path,\n\u001b[1;32m    246\u001b[0m     kwargs\u001b[39m.\u001b[39;49mpop(\u001b[39m\"\u001b[39;49m\u001b[39mfilesystem\u001b[39;49m\u001b[39m\"\u001b[39;49m, \u001b[39mNone\u001b[39;49;00m),\n\u001b[1;32m    247\u001b[0m     storage_options\u001b[39m=\u001b[39;49mstorage_options,\n\u001b[1;32m    248\u001b[0m     mode\u001b[39m=\u001b[39;49m\u001b[39m\"\u001b[39;49m\u001b[39mrb\u001b[39;49m\u001b[39m\"\u001b[39;49m,\n\u001b[1;32m    249\u001b[0m )\n\u001b[1;32m    250\u001b[0m \u001b[39mtry\u001b[39;00m:\n\u001b[1;32m    251\u001b[0m     result \u001b[39m=\u001b[39m \u001b[39mself\u001b[39m\u001b[39m.\u001b[39mapi\u001b[39m.\u001b[39mparquet\u001b[39m.\u001b[39mread_table(\n\u001b[1;32m    252\u001b[0m         path_or_handle, columns\u001b[39m=\u001b[39mcolumns, \u001b[39m*\u001b[39m\u001b[39m*\u001b[39mkwargs\n\u001b[1;32m    253\u001b[0m     )\u001b[39m.\u001b[39mto_pandas(\u001b[39m*\u001b[39m\u001b[39m*\u001b[39mto_pandas_kwargs)\n",
      "File \u001b[0;32m~/mambaforge/envs/dev/lib/python3.8/site-packages/pandas/io/parquet.py:102\u001b[0m, in \u001b[0;36m_get_path_or_handle\u001b[0;34m(path, fs, storage_options, mode, is_dir)\u001b[0m\n\u001b[1;32m     92\u001b[0m handles \u001b[39m=\u001b[39m \u001b[39mNone\u001b[39;00m\n\u001b[1;32m     93\u001b[0m \u001b[39mif\u001b[39;00m (\n\u001b[1;32m     94\u001b[0m     \u001b[39mnot\u001b[39;00m fs\n\u001b[1;32m     95\u001b[0m     \u001b[39mand\u001b[39;00m \u001b[39mnot\u001b[39;00m is_dir\n\u001b[0;32m   (...)\u001b[0m\n\u001b[1;32m    100\u001b[0m     \u001b[39m# fsspec resources can also point to directories\u001b[39;00m\n\u001b[1;32m    101\u001b[0m     \u001b[39m# this branch is used for example when reading from non-fsspec URLs\u001b[39;00m\n\u001b[0;32m--> 102\u001b[0m     handles \u001b[39m=\u001b[39m get_handle(\n\u001b[1;32m    103\u001b[0m         path_or_handle, mode, is_text\u001b[39m=\u001b[39;49m\u001b[39mFalse\u001b[39;49;00m, storage_options\u001b[39m=\u001b[39;49mstorage_options\n\u001b[1;32m    104\u001b[0m     )\n\u001b[1;32m    105\u001b[0m     fs \u001b[39m=\u001b[39m \u001b[39mNone\u001b[39;00m\n\u001b[1;32m    106\u001b[0m     path_or_handle \u001b[39m=\u001b[39m handles\u001b[39m.\u001b[39mhandle\n",
      "File \u001b[0;32m~/mambaforge/envs/dev/lib/python3.8/site-packages/pandas/io/common.py:865\u001b[0m, in \u001b[0;36mget_handle\u001b[0;34m(path_or_buf, mode, encoding, compression, memory_map, is_text, errors, storage_options)\u001b[0m\n\u001b[1;32m    856\u001b[0m         handle \u001b[39m=\u001b[39m \u001b[39mopen\u001b[39m(\n\u001b[1;32m    857\u001b[0m             handle,\n\u001b[1;32m    858\u001b[0m             ioargs\u001b[39m.\u001b[39mmode,\n\u001b[0;32m   (...)\u001b[0m\n\u001b[1;32m    861\u001b[0m             newline\u001b[39m=\u001b[39m\u001b[39m\"\u001b[39m\u001b[39m\"\u001b[39m,\n\u001b[1;32m    862\u001b[0m         )\n\u001b[1;32m    863\u001b[0m     \u001b[39melse\u001b[39;00m:\n\u001b[1;32m    864\u001b[0m         \u001b[39m# Binary mode\u001b[39;00m\n\u001b[0;32m--> 865\u001b[0m         handle \u001b[39m=\u001b[39m \u001b[39mopen\u001b[39;49m(handle, ioargs\u001b[39m.\u001b[39;49mmode)\n\u001b[1;32m    866\u001b[0m     handles\u001b[39m.\u001b[39mappend(handle)\n\u001b[1;32m    868\u001b[0m \u001b[39m# Convert BytesIO or file objects passed with an encoding\u001b[39;00m\n",
      "\u001b[0;31mFileNotFoundError\u001b[0m: [Errno 2] No such file or directory: '/Volumes/beta/galaxy_zoo/decals/dr8/catalogs/training_catalogs/dr12_ortho_v5_labelled_catalog.parquet'"
     ]
    }
   ],
   "source": [
    "# add GZ DESI votes themselves\n",
    "\n",
    "\n",
    "\n",
    "\n",
    "desi_vote_locs = [\n",
    "    '/Volumes/beta/galaxy_zoo/decals/dr8/catalogs/training_catalogs/dr12_ortho_v5_labelled_catalog.parquet',\n",
    "    '/Volumes/beta/galaxy_zoo/decals/dr8/catalogs/training_catalogs/dr5_ortho_v5_labelled_catalog.parquet',\n",
    "    '/Volumes/beta/galaxy_zoo/decals/dr8/catalogs/training_catalogs/dr8_ortho_v5_labelled_catalog.parquet',\n",
    "]\n",
    "\n",
    "columns = [\n",
    "    'dr8_id',\n",
    "] + label_metadata.decals_all_campaigns_ortho_label_cols\n",
    "gz_desi_votes = pd.concat([pd.read_parquet(loc, columns=columns) for loc in desi_vote_locs])\n",
    "\n",
    "df = pd.merge(df, gz_desi_votes, on='dr8_id', validate='one_to_one', how='outer')\n",
    "# left, because some have no votes (about half, 14k of 29k have votes)\n",
    "# now outer, because we want to learn to classify as usual\n",
    "df[label_metadata.decals_all_campaigns_ortho_label_cols] = df[label_metadata.decals_all_campaigns_ortho_label_cols].fillna(0)\n",
    "\n"
   ]
  },
  {
   "cell_type": "code",
   "execution_count": null,
   "metadata": {},
   "outputs": [],
   "source": [
    "# add GZ DESI vote predictions (just for filtering)\n",
    "\n",
    "columns = [\n",
    "    'dr8_id',\n",
    "    'smooth-or-featured_featured-or-disk_fraction',\n",
    "    'disk-edge-on_yes_fraction',\n",
    "    'has-spiral-arms_yes_fraction',\n",
    "    'spiral-arm-count_2_fraction'\n",
    "]\n",
    "gz_desi_preds = pd.read_parquet(\n",
    "    '/Users/user/repos/desi-predictions/results/final/gz_desi_deep_learning_catalog_advanced.parquet',\n",
    "    columns=columns\n",
    ")"
   ]
  },
  {
   "cell_type": "code",
   "execution_count": null,
   "metadata": {},
   "outputs": [],
   "source": [
    "gz_desi_preds['brickid'] = gz_desi_preds['dr8_id'].apply(lambda x: x.split('_')[0])\n",
    "gz_desi_preds['objid'] = gz_desi_preds['dr8_id'].apply(lambda x: x.split('_')[1])\n"
   ]
  },
  {
   "cell_type": "code",
   "execution_count": null,
   "metadata": {},
   "outputs": [],
   "source": [
    "del df['brickid']\n",
    "del df['objid']\n",
    "df = pd.merge(df, gz_desi_preds, on='dr8_id', validate='one_to_one', how='inner')"
   ]
  },
  {
   "cell_type": "code",
   "execution_count": null,
   "metadata": {},
   "outputs": [
    {
     "data": {
      "text/plain": [
       "(0, 0)"
      ]
     },
     "execution_count": 183,
     "metadata": {},
     "output_type": "execute_result"
    }
   ],
   "source": [
    "df['smooth-or-featured_featured-or-disk_fraction'].isna().sum(), df['brickid'].isna().sum()"
   ]
  },
  {
   "cell_type": "code",
   "execution_count": null,
   "metadata": {},
   "outputs": [
    {
     "data": {
      "text/plain": [
       "415591"
      ]
     },
     "execution_count": 184,
     "metadata": {},
     "output_type": "execute_result"
    }
   ],
   "source": [
    "len(df)"
   ]
  },
  {
   "cell_type": "code",
   "execution_count": null,
   "metadata": {},
   "outputs": [
    {
     "data": {
      "text/plain": [
       "'/share/nas2/walml/galaxy_zoo/decals/dr8/jpg/593252/593252_2670.jpg'"
      ]
     },
     "execution_count": 185,
     "metadata": {},
     "output_type": "execute_result"
    }
   ],
   "source": [
    "df['galahad_jpg_loc'] = '/share/nas2/walml/galaxy_zoo/decals/dr8/jpg/' + df['brickid'].astype(str) + '/' + df['brickid'].astype(str) + '_' + df['objid'].astype(str) + '.jpg'\n",
    "df['galahad_jpg_loc'].iloc[0]"
   ]
  },
  {
   "cell_type": "code",
   "execution_count": null,
   "metadata": {},
   "outputs": [],
   "source": [
    "df['relative_spiral_mask_loc'] = df['relative_spiral_mask_loc'].fillna('')\n",
    "df['relative_bar_mask_loc'] = df['relative_bar_mask_loc'].fillna('')"
   ]
  },
  {
   "cell_type": "code",
   "execution_count": null,
   "metadata": {},
   "outputs": [
    {
     "data": {
      "text/plain": [
       "1.0"
      ]
     },
     "execution_count": 187,
     "metadata": {},
     "output_type": "execute_result"
    }
   ],
   "source": [
    "((df['relative_spiral_mask_loc'].str.startswith('data/gz3d/segmaps/masks/')) | (df['relative_spiral_mask_loc'] == '')).mean()"
   ]
  },
  {
   "cell_type": "code",
   "execution_count": null,
   "metadata": {},
   "outputs": [],
   "source": [
    "df['relative_spiral_mask_loc'] = df['relative_spiral_mask_loc'].astype(str)\n",
    "df['relative_bar_mask_loc'] = df['relative_bar_mask_loc'].astype(str)"
   ]
  },
  {
   "cell_type": "code",
   "execution_count": null,
   "metadata": {},
   "outputs": [],
   "source": [
    "df.to_parquet('data/gz3d_and_gz_desi_master_catalog.parquet', index=False)"
   ]
  },
  {
   "cell_type": "code",
   "execution_count": null,
   "metadata": {},
   "outputs": [],
   "source": [
    "df = pd.read_parquet('data/gz3d_and_gz_desi_master_catalog.parquet')"
   ]
  },
  {
   "cell_type": "code",
   "execution_count": null,
   "metadata": {},
   "outputs": [
    {
     "data": {
      "text/plain": [
       "array(['dr7objid', 'ra_gz2', 'dec_gz2', 'smooth-or-featured-gz2_smooth',\n",
       "       'smooth-or-featured-gz2_featured-or-disk',\n",
       "       'smooth-or-featured-gz2_artifact', 'disk-edge-on-gz2_yes',\n",
       "       'disk-edge-on-gz2_no', 'bar-gz2_yes', 'bar-gz2_no',\n",
       "       'has-spiral-arms-gz2_yes', 'has-spiral-arms-gz2_no',\n",
       "       'bulge-size-gz2_no', 'bulge-size-gz2_just-noticeable',\n",
       "       'bulge-size-gz2_obvious', 'bulge-size-gz2_dominant',\n",
       "       'something-odd-gz2_yes', 'something-odd-gz2_no',\n",
       "       'how-rounded-gz2_round', 'how-rounded-gz2_in-between',\n",
       "       'how-rounded-gz2_cigar', 'bulge-shape-gz2_round',\n",
       "       'bulge-shape-gz2_boxy', 'bulge-shape-gz2_no-bulge',\n",
       "       'spiral-winding-gz2_tight', 'spiral-winding-gz2_medium',\n",
       "       'spiral-winding-gz2_loose', 'spiral-arm-count-gz2_1',\n",
       "       'spiral-arm-count-gz2_2', 'spiral-arm-count-gz2_3',\n",
       "       'spiral-arm-count-gz2_4', 'spiral-arm-count-gz2_more-than-4',\n",
       "       'spiral-arm-count-gz2_cant-tell',\n",
       "       'smooth-or-featured-gz2_total-votes',\n",
       "       'smooth-or-featured-gz2_smooth_fraction',\n",
       "       'smooth-or-featured-gz2_featured-or-disk_fraction',\n",
       "       'smooth-or-featured-gz2_artifact_fraction',\n",
       "       'disk-edge-on-gz2_total-votes', 'disk-edge-on-gz2_yes_fraction',\n",
       "       'disk-edge-on-gz2_no_fraction', 'has-spiral-arms-gz2_total-votes',\n",
       "       'has-spiral-arms-gz2_yes_fraction',\n",
       "       'has-spiral-arms-gz2_no_fraction', 'bar-gz2_total-votes',\n",
       "       'bar-gz2_yes_fraction', 'bar-gz2_no_fraction',\n",
       "       'bulge-size-gz2_total-votes', 'bulge-size-gz2_dominant_fraction',\n",
       "       'bulge-size-gz2_obvious_fraction',\n",
       "       'bulge-size-gz2_just-noticeable_fraction',\n",
       "       'bulge-size-gz2_no_fraction', 'something-odd-gz2_total-votes',\n",
       "       'something-odd-gz2_yes_fraction', 'something-odd-gz2_no_fraction',\n",
       "       'how-rounded-gz2_total-votes', 'how-rounded-gz2_round_fraction',\n",
       "       'how-rounded-gz2_in-between_fraction',\n",
       "       'how-rounded-gz2_cigar_fraction', 'bulge-shape-gz2_total-votes',\n",
       "       'bulge-shape-gz2_round_fraction', 'bulge-shape-gz2_boxy_fraction',\n",
       "       'bulge-shape-gz2_no-bulge_fraction',\n",
       "       'spiral-winding-gz2_total-votes',\n",
       "       'spiral-winding-gz2_tight_fraction',\n",
       "       'spiral-winding-gz2_medium_fraction',\n",
       "       'spiral-winding-gz2_loose_fraction',\n",
       "       'spiral-arm-count-gz2_total-votes',\n",
       "       'spiral-arm-count-gz2_1_fraction',\n",
       "       'spiral-arm-count-gz2_2_fraction',\n",
       "       'spiral-arm-count-gz2_3_fraction',\n",
       "       'spiral-arm-count-gz2_4_fraction',\n",
       "       'spiral-arm-count-gz2_more-than-4_fraction',\n",
       "       'spiral-arm-count-gz2_cant-tell_fraction', 'best_match',\n",
       "       'sky_separation', 'ra_desi', 'dec_desi', 'dr8_id'], dtype=object)"
      ]
     },
     "execution_count": 4,
     "metadata": {},
     "output_type": "execute_result"
    }
   ],
   "source": [
    "# merge in gz2 matches on dr8_id\n",
    "gz2_desi_matches = pd.read_csv('/Users/user/repos/zoobot-3d/data/gz2_and_gz_desi_matches.csv')\n",
    "gz2_desi_matches.columns.values\n"
   ]
  },
  {
   "cell_type": "code",
   "execution_count": null,
   "metadata": {},
   "outputs": [],
   "source": []
  },
  {
   "cell_type": "code",
   "execution_count": null,
   "metadata": {},
   "outputs": [],
   "source": [
    "gz2_cols = [col for col in gz2_desi_matches.columns.values if 'gz2' in col] + ['dr8_id']\n",
    "df = pd.merge(df, gz2_desi_matches[gz2_cols], how='left', on='dr8_id')"
   ]
  },
  {
   "cell_type": "code",
   "execution_count": null,
   "metadata": {},
   "outputs": [],
   "source": [
    "df[label_metadata.gz2_ortho_label_cols] = df[label_metadata.gz2_ortho_label_cols].fillna(0)\n"
   ]
  },
  {
   "cell_type": "code",
   "execution_count": null,
   "metadata": {},
   "outputs": [
    {
     "data": {
      "text/plain": [
       "0          0.0\n",
       "1         36.0\n",
       "2         31.0\n",
       "3          0.0\n",
       "4         22.0\n",
       "          ... \n",
       "415597     0.0\n",
       "415598     0.0\n",
       "415599     0.0\n",
       "415600     0.0\n",
       "415601     0.0\n",
       "Name: smooth-or-featured-gz2_smooth, Length: 415602, dtype: float64"
      ]
     },
     "execution_count": 19,
     "metadata": {},
     "output_type": "execute_result"
    }
   ],
   "source": [
    "df['smooth-or-featured-gz2_smooth']"
   ]
  },
  {
   "cell_type": "code",
   "execution_count": null,
   "metadata": {},
   "outputs": [],
   "source": [
    "df.to_parquet('data/gz3d_and_desi_master_catalog.parquet', index=False)  # now with gz2 also"
   ]
  },
  {
   "cell_type": "code",
   "execution_count": null,
   "metadata": {},
   "outputs": [
    {
     "data": {
      "text/plain": [
       "array(['ra_manga', 'dec_manga', 'mangaid', 'iauname', 'ifudesignsize',\n",
       "       'manga_tileid', 'nsa_id', 'explorer_link',\n",
       "       'gz_total_classifications', 'gz_bar_votes', 'gz_spiral_votes',\n",
       "       'sample', 'relative_gz3d_fits_loc', 'best_match', 'sky_separation',\n",
       "       'ra_desi', 'dec_desi', 'dr8_id', 'mag_r', 'mag_g', 'mag_z',\n",
       "       'est_dr5_pixscale', 'galahad_fits_loc', 'galahad_jpg_loc',\n",
       "       'relative_desi_fits_loc', 'relative_desi_jpg_loc',\n",
       "       'relative_segmap_json_loc', 'relative_spiral_mask_loc',\n",
       "       'relative_bar_mask_loc', 'smooth-or-featured-dr12_smooth',\n",
       "       'smooth-or-featured-dr12_featured-or-disk',\n",
       "       'smooth-or-featured-dr12_artifact', 'disk-edge-on-dr12_yes',\n",
       "       'disk-edge-on-dr12_no', 'has-spiral-arms-dr12_yes',\n",
       "       'has-spiral-arms-dr12_no', 'bar-dr12_yes', 'bar-dr12_no',\n",
       "       'bulge-size-dr12_dominant', 'bulge-size-dr12_obvious',\n",
       "       'bulge-size-dr12_none', 'how-rounded-dr12_completely',\n",
       "       'how-rounded-dr12_in-between', 'how-rounded-dr12_cigar-shaped',\n",
       "       'edge-on-bulge-dr12_boxy', 'edge-on-bulge-dr12_none',\n",
       "       'edge-on-bulge-dr12_rounded', 'spiral-winding-dr12_tight',\n",
       "       'spiral-winding-dr12_medium', 'spiral-winding-dr12_loose',\n",
       "       'spiral-arm-count-dr12_1', 'spiral-arm-count-dr12_2',\n",
       "       'spiral-arm-count-dr12_3', 'spiral-arm-count-dr12_4',\n",
       "       'spiral-arm-count-dr12_more-than-4', 'merging-dr12_neither',\n",
       "       'merging-dr12_tidal-debris', 'merging-dr12_both',\n",
       "       'merging-dr12_merger', 'smooth-or-featured-dr5_smooth',\n",
       "       'smooth-or-featured-dr5_featured-or-disk',\n",
       "       'smooth-or-featured-dr5_artifact', 'disk-edge-on-dr5_yes',\n",
       "       'disk-edge-on-dr5_no', 'has-spiral-arms-dr5_yes',\n",
       "       'has-spiral-arms-dr5_no', 'bar-dr5_strong', 'bar-dr5_weak',\n",
       "       'bar-dr5_no', 'bulge-size-dr5_dominant', 'bulge-size-dr5_large',\n",
       "       'bulge-size-dr5_moderate', 'bulge-size-dr5_small',\n",
       "       'bulge-size-dr5_none', 'how-rounded-dr5_round',\n",
       "       'how-rounded-dr5_in-between', 'how-rounded-dr5_cigar-shaped',\n",
       "       'edge-on-bulge-dr5_boxy', 'edge-on-bulge-dr5_none',\n",
       "       'edge-on-bulge-dr5_rounded', 'spiral-winding-dr5_tight',\n",
       "       'spiral-winding-dr5_medium', 'spiral-winding-dr5_loose',\n",
       "       'spiral-arm-count-dr5_1', 'spiral-arm-count-dr5_2',\n",
       "       'spiral-arm-count-dr5_3', 'spiral-arm-count-dr5_4',\n",
       "       'spiral-arm-count-dr5_more-than-4',\n",
       "       'spiral-arm-count-dr5_cant-tell', 'merging-dr5_none',\n",
       "       'merging-dr5_minor-disturbance', 'merging-dr5_major-disturbance',\n",
       "       'merging-dr5_merger', 'smooth-or-featured-dr8_smooth',\n",
       "       'smooth-or-featured-dr8_featured-or-disk',\n",
       "       'smooth-or-featured-dr8_artifact', 'disk-edge-on-dr8_yes',\n",
       "       'disk-edge-on-dr8_no', 'has-spiral-arms-dr8_yes',\n",
       "       'has-spiral-arms-dr8_no', 'bar-dr8_strong', 'bar-dr8_weak',\n",
       "       'bar-dr8_no', 'bulge-size-dr8_dominant', 'bulge-size-dr8_large',\n",
       "       'bulge-size-dr8_moderate', 'bulge-size-dr8_small',\n",
       "       'bulge-size-dr8_none', 'how-rounded-dr8_round',\n",
       "       'how-rounded-dr8_in-between', 'how-rounded-dr8_cigar-shaped',\n",
       "       'edge-on-bulge-dr8_boxy', 'edge-on-bulge-dr8_none',\n",
       "       'edge-on-bulge-dr8_rounded', 'spiral-winding-dr8_tight',\n",
       "       'spiral-winding-dr8_medium', 'spiral-winding-dr8_loose',\n",
       "       'spiral-arm-count-dr8_1', 'spiral-arm-count-dr8_2',\n",
       "       'spiral-arm-count-dr8_3', 'spiral-arm-count-dr8_4',\n",
       "       'spiral-arm-count-dr8_more-than-4',\n",
       "       'spiral-arm-count-dr8_cant-tell', 'merging-dr8_none',\n",
       "       'merging-dr8_minor-disturbance', 'merging-dr8_major-disturbance',\n",
       "       'merging-dr8_merger',\n",
       "       'smooth-or-featured_featured-or-disk_fraction',\n",
       "       'disk-edge-on_yes_fraction', 'has-spiral-arms_yes_fraction',\n",
       "       'spiral-arm-count_2_fraction', 'brickid', 'objid', 'ra_gz2',\n",
       "       'dec_gz2', 'smooth-or-featured-gz2_smooth',\n",
       "       'smooth-or-featured-gz2_featured-or-disk',\n",
       "       'smooth-or-featured-gz2_artifact', 'disk-edge-on-gz2_yes',\n",
       "       'disk-edge-on-gz2_no', 'bar-gz2_yes', 'bar-gz2_no',\n",
       "       'has-spiral-arms-gz2_yes', 'has-spiral-arms-gz2_no',\n",
       "       'bulge-size-gz2_no', 'bulge-size-gz2_just-noticeable',\n",
       "       'bulge-size-gz2_obvious', 'bulge-size-gz2_dominant',\n",
       "       'something-odd-gz2_yes', 'something-odd-gz2_no',\n",
       "       'how-rounded-gz2_round', 'how-rounded-gz2_in-between',\n",
       "       'how-rounded-gz2_cigar', 'bulge-shape-gz2_round',\n",
       "       'bulge-shape-gz2_boxy', 'bulge-shape-gz2_no-bulge',\n",
       "       'spiral-winding-gz2_tight', 'spiral-winding-gz2_medium',\n",
       "       'spiral-winding-gz2_loose', 'spiral-arm-count-gz2_1',\n",
       "       'spiral-arm-count-gz2_2', 'spiral-arm-count-gz2_3',\n",
       "       'spiral-arm-count-gz2_4', 'spiral-arm-count-gz2_more-than-4',\n",
       "       'spiral-arm-count-gz2_cant-tell',\n",
       "       'smooth-or-featured-gz2_total-votes',\n",
       "       'smooth-or-featured-gz2_smooth_fraction',\n",
       "       'smooth-or-featured-gz2_featured-or-disk_fraction',\n",
       "       'smooth-or-featured-gz2_artifact_fraction',\n",
       "       'disk-edge-on-gz2_total-votes', 'disk-edge-on-gz2_yes_fraction',\n",
       "       'disk-edge-on-gz2_no_fraction', 'has-spiral-arms-gz2_total-votes',\n",
       "       'has-spiral-arms-gz2_yes_fraction',\n",
       "       'has-spiral-arms-gz2_no_fraction', 'bar-gz2_total-votes',\n",
       "       'bar-gz2_yes_fraction', 'bar-gz2_no_fraction',\n",
       "       'bulge-size-gz2_total-votes', 'bulge-size-gz2_dominant_fraction',\n",
       "       'bulge-size-gz2_obvious_fraction',\n",
       "       'bulge-size-gz2_just-noticeable_fraction',\n",
       "       'bulge-size-gz2_no_fraction', 'something-odd-gz2_total-votes',\n",
       "       'something-odd-gz2_yes_fraction', 'something-odd-gz2_no_fraction',\n",
       "       'how-rounded-gz2_total-votes', 'how-rounded-gz2_round_fraction',\n",
       "       'how-rounded-gz2_in-between_fraction',\n",
       "       'how-rounded-gz2_cigar_fraction', 'bulge-shape-gz2_total-votes',\n",
       "       'bulge-shape-gz2_round_fraction', 'bulge-shape-gz2_boxy_fraction',\n",
       "       'bulge-shape-gz2_no-bulge_fraction',\n",
       "       'spiral-winding-gz2_total-votes',\n",
       "       'spiral-winding-gz2_tight_fraction',\n",
       "       'spiral-winding-gz2_medium_fraction',\n",
       "       'spiral-winding-gz2_loose_fraction',\n",
       "       'spiral-arm-count-gz2_total-votes',\n",
       "       'spiral-arm-count-gz2_1_fraction',\n",
       "       'spiral-arm-count-gz2_2_fraction',\n",
       "       'spiral-arm-count-gz2_3_fraction',\n",
       "       'spiral-arm-count-gz2_4_fraction',\n",
       "       'spiral-arm-count-gz2_more-than-4_fraction',\n",
       "       'spiral-arm-count-gz2_cant-tell_fraction'], dtype=object)"
      ]
     },
     "execution_count": 9,
     "metadata": {},
     "output_type": "execute_result"
    }
   ],
   "source": [
    "df.columns.values"
   ]
  },
  {
   "cell_type": "code",
   "execution_count": null,
   "metadata": {},
   "outputs": [],
   "source": []
  }
 ],
 "metadata": {
  "kernelspec": {
   "display_name": "dev",
   "language": "python",
   "name": "python3"
  },
  "language_info": {
   "codemirror_mode": {
    "name": "ipython",
    "version": 3
   },
   "file_extension": ".py",
   "mimetype": "text/x-python",
   "name": "python",
   "nbconvert_exporter": "python",
   "pygments_lexer": "ipython3",
   "version": "3.8.16"
  },
  "orig_nbformat": 4
 },
 "nbformat": 4,
 "nbformat_minor": 2
}
