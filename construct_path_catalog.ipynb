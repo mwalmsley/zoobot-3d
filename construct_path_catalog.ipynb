{
 "cells": [
  {
   "cell_type": "code",
   "execution_count": 1,
   "metadata": {},
   "outputs": [],
   "source": [
    "import glob\n",
    "import os\n",
    "import pandas as pd\n",
    "import matplotlib.pyplot as plt\n",
    "from astropy.io import fits\n",
    "import numpy as np\n",
    "from PIL import Image\n"
   ]
  },
  {
   "cell_type": "code",
   "execution_count": 2,
   "metadata": {},
   "outputs": [],
   "source": [
    "df = pd.read_csv('/Users/user/repos/zoobot-3d/data/gz3d_and_gz_desi_matches.csv')"
   ]
  },
  {
   "cell_type": "code",
   "execution_count": 3,
   "metadata": {},
   "outputs": [],
   "source": [
    "# df = df[:100]  # debugging mode"
   ]
  },
  {
   "cell_type": "code",
   "execution_count": 4,
   "metadata": {},
   "outputs": [
    {
     "data": {
      "text/plain": [
       "('593252/593252_2670.fits', '593252/593252_2670.jpg')"
      ]
     },
     "execution_count": 4,
     "metadata": {},
     "output_type": "execute_result"
    }
   ],
   "source": [
    "#  '/share/nas2/walml/galaxy_zoo/decals/dr8/fits/'\n",
    "df['galahad_fits_loc'] = df['brickid'].astype(str) + '/' + df['brickid'].astype(str) + '_' + df['objid'].astype(str) + '.fits'\n",
    "\n",
    "\n",
    "#  '/share/nas2/walml/galaxy_zoo/decals/dr8/jpg/'\n",
    "df['galahad_jpg_loc'] = df['brickid'].astype(str) + '/' + df['brickid'].astype(str) + '_' + df['objid'].astype(str) + '.jpg'\n",
    "\n",
    "df['galahad_fits_loc'][0], df['galahad_jpg_loc'][0]"
   ]
  },
  {
   "cell_type": "code",
   "execution_count": 16,
   "metadata": {},
   "outputs": [
    {
     "data": {
      "text/plain": [
       "389903_2553    2\n",
       "517154_288     2\n",
       "571816_559     2\n",
       "429117_822     2\n",
       "490074_127     2\n",
       "              ..\n",
       "482509_1851    1\n",
       "427433_3340    1\n",
       "619690_2699    1\n",
       "343992_4748    1\n",
       "482215_716     1\n",
       "Name: dr8_id, Length: 28994, dtype: int64"
      ]
     },
     "execution_count": 16,
     "metadata": {},
     "output_type": "execute_result"
    }
   ],
   "source": [
    "# df['dr8_id'].value_counts()\n",
    "# TODO drop duplicate matches, temporarily\n",
    "df = df.drop_duplicates(subset='dr8_id', keep='False')"
   ]
  },
  {
   "cell_type": "code",
   "execution_count": 5,
   "metadata": {},
   "outputs": [],
   "source": [
    "with open('data/galahad_fits_to_copy.txt', 'w') as f:\n",
    "    f.write('\\n'.join(df['galahad_fits_loc']))\n",
    "\n",
    "with open('data/galahad_jpg_to_copy.txt', 'w') as f:\n",
    "    f.write('\\n'.join(df['galahad_jpg_loc']))"
   ]
  },
  {
   "cell_type": "code",
   "execution_count": null,
   "metadata": {},
   "outputs": [],
   "source": []
  },
  {
   "cell_type": "code",
   "execution_count": 6,
   "metadata": {},
   "outputs": [],
   "source": [
    "# rsync --files-from data/galahad_fits_to_copy.txt -e 'ssh -A -J walml@external.jb.man.ac.uk' walml@galahad.ast.man.ac.uk:/share/nas2/walml/galaxy_zoo/decals/dr8/fits data/gz_desi/fits"
   ]
  },
  {
   "cell_type": "code",
   "execution_count": 7,
   "metadata": {},
   "outputs": [],
   "source": [
    "# rsync --files-from data/galahad_jpg_to_copy.txt -e 'ssh -A -J walml@external.jb.man.ac.uk' walml@galahad.ast.man.ac.uk:/share/nas2/walml/galaxy_zoo/decals/dr8/jpg data/gz_desi/jpg"
   ]
  },
  {
   "cell_type": "code",
   "execution_count": 8,
   "metadata": {},
   "outputs": [],
   "source": [
    "df['local_desi_fits_loc'] = 'data/desi/fits/' + df['brickid'].astype(str) + '/' + df['brickid'].astype(str) + '_' + df['objid'].astype(str) + '.fits'\n",
    "df['local_desi_jpg_loc'] = 'data/desi/jpg/' + df['brickid'].astype(str) + '/' + df['brickid'].astype(str) + '_' + df['objid'].astype(str) + '.jpg'"
   ]
  },
  {
   "cell_type": "code",
   "execution_count": 9,
   "metadata": {},
   "outputs": [],
   "source": [
    "df['local_json_loc'] = df['local_gz3d_fits_loc'].apply(lambda x: x.replace('/fits_gz/', '/segmaps/marks/').replace('.fits.gz', '.json'))"
   ]
  },
  {
   "cell_type": "code",
   "execution_count": 10,
   "metadata": {},
   "outputs": [],
   "source": [
    "df['local_spiral_mask_loc'] = df['local_gz3d_fits_loc'].apply(lambda x: x.replace('/fits_gz/', '/segmaps/masks/').replace('.fits.gz', '_spiral.jpg'))\n",
    "df['local_bar_mask_loc'] = df['local_gz3d_fits_loc'].apply(lambda x: x.replace('/fits_gz/', '/segmaps/masks/').replace('.fits.gz', '_bar.jpg'))"
   ]
  },
  {
   "cell_type": "code",
   "execution_count": 11,
   "metadata": {},
   "outputs": [
    {
     "data": {
      "text/plain": [
       "'data/gz3d/segmaps/masks/gz3d_1-379196_127_14728482_spiral.jpg'"
      ]
     },
     "execution_count": 11,
     "metadata": {},
     "output_type": "execute_result"
    }
   ],
   "source": [
    "df['local_spiral_mask_loc'][0]"
   ]
  },
  {
   "cell_type": "code",
   "execution_count": 12,
   "metadata": {},
   "outputs": [
    {
     "data": {
      "text/plain": [
       "29005"
      ]
     },
     "execution_count": 12,
     "metadata": {},
     "output_type": "execute_result"
    }
   ],
   "source": [
    "len(df)"
   ]
  },
  {
   "cell_type": "code",
   "execution_count": 13,
   "metadata": {},
   "outputs": [
    {
     "data": {
      "text/plain": [
       "29005"
      ]
     },
     "execution_count": 13,
     "metadata": {},
     "output_type": "execute_result"
    }
   ],
   "source": [
    "df = df[df['local_gz3d_fits_loc'].apply(lambda x: os.path.isfile(x))]\n",
    "len(df)"
   ]
  },
  {
   "cell_type": "code",
   "execution_count": 14,
   "metadata": {},
   "outputs": [
    {
     "ename": "MergeError",
     "evalue": "Merge keys are not unique in left dataset; not a one-to-one merge",
     "output_type": "error",
     "traceback": [
      "\u001b[0;31m---------------------------------------------------------------------------\u001b[0m",
      "\u001b[0;31mMergeError\u001b[0m                                Traceback (most recent call last)",
      "\u001b[1;32m/Users/user/repos/zoobot-3d/construct_path_catalog.ipynb Cell 16\u001b[0m line \u001b[0;36m2\n\u001b[1;32m     <a href='vscode-notebook-cell:/Users/user/repos/zoobot-3d/construct_path_catalog.ipynb#X24sZmlsZQ%3D%3D?line=9'>10</a>\u001b[0m gz_desi \u001b[39m=\u001b[39m pd\u001b[39m.\u001b[39mread_parquet(\n\u001b[1;32m     <a href='vscode-notebook-cell:/Users/user/repos/zoobot-3d/construct_path_catalog.ipynb#X24sZmlsZQ%3D%3D?line=10'>11</a>\u001b[0m     \u001b[39m'\u001b[39m\u001b[39m/Users/user/repos/desi-predictions/results/final/gz_desi_deep_learning_catalog_advanced.parquet\u001b[39m\u001b[39m'\u001b[39m,\n\u001b[1;32m     <a href='vscode-notebook-cell:/Users/user/repos/zoobot-3d/construct_path_catalog.ipynb#X24sZmlsZQ%3D%3D?line=11'>12</a>\u001b[0m     columns\u001b[39m=\u001b[39mcolumns\n\u001b[1;32m     <a href='vscode-notebook-cell:/Users/user/repos/zoobot-3d/construct_path_catalog.ipynb#X24sZmlsZQ%3D%3D?line=12'>13</a>\u001b[0m )\n\u001b[1;32m     <a href='vscode-notebook-cell:/Users/user/repos/zoobot-3d/construct_path_catalog.ipynb#X24sZmlsZQ%3D%3D?line=14'>15</a>\u001b[0m \u001b[39m# apply filtering, optionally\u001b[39;00m\n\u001b[1;32m     <a href='vscode-notebook-cell:/Users/user/repos/zoobot-3d/construct_path_catalog.ipynb#X24sZmlsZQ%3D%3D?line=15'>16</a>\u001b[0m \u001b[39m# gz_desi = gz_desi[gz_desi['smooth-or-featured_featured-or-disk_fraction'] > 0.5]\u001b[39;00m\n\u001b[1;32m     <a href='vscode-notebook-cell:/Users/user/repos/zoobot-3d/construct_path_catalog.ipynb#X24sZmlsZQ%3D%3D?line=16'>17</a>\u001b[0m \u001b[39m# gz_desi = gz_desi[gz_desi['has-spiral-arms_yes_fraction'] > 0.5]\u001b[39;00m\n\u001b[1;32m     <a href='vscode-notebook-cell:/Users/user/repos/zoobot-3d/construct_path_catalog.ipynb#X24sZmlsZQ%3D%3D?line=17'>18</a>\u001b[0m \u001b[39m# gz_desi = gz_desi[gz_desi['spiral-arm-count_2_fraction'] > 0.3]\u001b[39;00m\n\u001b[0;32m---> <a href='vscode-notebook-cell:/Users/user/repos/zoobot-3d/construct_path_catalog.ipynb#X24sZmlsZQ%3D%3D?line=19'>20</a>\u001b[0m df \u001b[39m=\u001b[39m pd\u001b[39m.\u001b[39;49mmerge(df, gz_desi, on\u001b[39m=\u001b[39;49m\u001b[39m'\u001b[39;49m\u001b[39mdr8_id\u001b[39;49m\u001b[39m'\u001b[39;49m, validate\u001b[39m=\u001b[39;49m\u001b[39m'\u001b[39;49m\u001b[39mone_to_one\u001b[39;49m\u001b[39m'\u001b[39;49m, how\u001b[39m=\u001b[39;49m\u001b[39m'\u001b[39;49m\u001b[39minner\u001b[39;49m\u001b[39m'\u001b[39;49m)\n",
      "File \u001b[0;32m~/mambaforge/envs/dev/lib/python3.8/site-packages/pandas/core/reshape/merge.py:110\u001b[0m, in \u001b[0;36mmerge\u001b[0;34m(left, right, how, on, left_on, right_on, left_index, right_index, sort, suffixes, copy, indicator, validate)\u001b[0m\n\u001b[1;32m     93\u001b[0m \u001b[39m@Substitution\u001b[39m(\u001b[39m\"\u001b[39m\u001b[39m\\n\u001b[39;00m\u001b[39mleft : DataFrame or named Series\u001b[39m\u001b[39m\"\u001b[39m)\n\u001b[1;32m     94\u001b[0m \u001b[39m@Appender\u001b[39m(_merge_doc, indents\u001b[39m=\u001b[39m\u001b[39m0\u001b[39m)\n\u001b[1;32m     95\u001b[0m \u001b[39mdef\u001b[39;00m \u001b[39mmerge\u001b[39m(\n\u001b[0;32m   (...)\u001b[0m\n\u001b[1;32m    108\u001b[0m     validate: \u001b[39mstr\u001b[39m \u001b[39m|\u001b[39m \u001b[39mNone\u001b[39;00m \u001b[39m=\u001b[39m \u001b[39mNone\u001b[39;00m,\n\u001b[1;32m    109\u001b[0m ) \u001b[39m-\u001b[39m\u001b[39m>\u001b[39m DataFrame:\n\u001b[0;32m--> 110\u001b[0m     op \u001b[39m=\u001b[39m _MergeOperation(\n\u001b[1;32m    111\u001b[0m         left,\n\u001b[1;32m    112\u001b[0m         right,\n\u001b[1;32m    113\u001b[0m         how\u001b[39m=\u001b[39;49mhow,\n\u001b[1;32m    114\u001b[0m         on\u001b[39m=\u001b[39;49mon,\n\u001b[1;32m    115\u001b[0m         left_on\u001b[39m=\u001b[39;49mleft_on,\n\u001b[1;32m    116\u001b[0m         right_on\u001b[39m=\u001b[39;49mright_on,\n\u001b[1;32m    117\u001b[0m         left_index\u001b[39m=\u001b[39;49mleft_index,\n\u001b[1;32m    118\u001b[0m         right_index\u001b[39m=\u001b[39;49mright_index,\n\u001b[1;32m    119\u001b[0m         sort\u001b[39m=\u001b[39;49msort,\n\u001b[1;32m    120\u001b[0m         suffixes\u001b[39m=\u001b[39;49msuffixes,\n\u001b[1;32m    121\u001b[0m         indicator\u001b[39m=\u001b[39;49mindicator,\n\u001b[1;32m    122\u001b[0m         validate\u001b[39m=\u001b[39;49mvalidate,\n\u001b[1;32m    123\u001b[0m     )\n\u001b[1;32m    124\u001b[0m     \u001b[39mreturn\u001b[39;00m op\u001b[39m.\u001b[39mget_result(copy\u001b[39m=\u001b[39mcopy)\n",
      "File \u001b[0;32m~/mambaforge/envs/dev/lib/python3.8/site-packages/pandas/core/reshape/merge.py:713\u001b[0m, in \u001b[0;36m_MergeOperation.__init__\u001b[0;34m(self, left, right, how, on, left_on, right_on, axis, left_index, right_index, sort, suffixes, indicator, validate)\u001b[0m\n\u001b[1;32m    709\u001b[0m \u001b[39m# If argument passed to validate,\u001b[39;00m\n\u001b[1;32m    710\u001b[0m \u001b[39m# check if columns specified as unique\u001b[39;00m\n\u001b[1;32m    711\u001b[0m \u001b[39m# are in fact unique.\u001b[39;00m\n\u001b[1;32m    712\u001b[0m \u001b[39mif\u001b[39;00m validate \u001b[39mis\u001b[39;00m \u001b[39mnot\u001b[39;00m \u001b[39mNone\u001b[39;00m:\n\u001b[0;32m--> 713\u001b[0m     \u001b[39mself\u001b[39;49m\u001b[39m.\u001b[39;49m_validate(validate)\n",
      "File \u001b[0;32m~/mambaforge/envs/dev/lib/python3.8/site-packages/pandas/core/reshape/merge.py:1515\u001b[0m, in \u001b[0;36m_MergeOperation._validate\u001b[0;34m(self, validate)\u001b[0m\n\u001b[1;32m   1510\u001b[0m     \u001b[39mraise\u001b[39;00m MergeError(\n\u001b[1;32m   1511\u001b[0m         \u001b[39m\"\u001b[39m\u001b[39mMerge keys are not unique in either left \u001b[39m\u001b[39m\"\u001b[39m\n\u001b[1;32m   1512\u001b[0m         \u001b[39m\"\u001b[39m\u001b[39mor right dataset; not a one-to-one merge\u001b[39m\u001b[39m\"\u001b[39m\n\u001b[1;32m   1513\u001b[0m     )\n\u001b[1;32m   1514\u001b[0m \u001b[39melif\u001b[39;00m \u001b[39mnot\u001b[39;00m left_unique:\n\u001b[0;32m-> 1515\u001b[0m     \u001b[39mraise\u001b[39;00m MergeError(\n\u001b[1;32m   1516\u001b[0m         \u001b[39m\"\u001b[39m\u001b[39mMerge keys are not unique in left dataset; not a one-to-one merge\u001b[39m\u001b[39m\"\u001b[39m\n\u001b[1;32m   1517\u001b[0m     )\n\u001b[1;32m   1518\u001b[0m \u001b[39melif\u001b[39;00m \u001b[39mnot\u001b[39;00m right_unique:\n\u001b[1;32m   1519\u001b[0m     \u001b[39mraise\u001b[39;00m MergeError(\n\u001b[1;32m   1520\u001b[0m         \u001b[39m\"\u001b[39m\u001b[39mMerge keys are not unique in right dataset; not a one-to-one merge\u001b[39m\u001b[39m\"\u001b[39m\n\u001b[1;32m   1521\u001b[0m     )\n",
      "\u001b[0;31mMergeError\u001b[0m: Merge keys are not unique in left dataset; not a one-to-one merge"
     ]
    }
   ],
   "source": [
    "# add GZ DESI votes\n",
    "\n",
    "columns = [\n",
    "    'dr8_id',\n",
    "    'smooth-or-featured_featured-or-disk_fraction',\n",
    "    'disk-edge-on_yes_fraction',\n",
    "    'has-spiral-arms_yes_fraction',\n",
    "    'spiral-arm-count_2_fraction'\n",
    "]\n",
    "gz_desi = pd.read_parquet(\n",
    "    '/Users/user/repos/desi-predictions/results/final/gz_desi_deep_learning_catalog_advanced.parquet',\n",
    "    columns=columns\n",
    ")\n",
    "\n",
    "# apply filtering, optionally\n",
    "# gz_desi = gz_desi[gz_desi['smooth-or-featured_featured-or-disk_fraction'] > 0.5]\n",
    "# gz_desi = gz_desi[gz_desi['has-spiral-arms_yes_fraction'] > 0.5]\n",
    "# gz_desi = gz_desi[gz_desi['spiral-arm-count_2_fraction'] > 0.3]\n",
    "\n",
    "df = pd.merge(df, gz_desi, on='dr8_id', validate='one_to_one', how='inner')"
   ]
  },
  {
   "cell_type": "code",
   "execution_count": null,
   "metadata": {},
   "outputs": [],
   "source": [
    "df.to_csv('data/gz3d_and_gz_desi_master_catalog.csv', index=False)"
   ]
  },
  {
   "cell_type": "code",
   "execution_count": null,
   "metadata": {},
   "outputs": [],
   "source": []
  }
 ],
 "metadata": {
  "kernelspec": {
   "display_name": "dev",
   "language": "python",
   "name": "python3"
  },
  "language_info": {
   "codemirror_mode": {
    "name": "ipython",
    "version": 3
   },
   "file_extension": ".py",
   "mimetype": "text/x-python",
   "name": "python",
   "nbconvert_exporter": "python",
   "pygments_lexer": "ipython3",
   "version": "3.8.16"
  },
  "orig_nbformat": 4
 },
 "nbformat": 4,
 "nbformat_minor": 2
}
