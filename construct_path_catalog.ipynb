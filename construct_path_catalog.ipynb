{
 "cells": [
  {
   "cell_type": "code",
   "execution_count": 165,
   "metadata": {},
   "outputs": [],
   "source": [
    "import glob\n",
    "import os\n",
    "import pandas as pd\n",
    "import matplotlib.pyplot as plt\n",
    "from astropy.io import fits\n",
    "import numpy as np\n",
    "from PIL import Image\n"
   ]
  },
  {
   "cell_type": "code",
   "execution_count": 166,
   "metadata": {},
   "outputs": [],
   "source": [
    "df = pd.read_csv('/Users/user/repos/zoobot-3d/data/gz3d_and_gz_desi_matches.csv')"
   ]
  },
  {
   "cell_type": "code",
   "execution_count": 167,
   "metadata": {},
   "outputs": [],
   "source": [
    "# df = df[:100]  # debugging mode"
   ]
  },
  {
   "cell_type": "code",
   "execution_count": 168,
   "metadata": {},
   "outputs": [
    {
     "data": {
      "text/plain": [
       "('593252/593252_2670.fits', '593252/593252_2670.jpg')"
      ]
     },
     "execution_count": 168,
     "metadata": {},
     "output_type": "execute_result"
    }
   ],
   "source": [
    "#  '/share/nas2/walml/galaxy_zoo/decals/dr8/fits/'\n",
    "df['galahad_fits_loc'] = df['brickid'].astype(str) + '/' + df['brickid'].astype(str) + '_' + df['objid'].astype(str) + '.fits'\n",
    "\n",
    "\n",
    "#  '/share/nas2/walml/galaxy_zoo/decals/dr8/jpg/'\n",
    "df['galahad_jpg_loc'] = df['brickid'].astype(str) + '/' + df['brickid'].astype(str) + '_' + df['objid'].astype(str) + '.jpg'\n",
    "\n",
    "df['galahad_fits_loc'][0], df['galahad_jpg_loc'][0]"
   ]
  },
  {
   "cell_type": "code",
   "execution_count": 169,
   "metadata": {},
   "outputs": [],
   "source": [
    "# df['dr8_id'].value_counts()\n",
    "# TODO drop duplicate matches, temporarily\n",
    "df = df.drop_duplicates(subset='dr8_id', keep=False)"
   ]
  },
  {
   "cell_type": "code",
   "execution_count": 170,
   "metadata": {},
   "outputs": [],
   "source": [
    "with open('data/galahad_fits_to_copy.txt', 'w') as f:\n",
    "    f.write('\\n'.join(df['galahad_fits_loc']))\n",
    "\n",
    "with open('data/galahad_jpg_to_copy.txt', 'w') as f:\n",
    "    f.write('\\n'.join(df['galahad_jpg_loc']))"
   ]
  },
  {
   "cell_type": "code",
   "execution_count": null,
   "metadata": {},
   "outputs": [],
   "source": []
  },
  {
   "cell_type": "code",
   "execution_count": 171,
   "metadata": {},
   "outputs": [],
   "source": [
    "# rsync --files-from data/galahad_fits_to_copy.txt -e 'ssh -A -J walml@external.jb.man.ac.uk' walml@galahad.ast.man.ac.uk:/share/nas2/walml/galaxy_zoo/decals/dr8/fits data/gz_desi/fits"
   ]
  },
  {
   "cell_type": "code",
   "execution_count": 172,
   "metadata": {},
   "outputs": [],
   "source": [
    "# rsync --files-from data/galahad_jpg_to_copy.txt -e 'ssh -A -J walml@external.jb.man.ac.uk' walml@galahad.ast.man.ac.uk:/share/nas2/walml/galaxy_zoo/decals/dr8/jpg data/gz_desi/jpg"
   ]
  },
  {
   "cell_type": "code",
   "execution_count": 173,
   "metadata": {},
   "outputs": [],
   "source": [
    "df['relative_desi_fits_loc'] = 'data/desi/fits/' + df['brickid'].astype(str) + '/' + df['brickid'].astype(str) + '_' + df['objid'].astype(str) + '.fits'\n",
    "df['relative_desi_jpg_loc'] = 'data/desi/jpg/' + df['brickid'].astype(str) + '/' + df['brickid'].astype(str) + '_' + df['objid'].astype(str) + '.jpg'"
   ]
  },
  {
   "cell_type": "code",
   "execution_count": 174,
   "metadata": {},
   "outputs": [],
   "source": [
    "df['relative_segmap_json_loc'] = df['relative_gz3d_fits_loc'].str.replace('/fits_gz/', '/segmaps/', regex=False).str.replace('.fits.gz', '.json', regex=False)"
   ]
  },
  {
   "cell_type": "code",
   "execution_count": 175,
   "metadata": {},
   "outputs": [],
   "source": [
    "df['relative_spiral_mask_loc'] = df['relative_gz3d_fits_loc'].apply(lambda x: x.replace('/fits_gz/', '/segmaps/masks/').replace('.fits.gz', '_spiral.jpg'))\n",
    "df['relative_bar_mask_loc'] = df['relative_gz3d_fits_loc'].apply(lambda x: x.replace('/fits_gz/', '/segmaps/masks/').replace('.fits.gz', '_bar.jpg'))"
   ]
  },
  {
   "cell_type": "code",
   "execution_count": 176,
   "metadata": {},
   "outputs": [
    {
     "data": {
      "text/plain": [
       "'data/gz3d/segmaps/masks/gz3d_1-379196_127_14728482_spiral.jpg'"
      ]
     },
     "execution_count": 176,
     "metadata": {},
     "output_type": "execute_result"
    }
   ],
   "source": [
    "df['relative_spiral_mask_loc'][0]"
   ]
  },
  {
   "cell_type": "code",
   "execution_count": 177,
   "metadata": {},
   "outputs": [
    {
     "data": {
      "text/plain": [
       "28983"
      ]
     },
     "execution_count": 177,
     "metadata": {},
     "output_type": "execute_result"
    }
   ],
   "source": [
    "len(df)"
   ]
  },
  {
   "cell_type": "code",
   "execution_count": 178,
   "metadata": {},
   "outputs": [
    {
     "data": {
      "text/plain": [
       "28983"
      ]
     },
     "execution_count": 178,
     "metadata": {},
     "output_type": "execute_result"
    }
   ],
   "source": [
    "df = df[df['relative_gz3d_fits_loc'].apply(lambda x: os.path.isfile(x))]\n",
    "len(df)"
   ]
  },
  {
   "cell_type": "code",
   "execution_count": 179,
   "metadata": {},
   "outputs": [],
   "source": [
    "# add GZ DESI votes themselves\n",
    "\n",
    "from zoobot.shared.schemas import decals_all_campaigns_ortho_schema\n",
    "\n",
    "desi_vote_locs = [\n",
    "    '/Volumes/beta/galaxy_zoo/decals/dr8/catalogs/training_catalogs/dr12_ortho_v5_labelled_catalog.parquet',\n",
    "    '/Volumes/beta/galaxy_zoo/decals/dr8/catalogs/training_catalogs/dr5_ortho_v5_labelled_catalog.parquet',\n",
    "    '/Volumes/beta/galaxy_zoo/decals/dr8/catalogs/training_catalogs/dr8_ortho_v5_labelled_catalog.parquet',\n",
    "]\n",
    "\n",
    "columns = [\n",
    "    'dr8_id',\n",
    "] + decals_all_campaigns_ortho_schema.label_cols\n",
    "gz_desi_votes = pd.concat([pd.read_parquet(loc, columns=columns) for loc in desi_vote_locs])\n",
    "\n",
    "df = pd.merge(df, gz_desi_votes, on='dr8_id', validate='one_to_one', how='outer')\n",
    "# left, because some have no votes (about half, 14k of 29k have votes)\n",
    "# now outer, because we want to learn to classify as usual\n",
    "df[decals_all_campaigns_ortho_schema.label_cols] = df[decals_all_campaigns_ortho_schema.label_cols].fillna(0)\n",
    "\n",
    "# TODO could also add GZ2 votes\n"
   ]
  },
  {
   "cell_type": "code",
   "execution_count": 180,
   "metadata": {},
   "outputs": [],
   "source": [
    "# add GZ DESI vote predictions (just for filtering)\n",
    "\n",
    "columns = [\n",
    "    'dr8_id',\n",
    "    'smooth-or-featured_featured-or-disk_fraction',\n",
    "    'disk-edge-on_yes_fraction',\n",
    "    'has-spiral-arms_yes_fraction',\n",
    "    'spiral-arm-count_2_fraction'\n",
    "]\n",
    "gz_desi_preds = pd.read_parquet(\n",
    "    '/Users/user/repos/desi-predictions/results/final/gz_desi_deep_learning_catalog_advanced.parquet',\n",
    "    columns=columns\n",
    ")"
   ]
  },
  {
   "cell_type": "code",
   "execution_count": 181,
   "metadata": {},
   "outputs": [],
   "source": [
    "gz_desi_preds['brickid'] = gz_desi_preds['dr8_id'].apply(lambda x: x.split('_')[0])\n",
    "gz_desi_preds['objid'] = gz_desi_preds['dr8_id'].apply(lambda x: x.split('_')[1])\n"
   ]
  },
  {
   "cell_type": "code",
   "execution_count": 182,
   "metadata": {},
   "outputs": [],
   "source": [
    "del df['brickid']\n",
    "del df['objid']\n",
    "df = pd.merge(df, gz_desi_preds, on='dr8_id', validate='one_to_one', how='inner')"
   ]
  },
  {
   "cell_type": "code",
   "execution_count": 183,
   "metadata": {},
   "outputs": [
    {
     "data": {
      "text/plain": [
       "(0, 0)"
      ]
     },
     "execution_count": 183,
     "metadata": {},
     "output_type": "execute_result"
    }
   ],
   "source": [
    "df['smooth-or-featured_featured-or-disk_fraction'].isna().sum(), df['brickid'].isna().sum()"
   ]
  },
  {
   "cell_type": "code",
   "execution_count": 184,
   "metadata": {},
   "outputs": [
    {
     "data": {
      "text/plain": [
       "415591"
      ]
     },
     "execution_count": 184,
     "metadata": {},
     "output_type": "execute_result"
    }
   ],
   "source": [
    "len(df)"
   ]
  },
  {
   "cell_type": "code",
   "execution_count": 185,
   "metadata": {},
   "outputs": [
    {
     "data": {
      "text/plain": [
       "'/share/nas2/walml/galaxy_zoo/decals/dr8/jpg/593252/593252_2670.jpg'"
      ]
     },
     "execution_count": 185,
     "metadata": {},
     "output_type": "execute_result"
    }
   ],
   "source": [
    "df['galahad_jpg_loc'] = '/share/nas2/walml/galaxy_zoo/decals/dr8/jpg/' + df['brickid'].astype(str) + '/' + df['brickid'].astype(str) + '_' + df['objid'].astype(str) + '.jpg'\n",
    "df['galahad_jpg_loc'].iloc[0]"
   ]
  },
  {
   "cell_type": "code",
   "execution_count": 186,
   "metadata": {},
   "outputs": [],
   "source": [
    "df['relative_spiral_mask_loc'] = df['relative_spiral_mask_loc'].fillna('')\n",
    "df['relative_bar_mask_loc'] = df['relative_bar_mask_loc'].fillna('')"
   ]
  },
  {
   "cell_type": "code",
   "execution_count": 187,
   "metadata": {},
   "outputs": [
    {
     "data": {
      "text/plain": [
       "1.0"
      ]
     },
     "execution_count": 187,
     "metadata": {},
     "output_type": "execute_result"
    }
   ],
   "source": [
    "((df['relative_spiral_mask_loc'].str.startswith('data/gz3d/segmaps/masks/')) | (df['relative_spiral_mask_loc'] == '')).mean()"
   ]
  },
  {
   "cell_type": "code",
   "execution_count": 188,
   "metadata": {},
   "outputs": [],
   "source": [
    "df['relative_spiral_mask_loc'] = df['relative_spiral_mask_loc'].astype(str)\n",
    "df['relative_bar_mask_loc'] = df['relative_bar_mask_loc'].astype(str)"
   ]
  },
  {
   "cell_type": "code",
   "execution_count": 189,
   "metadata": {},
   "outputs": [],
   "source": [
    "df.to_parquet('data/gz3d_and_gz_desi_master_catalog.parquet', index=False)"
   ]
  },
  {
   "cell_type": "code",
   "execution_count": null,
   "metadata": {},
   "outputs": [],
   "source": []
  }
 ],
 "metadata": {
  "kernelspec": {
   "display_name": "dev",
   "language": "python",
   "name": "python3"
  },
  "language_info": {
   "codemirror_mode": {
    "name": "ipython",
    "version": 3
   },
   "file_extension": ".py",
   "mimetype": "text/x-python",
   "name": "python",
   "nbconvert_exporter": "python",
   "pygments_lexer": "ipython3",
   "version": "3.8.16"
  },
  "orig_nbformat": 4
 },
 "nbformat": 4,
 "nbformat_minor": 2
}
