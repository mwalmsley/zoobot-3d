{
 "cells": [
  {
   "cell_type": "code",
   "execution_count": 50,
   "metadata": {},
   "outputs": [],
   "source": [
    "import os\n",
    "import pandas as pd\n",
    "\n",
    "from galaxy_datasets.shared import label_metadata"
   ]
  },
  {
   "cell_type": "code",
   "execution_count": 51,
   "metadata": {},
   "outputs": [],
   "source": [
    "df = pd.read_csv('data/gz3d_and_gz_desi_matches.csv')"
   ]
  },
  {
   "cell_type": "code",
   "execution_count": 52,
   "metadata": {},
   "outputs": [
    {
     "data": {
      "text/plain": [
       "('593252/593252_2670.fits', '593252/593252_2670.jpg')"
      ]
     },
     "execution_count": 52,
     "metadata": {},
     "output_type": "execute_result"
    }
   ],
   "source": [
    "#  '/share/nas2/walml/galaxy_zoo/decals/dr8/fits/'\n",
    "df['galahad_fits_loc'] = df['brickid'].astype(str) + '/' + df['brickid'].astype(str) + '_' + df['objid'].astype(str) + '.fits'\n",
    "\n",
    "\n",
    "#  '/share/nas2/walml/galaxy_zoo/decals/dr8/jpg/'\n",
    "df['galahad_jpg_loc'] = df['brickid'].astype(str) + '/' + df['brickid'].astype(str) + '_' + df['objid'].astype(str) + '.jpg'\n",
    "\n",
    "df['galahad_fits_loc'][0], df['galahad_jpg_loc'][0]"
   ]
  },
  {
   "cell_type": "code",
   "execution_count": 53,
   "metadata": {},
   "outputs": [],
   "source": [
    "# df['dr8_id'].value_counts()\n",
    "# TODO drop duplicate matches, temporarily\n",
    "df = df.drop_duplicates(subset='dr8_id', keep=False)"
   ]
  },
  {
   "cell_type": "code",
   "execution_count": 54,
   "metadata": {},
   "outputs": [],
   "source": [
    "# with open('data/galahad_fits_to_copy.txt', 'w') as f:\n",
    "#     f.write('\\n'.join(df['galahad_fits_loc']))\n",
    "\n",
    "# with open('data/galahad_jpg_to_copy.txt', 'w') as f:\n",
    "#     f.write('\\n'.join(df['galahad_jpg_loc']))"
   ]
  },
  {
   "cell_type": "code",
   "execution_count": null,
   "metadata": {},
   "outputs": [],
   "source": []
  },
  {
   "cell_type": "code",
   "execution_count": 55,
   "metadata": {},
   "outputs": [],
   "source": [
    "# rsync --files-from data/galahad_fits_to_copy.txt -e 'ssh -A -J walml@external.jb.man.ac.uk' walml@galahad.ast.man.ac.uk:/share/nas2/walml/galaxy_zoo/decals/dr8/fits data/gz_desi/fits"
   ]
  },
  {
   "cell_type": "code",
   "execution_count": 56,
   "metadata": {},
   "outputs": [],
   "source": [
    "# rsync --files-from data/galahad_jpg_to_copy.txt -e 'ssh -A -J walml@external.jb.man.ac.uk' walml@galahad.ast.man.ac.uk:/share/nas2/walml/galaxy_zoo/decals/dr8/jpg data/gz_desi/jpg"
   ]
  },
  {
   "cell_type": "code",
   "execution_count": 57,
   "metadata": {},
   "outputs": [],
   "source": [
    "df['relative_desi_fits_loc'] = 'data/desi/fits/' + df['brickid'].astype(str) + '/' + df['brickid'].astype(str) + '_' + df['objid'].astype(str) + '.fits'\n",
    "df['relative_desi_jpg_loc'] = 'data/desi/jpg/' + df['brickid'].astype(str) + '/' + df['brickid'].astype(str) + '_' + df['objid'].astype(str) + '.jpg'"
   ]
  },
  {
   "cell_type": "code",
   "execution_count": 58,
   "metadata": {},
   "outputs": [],
   "source": [
    "df['relative_segmap_json_loc'] = df['relative_gz3d_fits_loc'].str.replace('/fits_gz/', '/segmaps/marks/', regex=False).str.replace('.fits.gz', '.json', regex=False)"
   ]
  },
  {
   "cell_type": "code",
   "execution_count": 59,
   "metadata": {},
   "outputs": [],
   "source": [
    "df['relative_spiral_mask_loc'] = df['relative_gz3d_fits_loc'].apply(lambda x: x.replace('/fits_gz/', '/segmaps/masks_constnorm/').replace('.fits.gz', '_spiral.jpg'))\n",
    "df['relative_bar_mask_loc'] = df['relative_gz3d_fits_loc'].apply(lambda x: x.replace('/fits_gz/', '/segmaps/masks_constnorm/').replace('.fits.gz', '_bar.jpg'))"
   ]
  },
  {
   "cell_type": "code",
   "execution_count": 60,
   "metadata": {},
   "outputs": [
    {
     "data": {
      "text/plain": [
       "'data/gz3d/segmaps/masks_constnorm/gz3d_1-379196_127_14728482_spiral.jpg'"
      ]
     },
     "execution_count": 60,
     "metadata": {},
     "output_type": "execute_result"
    }
   ],
   "source": [
    "df['relative_spiral_mask_loc'][0]"
   ]
  },
  {
   "cell_type": "code",
   "execution_count": 61,
   "metadata": {},
   "outputs": [
    {
     "data": {
      "text/plain": [
       "28983"
      ]
     },
     "execution_count": 61,
     "metadata": {},
     "output_type": "execute_result"
    }
   ],
   "source": [
    "len(df)"
   ]
  },
  {
   "cell_type": "code",
   "execution_count": 62,
   "metadata": {},
   "outputs": [
    {
     "data": {
      "text/plain": [
       "28983"
      ]
     },
     "execution_count": 62,
     "metadata": {},
     "output_type": "execute_result"
    }
   ],
   "source": [
    "df = df[df['relative_gz3d_fits_loc'].apply(lambda x: os.path.isfile(x))]\n",
    "len(df)"
   ]
  },
  {
   "cell_type": "code",
   "execution_count": 63,
   "metadata": {},
   "outputs": [],
   "source": [
    "# add GZ DESI votes themselves\n",
    "\n",
    "\n",
    "\n",
    "\n",
    "desi_vote_locs = [\n",
    "    '/Volumes/beta/galaxy_zoo/decals/dr8/catalogs/training_catalogs/dr12_ortho_v5_labelled_catalog.parquet',\n",
    "    '/Volumes/beta/galaxy_zoo/decals/dr8/catalogs/training_catalogs/dr5_ortho_v5_labelled_catalog.parquet',\n",
    "    '/Volumes/beta/galaxy_zoo/decals/dr8/catalogs/training_catalogs/dr8_ortho_v5_labelled_catalog.parquet',\n",
    "]\n",
    "\n",
    "columns = [\n",
    "    'dr8_id',\n",
    "] + label_metadata.decals_all_campaigns_ortho_label_cols\n",
    "gz_desi_votes = pd.concat([pd.read_parquet(loc, columns=columns) for loc in desi_vote_locs])\n",
    "\n",
    "df = pd.merge(df, gz_desi_votes, on='dr8_id', validate='one_to_one', how='outer')\n",
    "# left, because some have no votes (about half, 14k of 29k have votes)\n",
    "# now outer, because we want to learn to classify as usual\n",
    "df[label_metadata.decals_all_campaigns_ortho_label_cols] = df[label_metadata.decals_all_campaigns_ortho_label_cols].fillna(0)\n",
    "\n"
   ]
  },
  {
   "cell_type": "code",
   "execution_count": 64,
   "metadata": {},
   "outputs": [],
   "source": [
    "# add GZ DESI vote predictions (just for filtering)\n",
    "\n",
    "columns = [\n",
    "    'dr8_id',\n",
    "    'smooth-or-featured_featured-or-disk_fraction',\n",
    "    'disk-edge-on_yes_fraction',\n",
    "    'has-spiral-arms_yes_fraction',\n",
    "    'spiral-arm-count_2_fraction'\n",
    "]\n",
    "gz_desi_preds = pd.read_parquet(\n",
    "    '/Users/user/repos/desi-predictions/results/final/gz_desi_deep_learning_catalog_advanced.parquet',\n",
    "    columns=columns\n",
    ")"
   ]
  },
  {
   "cell_type": "code",
   "execution_count": 65,
   "metadata": {},
   "outputs": [],
   "source": [
    "gz_desi_preds['brickid'] = gz_desi_preds['dr8_id'].apply(lambda x: x.split('_')[0])\n",
    "gz_desi_preds['objid'] = gz_desi_preds['dr8_id'].apply(lambda x: x.split('_')[1])\n"
   ]
  },
  {
   "cell_type": "code",
   "execution_count": 66,
   "metadata": {},
   "outputs": [],
   "source": [
    "del df['brickid']\n",
    "del df['objid']\n",
    "df = pd.merge(df, gz_desi_preds, on='dr8_id', validate='one_to_one', how='inner')"
   ]
  },
  {
   "cell_type": "code",
   "execution_count": 67,
   "metadata": {},
   "outputs": [
    {
     "data": {
      "text/plain": [
       "(0, 0)"
      ]
     },
     "execution_count": 67,
     "metadata": {},
     "output_type": "execute_result"
    }
   ],
   "source": [
    "df['smooth-or-featured_featured-or-disk_fraction'].isna().sum(), df['brickid'].isna().sum()"
   ]
  },
  {
   "cell_type": "code",
   "execution_count": 68,
   "metadata": {},
   "outputs": [
    {
     "data": {
      "text/plain": [
       "415591"
      ]
     },
     "execution_count": 68,
     "metadata": {},
     "output_type": "execute_result"
    }
   ],
   "source": [
    "len(df)"
   ]
  },
  {
   "cell_type": "code",
   "execution_count": 69,
   "metadata": {},
   "outputs": [
    {
     "data": {
      "text/plain": [
       "'/share/nas2/walml/galaxy_zoo/decals/dr8/jpg/593252/593252_2670.jpg'"
      ]
     },
     "execution_count": 69,
     "metadata": {},
     "output_type": "execute_result"
    }
   ],
   "source": [
    "df['galahad_jpg_loc'] = '/share/nas2/walml/galaxy_zoo/decals/dr8/jpg/' + df['brickid'].astype(str) + '/' + df['brickid'].astype(str) + '_' + df['objid'].astype(str) + '.jpg'\n",
    "df['galahad_jpg_loc'].iloc[0]"
   ]
  },
  {
   "cell_type": "code",
   "execution_count": 70,
   "metadata": {},
   "outputs": [],
   "source": [
    "df['relative_spiral_mask_loc'] = df['relative_spiral_mask_loc'].fillna('')\n",
    "df['relative_bar_mask_loc'] = df['relative_bar_mask_loc'].fillna('')"
   ]
  },
  {
   "cell_type": "code",
   "execution_count": 71,
   "metadata": {},
   "outputs": [
    {
     "data": {
      "text/plain": [
       "0.930260761181065"
      ]
     },
     "execution_count": 71,
     "metadata": {},
     "output_type": "execute_result"
    }
   ],
   "source": [
    "((df['relative_spiral_mask_loc'].str.startswith('data/gz3d/segmaps/masks/')) | (df['relative_spiral_mask_loc'] == '')).mean()"
   ]
  },
  {
   "cell_type": "code",
   "execution_count": 72,
   "metadata": {},
   "outputs": [],
   "source": [
    "df['relative_spiral_mask_loc'] = df['relative_spiral_mask_loc'].astype(str)\n",
    "df['relative_bar_mask_loc'] = df['relative_bar_mask_loc'].astype(str)"
   ]
  },
  {
   "cell_type": "code",
   "execution_count": 73,
   "metadata": {},
   "outputs": [],
   "source": [
    "# df.to_parquet('data/gz3d_and_gz_desi_master_catalog.parquet', index=False)"
   ]
  },
  {
   "cell_type": "code",
   "execution_count": 74,
   "metadata": {},
   "outputs": [],
   "source": [
    "# df = pd.read_parquet('data/gz3d_and_gz_desi_master_catalog.parquet')"
   ]
  },
  {
   "cell_type": "code",
   "execution_count": 75,
   "metadata": {},
   "outputs": [
    {
     "data": {
      "text/plain": [
       "array(['dr7objid', 'ra_gz2', 'dec_gz2', 'smooth-or-featured-gz2_smooth',\n",
       "       'smooth-or-featured-gz2_featured-or-disk',\n",
       "       'smooth-or-featured-gz2_artifact', 'disk-edge-on-gz2_yes',\n",
       "       'disk-edge-on-gz2_no', 'bar-gz2_yes', 'bar-gz2_no',\n",
       "       'has-spiral-arms-gz2_yes', 'has-spiral-arms-gz2_no',\n",
       "       'bulge-size-gz2_no', 'bulge-size-gz2_just-noticeable',\n",
       "       'bulge-size-gz2_obvious', 'bulge-size-gz2_dominant',\n",
       "       'something-odd-gz2_yes', 'something-odd-gz2_no',\n",
       "       'how-rounded-gz2_round', 'how-rounded-gz2_in-between',\n",
       "       'how-rounded-gz2_cigar', 'bulge-shape-gz2_round',\n",
       "       'bulge-shape-gz2_boxy', 'bulge-shape-gz2_no-bulge',\n",
       "       'spiral-winding-gz2_tight', 'spiral-winding-gz2_medium',\n",
       "       'spiral-winding-gz2_loose', 'spiral-arm-count-gz2_1',\n",
       "       'spiral-arm-count-gz2_2', 'spiral-arm-count-gz2_3',\n",
       "       'spiral-arm-count-gz2_4', 'spiral-arm-count-gz2_more-than-4',\n",
       "       'spiral-arm-count-gz2_cant-tell',\n",
       "       'smooth-or-featured-gz2_total-votes',\n",
       "       'smooth-or-featured-gz2_smooth_fraction',\n",
       "       'smooth-or-featured-gz2_featured-or-disk_fraction',\n",
       "       'smooth-or-featured-gz2_artifact_fraction',\n",
       "       'disk-edge-on-gz2_total-votes', 'disk-edge-on-gz2_yes_fraction',\n",
       "       'disk-edge-on-gz2_no_fraction', 'has-spiral-arms-gz2_total-votes',\n",
       "       'has-spiral-arms-gz2_yes_fraction',\n",
       "       'has-spiral-arms-gz2_no_fraction', 'bar-gz2_total-votes',\n",
       "       'bar-gz2_yes_fraction', 'bar-gz2_no_fraction',\n",
       "       'bulge-size-gz2_total-votes', 'bulge-size-gz2_dominant_fraction',\n",
       "       'bulge-size-gz2_obvious_fraction',\n",
       "       'bulge-size-gz2_just-noticeable_fraction',\n",
       "       'bulge-size-gz2_no_fraction', 'something-odd-gz2_total-votes',\n",
       "       'something-odd-gz2_yes_fraction', 'something-odd-gz2_no_fraction',\n",
       "       'how-rounded-gz2_total-votes', 'how-rounded-gz2_round_fraction',\n",
       "       'how-rounded-gz2_in-between_fraction',\n",
       "       'how-rounded-gz2_cigar_fraction', 'bulge-shape-gz2_total-votes',\n",
       "       'bulge-shape-gz2_round_fraction', 'bulge-shape-gz2_boxy_fraction',\n",
       "       'bulge-shape-gz2_no-bulge_fraction',\n",
       "       'spiral-winding-gz2_total-votes',\n",
       "       'spiral-winding-gz2_tight_fraction',\n",
       "       'spiral-winding-gz2_medium_fraction',\n",
       "       'spiral-winding-gz2_loose_fraction',\n",
       "       'spiral-arm-count-gz2_total-votes',\n",
       "       'spiral-arm-count-gz2_1_fraction',\n",
       "       'spiral-arm-count-gz2_2_fraction',\n",
       "       'spiral-arm-count-gz2_3_fraction',\n",
       "       'spiral-arm-count-gz2_4_fraction',\n",
       "       'spiral-arm-count-gz2_more-than-4_fraction',\n",
       "       'spiral-arm-count-gz2_cant-tell_fraction', 'best_match',\n",
       "       'sky_separation', 'ra_desi', 'dec_desi', 'dr8_id'], dtype=object)"
      ]
     },
     "execution_count": 75,
     "metadata": {},
     "output_type": "execute_result"
    }
   ],
   "source": [
    "# merge in gz2 matches on dr8_id\n",
    "gz2_desi_matches = pd.read_csv('/Users/user/repos/zoobot-3d/data/gz2_and_gz_desi_matches.csv')\n",
    "gz2_desi_matches.columns.values\n"
   ]
  },
  {
   "cell_type": "code",
   "execution_count": null,
   "metadata": {},
   "outputs": [],
   "source": []
  },
  {
   "cell_type": "code",
   "execution_count": 76,
   "metadata": {},
   "outputs": [],
   "source": [
    "gz2_cols = [col for col in gz2_desi_matches.columns.values if 'gz2' in col] + ['dr8_id']\n",
    "df = pd.merge(df, gz2_desi_matches[gz2_cols], how='left', on='dr8_id')"
   ]
  },
  {
   "cell_type": "code",
   "execution_count": 77,
   "metadata": {},
   "outputs": [],
   "source": [
    "df[label_metadata.gz2_ortho_label_cols] = df[label_metadata.gz2_ortho_label_cols].fillna(0)\n"
   ]
  },
  {
   "cell_type": "code",
   "execution_count": 78,
   "metadata": {},
   "outputs": [
    {
     "data": {
      "text/plain": [
       "0          0.0\n",
       "1         36.0\n",
       "2         31.0\n",
       "3          0.0\n",
       "4         22.0\n",
       "          ... \n",
       "415597     0.0\n",
       "415598     0.0\n",
       "415599     0.0\n",
       "415600     0.0\n",
       "415601     0.0\n",
       "Name: smooth-or-featured-gz2_smooth, Length: 415602, dtype: float64"
      ]
     },
     "execution_count": 78,
     "metadata": {},
     "output_type": "execute_result"
    }
   ],
   "source": [
    "df['smooth-or-featured-gz2_smooth']"
   ]
  },
  {
   "cell_type": "code",
   "execution_count": 79,
   "metadata": {},
   "outputs": [],
   "source": [
    "df.to_parquet('data/gz3d_and_desi_master_catalog.parquet', index=False)  # now with gz2 also"
   ]
  },
  {
   "cell_type": "code",
   "execution_count": 80,
   "metadata": {},
   "outputs": [
    {
     "data": {
      "text/plain": [
       "array(['ra_manga', 'dec_manga', 'mangaid', 'iauname', 'ifudesignsize',\n",
       "       'manga_tileid', 'nsa_id', 'explorer_link',\n",
       "       'gz_total_classifications', 'gz_bar_votes', 'gz_spiral_votes',\n",
       "       'sample', 'relative_gz3d_fits_loc', 'best_match', 'sky_separation',\n",
       "       'ra_desi', 'dec_desi', 'dr8_id', 'mag_r', 'mag_g', 'mag_z',\n",
       "       'est_dr5_pixscale', 'galahad_fits_loc', 'galahad_jpg_loc',\n",
       "       'relative_desi_fits_loc', 'relative_desi_jpg_loc',\n",
       "       'relative_segmap_json_loc', 'relative_spiral_mask_loc',\n",
       "       'relative_bar_mask_loc', 'smooth-or-featured-dr12_smooth',\n",
       "       'smooth-or-featured-dr12_featured-or-disk',\n",
       "       'smooth-or-featured-dr12_artifact', 'disk-edge-on-dr12_yes',\n",
       "       'disk-edge-on-dr12_no', 'has-spiral-arms-dr12_yes',\n",
       "       'has-spiral-arms-dr12_no', 'bar-dr12_yes', 'bar-dr12_no',\n",
       "       'bulge-size-dr12_dominant', 'bulge-size-dr12_obvious',\n",
       "       'bulge-size-dr12_none', 'how-rounded-dr12_completely',\n",
       "       'how-rounded-dr12_in-between', 'how-rounded-dr12_cigar-shaped',\n",
       "       'edge-on-bulge-dr12_boxy', 'edge-on-bulge-dr12_none',\n",
       "       'edge-on-bulge-dr12_rounded', 'spiral-winding-dr12_tight',\n",
       "       'spiral-winding-dr12_medium', 'spiral-winding-dr12_loose',\n",
       "       'spiral-arm-count-dr12_1', 'spiral-arm-count-dr12_2',\n",
       "       'spiral-arm-count-dr12_3', 'spiral-arm-count-dr12_4',\n",
       "       'spiral-arm-count-dr12_more-than-4', 'merging-dr12_neither',\n",
       "       'merging-dr12_tidal-debris', 'merging-dr12_both',\n",
       "       'merging-dr12_merger', 'smooth-or-featured-dr5_smooth',\n",
       "       'smooth-or-featured-dr5_featured-or-disk',\n",
       "       'smooth-or-featured-dr5_artifact', 'disk-edge-on-dr5_yes',\n",
       "       'disk-edge-on-dr5_no', 'has-spiral-arms-dr5_yes',\n",
       "       'has-spiral-arms-dr5_no', 'bar-dr5_strong', 'bar-dr5_weak',\n",
       "       'bar-dr5_no', 'bulge-size-dr5_dominant', 'bulge-size-dr5_large',\n",
       "       'bulge-size-dr5_moderate', 'bulge-size-dr5_small',\n",
       "       'bulge-size-dr5_none', 'how-rounded-dr5_round',\n",
       "       'how-rounded-dr5_in-between', 'how-rounded-dr5_cigar-shaped',\n",
       "       'edge-on-bulge-dr5_boxy', 'edge-on-bulge-dr5_none',\n",
       "       'edge-on-bulge-dr5_rounded', 'spiral-winding-dr5_tight',\n",
       "       'spiral-winding-dr5_medium', 'spiral-winding-dr5_loose',\n",
       "       'spiral-arm-count-dr5_1', 'spiral-arm-count-dr5_2',\n",
       "       'spiral-arm-count-dr5_3', 'spiral-arm-count-dr5_4',\n",
       "       'spiral-arm-count-dr5_more-than-4',\n",
       "       'spiral-arm-count-dr5_cant-tell', 'merging-dr5_none',\n",
       "       'merging-dr5_minor-disturbance', 'merging-dr5_major-disturbance',\n",
       "       'merging-dr5_merger', 'smooth-or-featured-dr8_smooth',\n",
       "       'smooth-or-featured-dr8_featured-or-disk',\n",
       "       'smooth-or-featured-dr8_artifact', 'disk-edge-on-dr8_yes',\n",
       "       'disk-edge-on-dr8_no', 'has-spiral-arms-dr8_yes',\n",
       "       'has-spiral-arms-dr8_no', 'bar-dr8_strong', 'bar-dr8_weak',\n",
       "       'bar-dr8_no', 'bulge-size-dr8_dominant', 'bulge-size-dr8_large',\n",
       "       'bulge-size-dr8_moderate', 'bulge-size-dr8_small',\n",
       "       'bulge-size-dr8_none', 'how-rounded-dr8_round',\n",
       "       'how-rounded-dr8_in-between', 'how-rounded-dr8_cigar-shaped',\n",
       "       'edge-on-bulge-dr8_boxy', 'edge-on-bulge-dr8_none',\n",
       "       'edge-on-bulge-dr8_rounded', 'spiral-winding-dr8_tight',\n",
       "       'spiral-winding-dr8_medium', 'spiral-winding-dr8_loose',\n",
       "       'spiral-arm-count-dr8_1', 'spiral-arm-count-dr8_2',\n",
       "       'spiral-arm-count-dr8_3', 'spiral-arm-count-dr8_4',\n",
       "       'spiral-arm-count-dr8_more-than-4',\n",
       "       'spiral-arm-count-dr8_cant-tell', 'merging-dr8_none',\n",
       "       'merging-dr8_minor-disturbance', 'merging-dr8_major-disturbance',\n",
       "       'merging-dr8_merger',\n",
       "       'smooth-or-featured_featured-or-disk_fraction',\n",
       "       'disk-edge-on_yes_fraction', 'has-spiral-arms_yes_fraction',\n",
       "       'spiral-arm-count_2_fraction', 'brickid', 'objid', 'ra_gz2',\n",
       "       'dec_gz2', 'smooth-or-featured-gz2_smooth',\n",
       "       'smooth-or-featured-gz2_featured-or-disk',\n",
       "       'smooth-or-featured-gz2_artifact', 'disk-edge-on-gz2_yes',\n",
       "       'disk-edge-on-gz2_no', 'bar-gz2_yes', 'bar-gz2_no',\n",
       "       'has-spiral-arms-gz2_yes', 'has-spiral-arms-gz2_no',\n",
       "       'bulge-size-gz2_no', 'bulge-size-gz2_just-noticeable',\n",
       "       'bulge-size-gz2_obvious', 'bulge-size-gz2_dominant',\n",
       "       'something-odd-gz2_yes', 'something-odd-gz2_no',\n",
       "       'how-rounded-gz2_round', 'how-rounded-gz2_in-between',\n",
       "       'how-rounded-gz2_cigar', 'bulge-shape-gz2_round',\n",
       "       'bulge-shape-gz2_boxy', 'bulge-shape-gz2_no-bulge',\n",
       "       'spiral-winding-gz2_tight', 'spiral-winding-gz2_medium',\n",
       "       'spiral-winding-gz2_loose', 'spiral-arm-count-gz2_1',\n",
       "       'spiral-arm-count-gz2_2', 'spiral-arm-count-gz2_3',\n",
       "       'spiral-arm-count-gz2_4', 'spiral-arm-count-gz2_more-than-4',\n",
       "       'spiral-arm-count-gz2_cant-tell',\n",
       "       'smooth-or-featured-gz2_total-votes',\n",
       "       'smooth-or-featured-gz2_smooth_fraction',\n",
       "       'smooth-or-featured-gz2_featured-or-disk_fraction',\n",
       "       'smooth-or-featured-gz2_artifact_fraction',\n",
       "       'disk-edge-on-gz2_total-votes', 'disk-edge-on-gz2_yes_fraction',\n",
       "       'disk-edge-on-gz2_no_fraction', 'has-spiral-arms-gz2_total-votes',\n",
       "       'has-spiral-arms-gz2_yes_fraction',\n",
       "       'has-spiral-arms-gz2_no_fraction', 'bar-gz2_total-votes',\n",
       "       'bar-gz2_yes_fraction', 'bar-gz2_no_fraction',\n",
       "       'bulge-size-gz2_total-votes', 'bulge-size-gz2_dominant_fraction',\n",
       "       'bulge-size-gz2_obvious_fraction',\n",
       "       'bulge-size-gz2_just-noticeable_fraction',\n",
       "       'bulge-size-gz2_no_fraction', 'something-odd-gz2_total-votes',\n",
       "       'something-odd-gz2_yes_fraction', 'something-odd-gz2_no_fraction',\n",
       "       'how-rounded-gz2_total-votes', 'how-rounded-gz2_round_fraction',\n",
       "       'how-rounded-gz2_in-between_fraction',\n",
       "       'how-rounded-gz2_cigar_fraction', 'bulge-shape-gz2_total-votes',\n",
       "       'bulge-shape-gz2_round_fraction', 'bulge-shape-gz2_boxy_fraction',\n",
       "       'bulge-shape-gz2_no-bulge_fraction',\n",
       "       'spiral-winding-gz2_total-votes',\n",
       "       'spiral-winding-gz2_tight_fraction',\n",
       "       'spiral-winding-gz2_medium_fraction',\n",
       "       'spiral-winding-gz2_loose_fraction',\n",
       "       'spiral-arm-count-gz2_total-votes',\n",
       "       'spiral-arm-count-gz2_1_fraction',\n",
       "       'spiral-arm-count-gz2_2_fraction',\n",
       "       'spiral-arm-count-gz2_3_fraction',\n",
       "       'spiral-arm-count-gz2_4_fraction',\n",
       "       'spiral-arm-count-gz2_more-than-4_fraction',\n",
       "       'spiral-arm-count-gz2_cant-tell_fraction'], dtype=object)"
      ]
     },
     "execution_count": 80,
     "metadata": {},
     "output_type": "execute_result"
    }
   ],
   "source": [
    "df.columns.values"
   ]
  },
  {
   "cell_type": "code",
   "execution_count": 81,
   "metadata": {},
   "outputs": [
    {
     "data": {
      "text/plain": [
       "'data/gz3d/segmaps/masks_constnorm/gz3d_1-379196_127_14728482_spiral.jpg'"
      ]
     },
     "execution_count": 81,
     "metadata": {},
     "output_type": "execute_result"
    }
   ],
   "source": [
    "df['relative_spiral_mask_loc'][0]"
   ]
  },
  {
   "cell_type": "code",
   "execution_count": null,
   "metadata": {},
   "outputs": [],
   "source": []
  }
 ],
 "metadata": {
  "kernelspec": {
   "display_name": "dev",
   "language": "python",
   "name": "python3"
  },
  "language_info": {
   "codemirror_mode": {
    "name": "ipython",
    "version": 3
   },
   "file_extension": ".py",
   "mimetype": "text/x-python",
   "name": "python",
   "nbconvert_exporter": "python",
   "pygments_lexer": "ipython3",
   "version": "3.8.16"
  },
  "orig_nbformat": 4
 },
 "nbformat": 4,
 "nbformat_minor": 2
}
